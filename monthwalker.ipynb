{
 "cells": [
  {
   "cell_type": "code",
   "execution_count": 1,
   "metadata": {},
   "outputs": [
    {
     "name": "stderr",
     "output_type": "stream",
     "text": [
      "/Users/victor/opt/anaconda3/envs/ust/lib/python3.9/site-packages/past/builtins/misc.py:45: DeprecationWarning: the imp module is deprecated in favour of importlib; see the module's documentation for alternative uses\n",
      "  from imp import reload\n"
     ]
    }
   ],
   "source": [
    "import pandas as pd\n",
    "import pickle\n",
    "import os\n",
    "from datetime import datetime\n",
    "from dateutil.relativedelta import relativedelta\n",
    "\n",
    "\n",
    "from tqdm.notebook import tqdm\n",
    "tqdm.pandas()\n",
    "from utils import full_clean, create_subframe, create_t3_df, create_t1_df, get_parallel_edges, create_complete_df, merge_df,\\\n",
    "    get_parallel_edges, get_weighted_edges, get_edge_info, create_post_comment_name_id"
   ]
  },
  {
   "cell_type": "markdown",
   "metadata": {},
   "source": [
    "# Import the bot list retrieved online"
   ]
  },
  {
   "cell_type": "code",
   "execution_count": 2,
   "metadata": {},
   "outputs": [],
   "source": [
    "bot_list = pd.read_csv('/Users/victor/Desktop/CS/UST_summer/bot_list.csv')\n",
    "bot_list['Username'] = bot_list.Username.apply(lambda x: x[3:])"
   ]
  },
  {
   "cell_type": "markdown",
   "metadata": {},
   "source": [
    "# Import the top spammers who are considered as bots"
   ]
  },
  {
   "cell_type": "code",
   "execution_count": 3,
   "metadata": {},
   "outputs": [],
   "source": [
    "popular_author = pd.read_csv('/Users/victor/Desktop/CS/UST_summer/10k_sub_final.csv')\n",
    "popular_bot = popular_author[popular_author.is_bot == 1]"
   ]
  },
  {
   "cell_type": "markdown",
   "metadata": {},
   "source": [
    "--------\n",
    "<h1>Proper work</h1>"
   ]
  },
  {
   "cell_type": "code",
   "execution_count": null,
   "metadata": {},
   "outputs": [],
   "source": [
    "# #month walker\n",
    "# def month_walker(comment_df, post_df, year, month):\n",
    "#     month_info = dict()\n",
    "#     concat_df = merge_df(comment_df, post_df)\n",
    "#     #clean dataframe\n",
    "#     bot, cleaned_df = full_clean(concat_df, bot_list, popular_bot, by_parent=True)\n",
    "#     #get the output df list\n",
    "#     df_list = create_subframe(year, month, cleaned_df)\n",
    "#     day = 1\n",
    "#     for daydf in df_list:\n",
    "#         #get t3_df\n",
    "#         t3_name_id, t3_df = create_t3_df(daydf)\n",
    "#         #get t1_df\n",
    "#         t1_name_id, t1_df = create_t1_df(daydf)\n",
    "#         #concat the t1 and t3 df to get the complete dataframe\n",
    "#         complete_df = create_complete_df(t1_name_id, t1_df, t3_name_id, t3_df)\n",
    "        \n",
    "#         #get weighted edge list   \n",
    "#         parallel_edges = get_parallel_edges(complete_df, daydf)\n",
    "#         weighted_edges = get_weighted_edges(parallel_edges)\n",
    "#         weighted_edges['inverse_weight'] = 1/weighted_edges['weight']\n",
    "        \n",
    "#         # get the information\n",
    "#         # get the list of post author names\n",
    "#         daydf = daydf[daydf['parent_id']==0]\n",
    "#         post_authors = daydf['author'].to_numpy()\n",
    "#         edge_info = get_edge_info(weighted_edges, post_authors)\n",
    "        \n",
    "        \n",
    "#         #this saves the df to the month network list\n",
    "#         month_info.update({day: edge_info})\n",
    "#         day += 1\n",
    "        \n",
    "#     return month_info"
   ]
  },
  {
   "cell_type": "code",
   "execution_count": null,
   "metadata": {},
   "outputs": [],
   "source": [
    "def month_walker(comment_df, post_df, year, month):\n",
    "    # clean the comment df\n",
    "    comment_bot, comment_df = full_clean(comment_df, bot_list, popular_bot, by_parent=True)\n",
    "    # clean the post df\n",
    "    post_bot, post_df = full_clean(post_df, bot_list, popular_bot)\n",
    "    # cut the post df by month\n",
    "    startdate = datetime(year, month, 1, 0)\n",
    "    enddate = startdate + relativedelta(month=1)\n",
    "    post_df = post_df[(post_df.created_utc >= startdate.timestamp()) & (post_df.created_utc < enddate.timestamp())]\n",
    "    # create the t1 and t3 id:name key value pair\n",
    "    t3_name_id, t1_name_id = create_post_comment_name_id(post_df, comment_df)\n",
    "    # concat the comment and post df\n",
    "    concat_df = merge_df(comment_df, post_df)\n",
    "    # create the t1 and t3 df\n",
    "    t1_df = create_t1_df(concat_df)\n",
    "    t3_df = create_t3_df(concat_df)\n",
    "    # create the complete df\n",
    "    complete_df = create_complete_df(t1_name_id, t1_df, t3_name_id, t3_df)\n",
    "    # create the parallel and weighted edgelist\n",
    "    parallel_edges = get_parallel_edges(complete_df, concat_df)\n",
    "    weighted_edges = get_weighted_edges(parallel_edges)\n",
    "    weighted_edges['inverse_weight'] = 1/weighted_edges['weight']\n",
    "    \n",
    "    # save the edgelists ......"
   ]
  },
  {
   "cell_type": "markdown",
   "metadata": {},
   "source": [
    "----------\n",
    "<h1>Test</h1>"
   ]
  },
  {
   "cell_type": "code",
   "execution_count": 4,
   "metadata": {},
   "outputs": [],
   "source": [
    "fp_comment = '/Users/victor/Desktop/CS/UST_summer/01-20_comments.csv'\n",
    "comment_df = pd.read_csv(fp_comment, low_memory = False)[['author', 'id', 'created_utc', 'link_id', 'parent_id']]\n",
    "fp_post = '/Users/victor/Desktop/CS/UST_summer/all_posts_clean_1.csv'\n",
    "post_df = pd.read_csv(fp_post, low_memory = False)[['author', 'id', 'created_utc']]\n",
    "# cut the post_df into month\n",
    "post_df = post_df[(post_df.created_utc >= 1609459200) & (post_df.created_utc < 1612137600)]"
   ]
  },
  {
   "cell_type": "code",
   "execution_count": 5,
   "metadata": {},
   "outputs": [
    {
     "data": {
      "application/vnd.jupyter.widget-view+json": {
       "model_id": "12fc6981abb94f03b0dac2b2e8f6dafd",
       "version_major": 2,
       "version_minor": 0
      },
      "text/plain": [
       "  0%|          | 0/452604 [00:00<?, ?it/s]"
      ]
     },
     "metadata": {},
     "output_type": "display_data"
    }
   ],
   "source": [
    "comment_bot, comment_df = full_clean(comment_df, bot_list, popular_bot, by_parent=True)"
   ]
  },
  {
   "cell_type": "code",
   "execution_count": 6,
   "metadata": {},
   "outputs": [
    {
     "data": {
      "application/vnd.jupyter.widget-view+json": {
       "model_id": "428baddbed0644848e1283fea312ecb4",
       "version_major": 2,
       "version_minor": 0
      },
      "text/plain": [
       "  0%|          | 0/373878 [00:00<?, ?it/s]"
      ]
     },
     "metadata": {},
     "output_type": "display_data"
    }
   ],
   "source": [
    "post_bot, post_df = full_clean(post_df, bot_list, popular_bot)"
   ]
  },
  {
   "cell_type": "code",
   "execution_count": 7,
   "metadata": {},
   "outputs": [],
   "source": [
    "t3_name_id, t1_name_id = create_post_comment_name_id(post_df, comment_df)"
   ]
  },
  {
   "cell_type": "code",
   "execution_count": 8,
   "metadata": {},
   "outputs": [],
   "source": [
    "concat_df = merge_df(comment_df, post_df)"
   ]
  },
  {
   "cell_type": "code",
   "execution_count": 9,
   "metadata": {},
   "outputs": [
    {
     "name": "stderr",
     "output_type": "stream",
     "text": [
      "/Users/victor/Desktop/CS/UST_summer/utils/dataframe_utils.py:132: SettingWithCopyWarning: \n",
      "A value is trying to be set on a copy of a slice from a DataFrame.\n",
      "Try using .loc[row_indexer,col_indexer] = value instead\n",
      "\n",
      "See the caveats in the documentation: https://pandas.pydata.org/pandas-docs/stable/user_guide/indexing.html#returning-a-view-versus-a-copy\n",
      "  level_1_comments['merged'] = level_1_comments.apply(lambda x: {x['author']:x['created_utc']}, axis=1) #merge author and created_utc into dict\n"
     ]
    },
    {
     "data": {
      "application/vnd.jupyter.widget-view+json": {
       "model_id": "b2566add9def486795f8d9f6a56248c3",
       "version_major": 2,
       "version_minor": 0
      },
      "text/plain": [
       "  0%|          | 0/5181 [00:00<?, ?it/s]"
      ]
     },
     "metadata": {},
     "output_type": "display_data"
    }
   ],
   "source": [
    "t3_df = create_t3_df(concat_df)"
   ]
  },
  {
   "cell_type": "code",
   "execution_count": 10,
   "metadata": {},
   "outputs": [
    {
     "name": "stderr",
     "output_type": "stream",
     "text": [
      "/Users/victor/Desktop/CS/UST_summer/utils/dataframe_utils.py:155: SettingWithCopyWarning: \n",
      "A value is trying to be set on a copy of a slice from a DataFrame.\n",
      "Try using .loc[row_indexer,col_indexer] = value instead\n",
      "\n",
      "See the caveats in the documentation: https://pandas.pydata.org/pandas-docs/stable/user_guide/indexing.html#returning-a-view-versus-a-copy\n",
      "  sub_comments['merged'] = sub_comments.apply(lambda x: {x['author']:x['created_utc']}, axis=1) #merge author and created_utc into dict\n"
     ]
    },
    {
     "data": {
      "application/vnd.jupyter.widget-view+json": {
       "model_id": "0e4d11b78a0648da8c7e245fca8ce87d",
       "version_major": 2,
       "version_minor": 0
      },
      "text/plain": [
       "  0%|          | 0/33625 [00:00<?, ?it/s]"
      ]
     },
     "metadata": {},
     "output_type": "display_data"
    }
   ],
   "source": [
    "t1_df = create_t1_df(concat_df)"
   ]
  },
  {
   "cell_type": "code",
   "execution_count": 11,
   "metadata": {},
   "outputs": [],
   "source": [
    "complete_df = create_complete_df(t1_name_id, t1_df, t3_name_id, t3_df)"
   ]
  },
  {
   "cell_type": "code",
   "execution_count": null,
   "metadata": {},
   "outputs": [],
   "source": [
    "author_list = complete_df.merged.iloc[0]\n",
    "author_list"
   ]
  },
  {
   "cell_type": "code",
   "execution_count": null,
   "metadata": {},
   "outputs": [],
   "source": [
    "author = author_list[0]\n",
    "k,v = next((str(k), str(v)) for k, v in author.items())\n",
    "type(k)\n",
    "    "
   ]
  },
  {
   "cell_type": "code",
   "execution_count": 12,
   "metadata": {},
   "outputs": [],
   "source": [
    "parallel_edges = get_parallel_edges(complete_df, concat_df)\n",
    "weighted_edges = get_weighted_edges(parallel_edges)\n",
    "weighted_edges['inverse_weight'] = 1/weighted_edges['weight']"
   ]
  },
  {
   "cell_type": "code",
   "execution_count": null,
   "metadata": {},
   "outputs": [],
   "source": []
  }
 ],
 "metadata": {
  "kernelspec": {
   "display_name": "Python 3",
   "language": "python",
   "name": "python3"
  },
  "language_info": {
   "codemirror_mode": {
    "name": "ipython",
    "version": 3
   },
   "file_extension": ".py",
   "mimetype": "text/x-python",
   "name": "python",
   "nbconvert_exporter": "python",
   "pygments_lexer": "ipython3",
   "version": "3.9.12"
  },
  "vscode": {
   "interpreter": {
    "hash": "864791b727c67594ba35b846e2fef3ab0cf2138c660c288cb4b982d81a4cb57f"
   }
  }
 },
 "nbformat": 4,
 "nbformat_minor": 4
}
