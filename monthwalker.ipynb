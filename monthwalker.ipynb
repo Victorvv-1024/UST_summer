{
 "cells": [
  {
   "cell_type": "code",
   "execution_count": 1,
   "metadata": {},
   "outputs": [
    {
     "name": "stderr",
     "output_type": "stream",
     "text": [
      "/Users/victor/opt/anaconda3/envs/ust/lib/python3.9/site-packages/past/builtins/misc.py:45: DeprecationWarning: the imp module is deprecated in favour of importlib; see the module's documentation for alternative uses\n",
      "  from imp import reload\n"
     ]
    }
   ],
   "source": [
    "import pandas as pd\n",
    "import pickle\n",
    "import os\n",
    "from datetime import datetime\n",
    "from dateutil.relativedelta import relativedelta\n",
    "\n",
    "\n",
    "from tqdm.notebook import tqdm\n",
    "tqdm.pandas()\n",
    "from utils import full_clean, create_subframe, create_t3_df, create_t1_df, get_parallel_edges, create_complete_df, merge_df,\\\n",
    "    get_parallel_edges, get_weighted_edges, get_edge_info, create_post_comment_name_id\n",
    "from utils.clean_df import advanced_clean"
   ]
  },
  {
   "cell_type": "markdown",
   "metadata": {},
   "source": [
    "# Import the bot list retrieved online"
   ]
  },
  {
   "cell_type": "code",
   "execution_count": null,
   "metadata": {},
   "outputs": [],
   "source": [
    "bot_list = pd.read_csv('/Users/victor/Desktop/CS/UST_summer/bot_list.csv')\n",
    "bot_list['Username'] = bot_list.Username.apply(lambda x: x[3:])"
   ]
  },
  {
   "cell_type": "markdown",
   "metadata": {},
   "source": [
    "# Import the top spammers who are considered as bots"
   ]
  },
  {
   "cell_type": "code",
   "execution_count": null,
   "metadata": {},
   "outputs": [],
   "source": [
    "popular_author = pd.read_csv('/Users/victor/Desktop/CS/UST_summer/10k_sub_final.csv')\n",
    "popular_bot = popular_author[popular_author.is_bot == 1]"
   ]
  },
  {
   "cell_type": "markdown",
   "metadata": {},
   "source": [
    "--------\n",
    "<h1>Proper work</h1>"
   ]
  },
  {
   "cell_type": "code",
   "execution_count": null,
   "metadata": {},
   "outputs": [],
   "source": [
    "# #month walker\n",
    "# def month_walker(comment_df, post_df, year, month):\n",
    "#     month_info = dict()\n",
    "#     concat_df = merge_df(comment_df, post_df)\n",
    "#     #clean dataframe\n",
    "#     bot, cleaned_df = full_clean(concat_df, bot_list, popular_bot, by_parent=True)\n",
    "#     #get the output df list\n",
    "#     df_list = create_subframe(year, month, cleaned_df)\n",
    "#     day = 1\n",
    "#     for daydf in df_list:\n",
    "#         #get t3_df\n",
    "#         t3_name_id, t3_df = create_t3_df(daydf)\n",
    "#         #get t1_df\n",
    "#         t1_name_id, t1_df = create_t1_df(daydf)\n",
    "#         #concat the t1 and t3 df to get the complete dataframe\n",
    "#         complete_df = create_complete_df(t1_name_id, t1_df, t3_name_id, t3_df)\n",
    "        \n",
    "#         #get weighted edge list   \n",
    "#         parallel_edges = get_parallel_edges(complete_df, daydf)\n",
    "#         weighted_edges = get_weighted_edges(parallel_edges)\n",
    "#         weighted_edges['inverse_weight'] = 1/weighted_edges['weight']\n",
    "        \n",
    "#         # get the information\n",
    "#         # get the list of post author names\n",
    "#         daydf = daydf[daydf['parent_id']==0]\n",
    "#         post_authors = daydf['author'].to_numpy()\n",
    "#         edge_info = get_edge_info(weighted_edges, post_authors)\n",
    "        \n",
    "        \n",
    "#         #this saves the df to the month network list\n",
    "#         month_info.update({day: edge_info})\n",
    "#         day += 1\n",
    "        \n",
    "#     return month_info"
   ]
  },
  {
   "cell_type": "code",
   "execution_count": null,
   "metadata": {},
   "outputs": [],
   "source": [
    "def month_walker(comment_df, post_df, year, month):\n",
    "    # clean the comment df\n",
    "    comment_bot, comment_df = full_clean(comment_df, bot_list, popular_bot, by_parent=True)\n",
    "    # clean the post df\n",
    "    post_bot, post_df = full_clean(post_df, bot_list, popular_bot)\n",
    "    # cut the post df by month\n",
    "    startdate = datetime(year, month, 1, 0)\n",
    "    startdate = startdate.timestamp()\n",
    "    enddate = startdate + relativedelta(month=1)\n",
    "    enddate = enddate.timestamp()\n",
    "    print(startdate)\n",
    "    print(enddate)\n",
    "    post_df = post_df[(post_df.created_utc >= startdate) & (post_df.created_utc < enddate)]\n",
    "    # create the t1 and t3 id:name key value pair\n",
    "    t3_name_id, t1_name_id = create_post_comment_name_id(post_df, comment_df)\n",
    "    # concat the comment and post df\n",
    "    concat_df = merge_df(comment_df, post_df)\n",
    "    # create the t1 and t3 df\n",
    "    t1_df = create_t1_df(concat_df)\n",
    "    t3_df = create_t3_df(concat_df)\n",
    "    # create the complete df\n",
    "    complete_df = create_complete_df(t1_name_id, t1_df, t3_name_id, t3_df)\n",
    "    # create the parallel and weighted edgelist\n",
    "    parallel_edges = get_parallel_edges(complete_df, concat_df)\n",
    "    weighted_edges = get_weighted_edges(parallel_edges)\n",
    "    weighted_edges['inverse_weight'] = 1/weighted_edges['weight']\n",
    "    \n",
    "    return parallel_edges\n",
    "    \n",
    "    # save the edgelists ......"
   ]
  },
  {
   "cell_type": "code",
   "execution_count": null,
   "metadata": {},
   "outputs": [],
   "source": [
    "fp_comment = '/Users/victor/Desktop/CS/UST_summer/01-20_comments.csv'\n",
    "comment_df = pd.read_csv(fp_comment, low_memory = False)[['author', 'id', 'created_utc', 'link_id', 'parent_id']]\n",
    "fp_post = '/Users/victor/Desktop/CS/UST_summer/all_posts_clean_1.csv'\n",
    "post_df = pd.read_csv(fp_post, low_memory = False)[['author', 'id', 'created_utc']]"
   ]
  },
  {
   "cell_type": "code",
   "execution_count": null,
   "metadata": {},
   "outputs": [],
   "source": [
    "parallel_edges = month_walker(comment_df, post_df, 2020, 1)"
   ]
  },
  {
   "cell_type": "markdown",
   "metadata": {},
   "source": [
    "----------\n",
    "<h1>Test</h1>"
   ]
  },
  {
   "cell_type": "code",
   "execution_count": null,
   "metadata": {},
   "outputs": [],
   "source": [
    "fp_comment = '/Users/victor/Desktop/CS/UST_summer/02-20_comments.csv'\n",
    "comment_df = pd.read_csv(fp_comment, low_memory = False)[['author', 'id', 'created_utc', 'link_id', 'parent_id']]\n",
    "fp_post = '/Users/victor/Desktop/CS/UST_summer/all_posts_clean_1.csv'\n",
    "post_df = pd.read_csv(fp_post, low_memory = False)[['author', 'id', 'created_utc']]"
   ]
  },
  {
   "cell_type": "code",
   "execution_count": null,
   "metadata": {},
   "outputs": [],
   "source": [
    "comment_bot, comment_df = full_clean(comment_df, bot_list, popular_bot, by_parent=True)"
   ]
  },
  {
   "cell_type": "code",
   "execution_count": null,
   "metadata": {},
   "outputs": [],
   "source": [
    "post_bot, post_df = full_clean(post_df, bot_list, popular_bot)"
   ]
  },
  {
   "cell_type": "code",
   "execution_count": null,
   "metadata": {},
   "outputs": [],
   "source": [
    "set(comment_bot.author)"
   ]
  },
  {
   "cell_type": "code",
   "execution_count": null,
   "metadata": {},
   "outputs": [],
   "source": [
    "set(post_bot.author)"
   ]
  },
  {
   "cell_type": "code",
   "execution_count": null,
   "metadata": {},
   "outputs": [],
   "source": [
    "t3_name_id, t1_name_id = create_post_comment_name_id(post_df, comment_df)"
   ]
  },
  {
   "cell_type": "code",
   "execution_count": null,
   "metadata": {},
   "outputs": [],
   "source": [
    "concat_df = merge_df(comment_df, post_df)"
   ]
  },
  {
   "cell_type": "code",
   "execution_count": null,
   "metadata": {},
   "outputs": [],
   "source": [
    "t3_df = create_t3_df(concat_df)"
   ]
  },
  {
   "cell_type": "code",
   "execution_count": null,
   "metadata": {},
   "outputs": [],
   "source": [
    "t1_df = create_t1_df(concat_df)"
   ]
  },
  {
   "cell_type": "code",
   "execution_count": null,
   "metadata": {},
   "outputs": [],
   "source": [
    "complete_df = create_complete_df(t1_name_id, t1_df, t3_name_id, t3_df)"
   ]
  },
  {
   "cell_type": "code",
   "execution_count": null,
   "metadata": {},
   "outputs": [],
   "source": [
    "author_list = complete_df.merged.iloc[0]\n",
    "author_list"
   ]
  },
  {
   "cell_type": "code",
   "execution_count": null,
   "metadata": {},
   "outputs": [],
   "source": [
    "author = author_list[0]\n",
    "k,v = next((str(k), str(v)) for k, v in author.items())\n",
    "type(k)\n",
    "    "
   ]
  },
  {
   "cell_type": "code",
   "execution_count": null,
   "metadata": {},
   "outputs": [],
   "source": [
    "parallel_edges = get_parallel_edges(complete_df, concat_df)\n",
    "weighted_edges = get_weighted_edges(parallel_edges)\n",
    "weighted_edges['inverse_weight'] = 1/weighted_edges['weight']"
   ]
  },
  {
   "cell_type": "code",
   "execution_count": null,
   "metadata": {},
   "outputs": [],
   "source": [
    "type_table = pd.read_csv('/Users/victor/Desktop/CS/UST_summer/type_table_final.csv')"
   ]
  },
  {
   "cell_type": "code",
   "execution_count": null,
   "metadata": {},
   "outputs": [],
   "source": [
    "type_table"
   ]
  },
  {
   "cell_type": "code",
   "execution_count": null,
   "metadata": {},
   "outputs": [],
   "source": [
    "type_df = pd.read_csv('/Users/victor/Desktop/CS/UST_summer/type_df_final.csv')"
   ]
  },
  {
   "cell_type": "code",
   "execution_count": null,
   "metadata": {},
   "outputs": [],
   "source": [
    "type_df"
   ]
  },
  {
   "cell_type": "markdown",
   "metadata": {},
   "source": [
    "------\n",
    "re-clean the dataframe"
   ]
  },
  {
   "cell_type": "code",
   "execution_count": 2,
   "metadata": {},
   "outputs": [],
   "source": [
    "fp = '/Users/victor/Desktop/CS/UST_summer/data/monthly_edgelist/01-20-edgelist.csv'\n",
    "edgelist = pd.read_csv(fp, low_memory=False)"
   ]
  },
  {
   "cell_type": "code",
   "execution_count": 3,
   "metadata": {},
   "outputs": [
    {
     "data": {
      "text/html": [
       "<div>\n",
       "<style scoped>\n",
       "    .dataframe tbody tr th:only-of-type {\n",
       "        vertical-align: middle;\n",
       "    }\n",
       "\n",
       "    .dataframe tbody tr th {\n",
       "        vertical-align: top;\n",
       "    }\n",
       "\n",
       "    .dataframe thead th {\n",
       "        text-align: right;\n",
       "    }\n",
       "</style>\n",
       "<table border=\"1\" class=\"dataframe\">\n",
       "  <thead>\n",
       "    <tr style=\"text-align: right;\">\n",
       "      <th></th>\n",
       "      <th>Unnamed: 0</th>\n",
       "      <th>Source</th>\n",
       "      <th>Target</th>\n",
       "      <th>is_main</th>\n",
       "      <th>source_utc</th>\n",
       "      <th>target_utc</th>\n",
       "      <th>main_is_old</th>\n",
       "    </tr>\n",
       "  </thead>\n",
       "  <tbody>\n",
       "    <tr>\n",
       "      <th>0</th>\n",
       "      <td>0</td>\n",
       "      <td>ShawnHans007</td>\n",
       "      <td>Logan_Maransy</td>\n",
       "      <td>0.0</td>\n",
       "      <td>1.580426e+09</td>\n",
       "      <td>1.580425e+09</td>\n",
       "      <td>0.0</td>\n",
       "    </tr>\n",
       "    <tr>\n",
       "      <th>1</th>\n",
       "      <td>1</td>\n",
       "      <td>oAneurysMo</td>\n",
       "      <td>Logan_Maransy</td>\n",
       "      <td>0.0</td>\n",
       "      <td>1.580426e+09</td>\n",
       "      <td>1.580425e+09</td>\n",
       "      <td>0.0</td>\n",
       "    </tr>\n",
       "    <tr>\n",
       "      <th>2</th>\n",
       "      <td>2</td>\n",
       "      <td>lkjhgfdsasdfghjkl</td>\n",
       "      <td>Logan_Maransy</td>\n",
       "      <td>0.0</td>\n",
       "      <td>1.580426e+09</td>\n",
       "      <td>1.580425e+09</td>\n",
       "      <td>0.0</td>\n",
       "    </tr>\n",
       "    <tr>\n",
       "      <th>3</th>\n",
       "      <td>3</td>\n",
       "      <td>Momar11</td>\n",
       "      <td>Logan_Maransy</td>\n",
       "      <td>0.0</td>\n",
       "      <td>1.580427e+09</td>\n",
       "      <td>1.580425e+09</td>\n",
       "      <td>0.0</td>\n",
       "    </tr>\n",
       "    <tr>\n",
       "      <th>4</th>\n",
       "      <td>4</td>\n",
       "      <td>dim-mi</td>\n",
       "      <td>Logan_Maransy</td>\n",
       "      <td>0.0</td>\n",
       "      <td>1.580427e+09</td>\n",
       "      <td>1.580425e+09</td>\n",
       "      <td>0.0</td>\n",
       "    </tr>\n",
       "    <tr>\n",
       "      <th>...</th>\n",
       "      <td>...</td>\n",
       "      <td>...</td>\n",
       "      <td>...</td>\n",
       "      <td>...</td>\n",
       "      <td>...</td>\n",
       "      <td>...</td>\n",
       "      <td>...</td>\n",
       "    </tr>\n",
       "    <tr>\n",
       "      <th>883170</th>\n",
       "      <td>883170</td>\n",
       "      <td>BubblesMan36</td>\n",
       "      <td>BubblesMan36</td>\n",
       "      <td>NaN</td>\n",
       "      <td>NaN</td>\n",
       "      <td>NaN</td>\n",
       "      <td>NaN</td>\n",
       "    </tr>\n",
       "    <tr>\n",
       "      <th>883171</th>\n",
       "      <td>883171</td>\n",
       "      <td>Shoddy_Ad9614</td>\n",
       "      <td>Shoddy_Ad9614</td>\n",
       "      <td>NaN</td>\n",
       "      <td>NaN</td>\n",
       "      <td>NaN</td>\n",
       "      <td>NaN</td>\n",
       "    </tr>\n",
       "    <tr>\n",
       "      <th>883172</th>\n",
       "      <td>883172</td>\n",
       "      <td>z12332</td>\n",
       "      <td>z12332</td>\n",
       "      <td>NaN</td>\n",
       "      <td>NaN</td>\n",
       "      <td>NaN</td>\n",
       "      <td>NaN</td>\n",
       "    </tr>\n",
       "    <tr>\n",
       "      <th>883173</th>\n",
       "      <td>883173</td>\n",
       "      <td>yeahwhateverchris</td>\n",
       "      <td>yeahwhateverchris</td>\n",
       "      <td>NaN</td>\n",
       "      <td>NaN</td>\n",
       "      <td>NaN</td>\n",
       "      <td>NaN</td>\n",
       "    </tr>\n",
       "    <tr>\n",
       "      <th>883174</th>\n",
       "      <td>883174</td>\n",
       "      <td>Front_Worldliness687</td>\n",
       "      <td>Front_Worldliness687</td>\n",
       "      <td>NaN</td>\n",
       "      <td>NaN</td>\n",
       "      <td>NaN</td>\n",
       "      <td>NaN</td>\n",
       "    </tr>\n",
       "  </tbody>\n",
       "</table>\n",
       "<p>883175 rows × 7 columns</p>\n",
       "</div>"
      ],
      "text/plain": [
       "        Unnamed: 0                Source                Target  is_main  \\\n",
       "0                0          ShawnHans007         Logan_Maransy      0.0   \n",
       "1                1            oAneurysMo         Logan_Maransy      0.0   \n",
       "2                2     lkjhgfdsasdfghjkl         Logan_Maransy      0.0   \n",
       "3                3               Momar11         Logan_Maransy      0.0   \n",
       "4                4                dim-mi         Logan_Maransy      0.0   \n",
       "...            ...                   ...                   ...      ...   \n",
       "883170      883170          BubblesMan36          BubblesMan36      NaN   \n",
       "883171      883171         Shoddy_Ad9614         Shoddy_Ad9614      NaN   \n",
       "883172      883172                z12332                z12332      NaN   \n",
       "883173      883173     yeahwhateverchris     yeahwhateverchris      NaN   \n",
       "883174      883174  Front_Worldliness687  Front_Worldliness687      NaN   \n",
       "\n",
       "          source_utc    target_utc  main_is_old  \n",
       "0       1.580426e+09  1.580425e+09          0.0  \n",
       "1       1.580426e+09  1.580425e+09          0.0  \n",
       "2       1.580426e+09  1.580425e+09          0.0  \n",
       "3       1.580427e+09  1.580425e+09          0.0  \n",
       "4       1.580427e+09  1.580425e+09          0.0  \n",
       "...              ...           ...          ...  \n",
       "883170           NaN           NaN          NaN  \n",
       "883171           NaN           NaN          NaN  \n",
       "883172           NaN           NaN          NaN  \n",
       "883173           NaN           NaN          NaN  \n",
       "883174           NaN           NaN          NaN  \n",
       "\n",
       "[883175 rows x 7 columns]"
      ]
     },
     "execution_count": 3,
     "metadata": {},
     "output_type": "execute_result"
    }
   ],
   "source": [
    "edgelist"
   ]
  },
  {
   "cell_type": "code",
   "execution_count": 4,
   "metadata": {},
   "outputs": [],
   "source": [
    "drop_indices = set()\n",
    "drop_author = set()\n",
    "for i, row in edgelist.iterrows():\n",
    "    source = row.Source\n",
    "    target = row.Target\n",
    "    \n",
    "    if advanced_clean(source):\n",
    "        drop_indices.add(i)\n",
    "        drop_author.add(source)\n",
    "    elif advanced_clean(target):\n",
    "        drop_indices.add(i)\n",
    "        drop_author.add(target)"
   ]
  },
  {
   "cell_type": "code",
   "execution_count": 5,
   "metadata": {},
   "outputs": [
    {
     "data": {
      "text/plain": [
       "540"
      ]
     },
     "execution_count": 5,
     "metadata": {},
     "output_type": "execute_result"
    }
   ],
   "source": [
    "len(drop_indices)"
   ]
  },
  {
   "cell_type": "code",
   "execution_count": 6,
   "metadata": {},
   "outputs": [],
   "source": [
    "edgelist.drop(index=list(drop_indices), inplace=True)"
   ]
  },
  {
   "cell_type": "code",
   "execution_count": 7,
   "metadata": {},
   "outputs": [
    {
     "data": {
      "text/html": [
       "<div>\n",
       "<style scoped>\n",
       "    .dataframe tbody tr th:only-of-type {\n",
       "        vertical-align: middle;\n",
       "    }\n",
       "\n",
       "    .dataframe tbody tr th {\n",
       "        vertical-align: top;\n",
       "    }\n",
       "\n",
       "    .dataframe thead th {\n",
       "        text-align: right;\n",
       "    }\n",
       "</style>\n",
       "<table border=\"1\" class=\"dataframe\">\n",
       "  <thead>\n",
       "    <tr style=\"text-align: right;\">\n",
       "      <th></th>\n",
       "      <th>Unnamed: 0</th>\n",
       "      <th>Source</th>\n",
       "      <th>Target</th>\n",
       "      <th>is_main</th>\n",
       "      <th>source_utc</th>\n",
       "      <th>target_utc</th>\n",
       "      <th>main_is_old</th>\n",
       "    </tr>\n",
       "  </thead>\n",
       "  <tbody>\n",
       "    <tr>\n",
       "      <th>0</th>\n",
       "      <td>0</td>\n",
       "      <td>ShawnHans007</td>\n",
       "      <td>Logan_Maransy</td>\n",
       "      <td>0.0</td>\n",
       "      <td>1.580426e+09</td>\n",
       "      <td>1.580425e+09</td>\n",
       "      <td>0.0</td>\n",
       "    </tr>\n",
       "    <tr>\n",
       "      <th>1</th>\n",
       "      <td>1</td>\n",
       "      <td>oAneurysMo</td>\n",
       "      <td>Logan_Maransy</td>\n",
       "      <td>0.0</td>\n",
       "      <td>1.580426e+09</td>\n",
       "      <td>1.580425e+09</td>\n",
       "      <td>0.0</td>\n",
       "    </tr>\n",
       "    <tr>\n",
       "      <th>2</th>\n",
       "      <td>2</td>\n",
       "      <td>lkjhgfdsasdfghjkl</td>\n",
       "      <td>Logan_Maransy</td>\n",
       "      <td>0.0</td>\n",
       "      <td>1.580426e+09</td>\n",
       "      <td>1.580425e+09</td>\n",
       "      <td>0.0</td>\n",
       "    </tr>\n",
       "    <tr>\n",
       "      <th>3</th>\n",
       "      <td>3</td>\n",
       "      <td>Momar11</td>\n",
       "      <td>Logan_Maransy</td>\n",
       "      <td>0.0</td>\n",
       "      <td>1.580427e+09</td>\n",
       "      <td>1.580425e+09</td>\n",
       "      <td>0.0</td>\n",
       "    </tr>\n",
       "    <tr>\n",
       "      <th>4</th>\n",
       "      <td>4</td>\n",
       "      <td>dim-mi</td>\n",
       "      <td>Logan_Maransy</td>\n",
       "      <td>0.0</td>\n",
       "      <td>1.580427e+09</td>\n",
       "      <td>1.580425e+09</td>\n",
       "      <td>0.0</td>\n",
       "    </tr>\n",
       "    <tr>\n",
       "      <th>...</th>\n",
       "      <td>...</td>\n",
       "      <td>...</td>\n",
       "      <td>...</td>\n",
       "      <td>...</td>\n",
       "      <td>...</td>\n",
       "      <td>...</td>\n",
       "      <td>...</td>\n",
       "    </tr>\n",
       "    <tr>\n",
       "      <th>883170</th>\n",
       "      <td>883170</td>\n",
       "      <td>BubblesMan36</td>\n",
       "      <td>BubblesMan36</td>\n",
       "      <td>NaN</td>\n",
       "      <td>NaN</td>\n",
       "      <td>NaN</td>\n",
       "      <td>NaN</td>\n",
       "    </tr>\n",
       "    <tr>\n",
       "      <th>883171</th>\n",
       "      <td>883171</td>\n",
       "      <td>Shoddy_Ad9614</td>\n",
       "      <td>Shoddy_Ad9614</td>\n",
       "      <td>NaN</td>\n",
       "      <td>NaN</td>\n",
       "      <td>NaN</td>\n",
       "      <td>NaN</td>\n",
       "    </tr>\n",
       "    <tr>\n",
       "      <th>883172</th>\n",
       "      <td>883172</td>\n",
       "      <td>z12332</td>\n",
       "      <td>z12332</td>\n",
       "      <td>NaN</td>\n",
       "      <td>NaN</td>\n",
       "      <td>NaN</td>\n",
       "      <td>NaN</td>\n",
       "    </tr>\n",
       "    <tr>\n",
       "      <th>883173</th>\n",
       "      <td>883173</td>\n",
       "      <td>yeahwhateverchris</td>\n",
       "      <td>yeahwhateverchris</td>\n",
       "      <td>NaN</td>\n",
       "      <td>NaN</td>\n",
       "      <td>NaN</td>\n",
       "      <td>NaN</td>\n",
       "    </tr>\n",
       "    <tr>\n",
       "      <th>883174</th>\n",
       "      <td>883174</td>\n",
       "      <td>Front_Worldliness687</td>\n",
       "      <td>Front_Worldliness687</td>\n",
       "      <td>NaN</td>\n",
       "      <td>NaN</td>\n",
       "      <td>NaN</td>\n",
       "      <td>NaN</td>\n",
       "    </tr>\n",
       "  </tbody>\n",
       "</table>\n",
       "<p>882635 rows × 7 columns</p>\n",
       "</div>"
      ],
      "text/plain": [
       "        Unnamed: 0                Source                Target  is_main  \\\n",
       "0                0          ShawnHans007         Logan_Maransy      0.0   \n",
       "1                1            oAneurysMo         Logan_Maransy      0.0   \n",
       "2                2     lkjhgfdsasdfghjkl         Logan_Maransy      0.0   \n",
       "3                3               Momar11         Logan_Maransy      0.0   \n",
       "4                4                dim-mi         Logan_Maransy      0.0   \n",
       "...            ...                   ...                   ...      ...   \n",
       "883170      883170          BubblesMan36          BubblesMan36      NaN   \n",
       "883171      883171         Shoddy_Ad9614         Shoddy_Ad9614      NaN   \n",
       "883172      883172                z12332                z12332      NaN   \n",
       "883173      883173     yeahwhateverchris     yeahwhateverchris      NaN   \n",
       "883174      883174  Front_Worldliness687  Front_Worldliness687      NaN   \n",
       "\n",
       "          source_utc    target_utc  main_is_old  \n",
       "0       1.580426e+09  1.580425e+09          0.0  \n",
       "1       1.580426e+09  1.580425e+09          0.0  \n",
       "2       1.580426e+09  1.580425e+09          0.0  \n",
       "3       1.580427e+09  1.580425e+09          0.0  \n",
       "4       1.580427e+09  1.580425e+09          0.0  \n",
       "...              ...           ...          ...  \n",
       "883170           NaN           NaN          NaN  \n",
       "883171           NaN           NaN          NaN  \n",
       "883172           NaN           NaN          NaN  \n",
       "883173           NaN           NaN          NaN  \n",
       "883174           NaN           NaN          NaN  \n",
       "\n",
       "[882635 rows x 7 columns]"
      ]
     },
     "execution_count": 7,
     "metadata": {},
     "output_type": "execute_result"
    }
   ],
   "source": [
    "edgelist"
   ]
  },
  {
   "cell_type": "markdown",
   "metadata": {},
   "source": [
    "----------"
   ]
  },
  {
   "cell_type": "code",
   "execution_count": 11,
   "metadata": {},
   "outputs": [],
   "source": [
    "path = '/Users/victor/Desktop/CS/UST_summer/data/monthly_edgelist_2021'\n",
    "for file in os.listdir(path):\n",
    "    if file.endswith('.csv'):\n",
    "        edgelist = pd.read_csv(os.path.join(path, file), low_memory=False)[['Source', 'Target', 'is_main', 'source_utc', 'target_utc','main_is_old']]\n",
    "        # clean starts here\n",
    "        # drop_indices = set()\n",
    "        # for i, row in edgelist.iterrows():\n",
    "        #     source = row.Source\n",
    "        #     target = row.Target\n",
    "        #     if advanced_clean(source) or advanced_clean(target):\n",
    "        #         drop_indices.add(i)\n",
    "                \n",
    "        # edgelist.drop(index=list(drop_indices), inplace=True)\n",
    "        \n",
    "        edgelist.to_csv(os.path.join(path, file))"
   ]
  },
  {
   "cell_type": "code",
   "execution_count": 12,
   "metadata": {},
   "outputs": [],
   "source": [
    "edge0120 = pd.read_csv('/Users/victor/Desktop/CS/UST_summer/data/monthly_edgelist_2020/01-20-edgelist.csv')"
   ]
  },
  {
   "cell_type": "code",
   "execution_count": 13,
   "metadata": {},
   "outputs": [
    {
     "data": {
      "text/html": [
       "<div>\n",
       "<style scoped>\n",
       "    .dataframe tbody tr th:only-of-type {\n",
       "        vertical-align: middle;\n",
       "    }\n",
       "\n",
       "    .dataframe tbody tr th {\n",
       "        vertical-align: top;\n",
       "    }\n",
       "\n",
       "    .dataframe thead th {\n",
       "        text-align: right;\n",
       "    }\n",
       "</style>\n",
       "<table border=\"1\" class=\"dataframe\">\n",
       "  <thead>\n",
       "    <tr style=\"text-align: right;\">\n",
       "      <th></th>\n",
       "      <th>Unnamed: 0</th>\n",
       "      <th>Source</th>\n",
       "      <th>Target</th>\n",
       "      <th>is_main</th>\n",
       "      <th>source_utc</th>\n",
       "      <th>target_utc</th>\n",
       "      <th>main_is_old</th>\n",
       "    </tr>\n",
       "  </thead>\n",
       "  <tbody>\n",
       "    <tr>\n",
       "      <th>0</th>\n",
       "      <td>0</td>\n",
       "      <td>ShawnHans007</td>\n",
       "      <td>Logan_Maransy</td>\n",
       "      <td>0.0</td>\n",
       "      <td>1.580426e+09</td>\n",
       "      <td>1.580425e+09</td>\n",
       "      <td>0.0</td>\n",
       "    </tr>\n",
       "    <tr>\n",
       "      <th>1</th>\n",
       "      <td>1</td>\n",
       "      <td>oAneurysMo</td>\n",
       "      <td>Logan_Maransy</td>\n",
       "      <td>0.0</td>\n",
       "      <td>1.580426e+09</td>\n",
       "      <td>1.580425e+09</td>\n",
       "      <td>0.0</td>\n",
       "    </tr>\n",
       "    <tr>\n",
       "      <th>2</th>\n",
       "      <td>2</td>\n",
       "      <td>lkjhgfdsasdfghjkl</td>\n",
       "      <td>Logan_Maransy</td>\n",
       "      <td>0.0</td>\n",
       "      <td>1.580426e+09</td>\n",
       "      <td>1.580425e+09</td>\n",
       "      <td>0.0</td>\n",
       "    </tr>\n",
       "    <tr>\n",
       "      <th>3</th>\n",
       "      <td>3</td>\n",
       "      <td>Momar11</td>\n",
       "      <td>Logan_Maransy</td>\n",
       "      <td>0.0</td>\n",
       "      <td>1.580427e+09</td>\n",
       "      <td>1.580425e+09</td>\n",
       "      <td>0.0</td>\n",
       "    </tr>\n",
       "    <tr>\n",
       "      <th>4</th>\n",
       "      <td>4</td>\n",
       "      <td>dim-mi</td>\n",
       "      <td>Logan_Maransy</td>\n",
       "      <td>0.0</td>\n",
       "      <td>1.580427e+09</td>\n",
       "      <td>1.580425e+09</td>\n",
       "      <td>0.0</td>\n",
       "    </tr>\n",
       "    <tr>\n",
       "      <th>...</th>\n",
       "      <td>...</td>\n",
       "      <td>...</td>\n",
       "      <td>...</td>\n",
       "      <td>...</td>\n",
       "      <td>...</td>\n",
       "      <td>...</td>\n",
       "      <td>...</td>\n",
       "    </tr>\n",
       "    <tr>\n",
       "      <th>882630</th>\n",
       "      <td>882630</td>\n",
       "      <td>BubblesMan36</td>\n",
       "      <td>BubblesMan36</td>\n",
       "      <td>NaN</td>\n",
       "      <td>NaN</td>\n",
       "      <td>NaN</td>\n",
       "      <td>NaN</td>\n",
       "    </tr>\n",
       "    <tr>\n",
       "      <th>882631</th>\n",
       "      <td>882631</td>\n",
       "      <td>Shoddy_Ad9614</td>\n",
       "      <td>Shoddy_Ad9614</td>\n",
       "      <td>NaN</td>\n",
       "      <td>NaN</td>\n",
       "      <td>NaN</td>\n",
       "      <td>NaN</td>\n",
       "    </tr>\n",
       "    <tr>\n",
       "      <th>882632</th>\n",
       "      <td>882632</td>\n",
       "      <td>z12332</td>\n",
       "      <td>z12332</td>\n",
       "      <td>NaN</td>\n",
       "      <td>NaN</td>\n",
       "      <td>NaN</td>\n",
       "      <td>NaN</td>\n",
       "    </tr>\n",
       "    <tr>\n",
       "      <th>882633</th>\n",
       "      <td>882633</td>\n",
       "      <td>yeahwhateverchris</td>\n",
       "      <td>yeahwhateverchris</td>\n",
       "      <td>NaN</td>\n",
       "      <td>NaN</td>\n",
       "      <td>NaN</td>\n",
       "      <td>NaN</td>\n",
       "    </tr>\n",
       "    <tr>\n",
       "      <th>882634</th>\n",
       "      <td>882634</td>\n",
       "      <td>Front_Worldliness687</td>\n",
       "      <td>Front_Worldliness687</td>\n",
       "      <td>NaN</td>\n",
       "      <td>NaN</td>\n",
       "      <td>NaN</td>\n",
       "      <td>NaN</td>\n",
       "    </tr>\n",
       "  </tbody>\n",
       "</table>\n",
       "<p>882635 rows × 7 columns</p>\n",
       "</div>"
      ],
      "text/plain": [
       "        Unnamed: 0                Source                Target  is_main  \\\n",
       "0                0          ShawnHans007         Logan_Maransy      0.0   \n",
       "1                1            oAneurysMo         Logan_Maransy      0.0   \n",
       "2                2     lkjhgfdsasdfghjkl         Logan_Maransy      0.0   \n",
       "3                3               Momar11         Logan_Maransy      0.0   \n",
       "4                4                dim-mi         Logan_Maransy      0.0   \n",
       "...            ...                   ...                   ...      ...   \n",
       "882630      882630          BubblesMan36          BubblesMan36      NaN   \n",
       "882631      882631         Shoddy_Ad9614         Shoddy_Ad9614      NaN   \n",
       "882632      882632                z12332                z12332      NaN   \n",
       "882633      882633     yeahwhateverchris     yeahwhateverchris      NaN   \n",
       "882634      882634  Front_Worldliness687  Front_Worldliness687      NaN   \n",
       "\n",
       "          source_utc    target_utc  main_is_old  \n",
       "0       1.580426e+09  1.580425e+09          0.0  \n",
       "1       1.580426e+09  1.580425e+09          0.0  \n",
       "2       1.580426e+09  1.580425e+09          0.0  \n",
       "3       1.580427e+09  1.580425e+09          0.0  \n",
       "4       1.580427e+09  1.580425e+09          0.0  \n",
       "...              ...           ...          ...  \n",
       "882630           NaN           NaN          NaN  \n",
       "882631           NaN           NaN          NaN  \n",
       "882632           NaN           NaN          NaN  \n",
       "882633           NaN           NaN          NaN  \n",
       "882634           NaN           NaN          NaN  \n",
       "\n",
       "[882635 rows x 7 columns]"
      ]
     },
     "execution_count": 13,
     "metadata": {},
     "output_type": "execute_result"
    }
   ],
   "source": [
    "edge0120"
   ]
  },
  {
   "cell_type": "code",
   "execution_count": null,
   "metadata": {},
   "outputs": [],
   "source": []
  }
 ],
 "metadata": {
  "kernelspec": {
   "display_name": "Python 3",
   "language": "python",
   "name": "python3"
  },
  "language_info": {
   "codemirror_mode": {
    "name": "ipython",
    "version": 3
   },
   "file_extension": ".py",
   "mimetype": "text/x-python",
   "name": "python",
   "nbconvert_exporter": "python",
   "pygments_lexer": "ipython3",
   "version": "3.9.12"
  },
  "vscode": {
   "interpreter": {
    "hash": "864791b727c67594ba35b846e2fef3ab0cf2138c660c288cb4b982d81a4cb57f"
   }
  }
 },
 "nbformat": 4,
 "nbformat_minor": 4
}
