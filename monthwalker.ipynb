{
 "cells": [
  {
   "cell_type": "code",
   "execution_count": 21,
   "metadata": {},
   "outputs": [],
   "source": [
    "import pandas as pd\n",
    "import numpy as np\n",
    "from datetime import datetime\n",
    "from dateutil.relativedelta import relativedelta\n",
    "import re\n",
    "import networkx as nx\n",
    "from tqdm.notebook import tqdm\n",
    "tqdm.pandas()\n",
    "import os\n",
    "import pickle"
   ]
  },
  {
   "cell_type": "markdown",
   "metadata": {},
   "source": [
    "# Import the bot list retrieved online"
   ]
  },
  {
   "cell_type": "code",
   "execution_count": 2,
   "metadata": {},
   "outputs": [],
   "source": [
    "bot_list = pd.read_csv('/Users/victor/Desktop/CS/UST_summer/bot_list.csv')\n",
    "bot_list['Username'] = bot_list.Username.apply(lambda x: x[3:])"
   ]
  },
  {
   "cell_type": "markdown",
   "metadata": {},
   "source": [
    "# Import the top spammers who are considered as bots"
   ]
  },
  {
   "cell_type": "code",
   "execution_count": 3,
   "metadata": {},
   "outputs": [
    {
     "data": {
      "text/html": [
       "<div>\n",
       "<style scoped>\n",
       "    .dataframe tbody tr th:only-of-type {\n",
       "        vertical-align: middle;\n",
       "    }\n",
       "\n",
       "    .dataframe tbody tr th {\n",
       "        vertical-align: top;\n",
       "    }\n",
       "\n",
       "    .dataframe thead th {\n",
       "        text-align: right;\n",
       "    }\n",
       "</style>\n",
       "<table border=\"1\" class=\"dataframe\">\n",
       "  <thead>\n",
       "    <tr style=\"text-align: right;\">\n",
       "      <th></th>\n",
       "      <th>author</th>\n",
       "      <th>is_bot</th>\n",
       "      <th>Unnamed: 2</th>\n",
       "      <th>Unnamed: 3</th>\n",
       "      <th>Unnamed: 4</th>\n",
       "      <th>Unnamed: 5</th>\n",
       "      <th>Unnamed: 6</th>\n",
       "    </tr>\n",
       "  </thead>\n",
       "  <tbody>\n",
       "    <tr>\n",
       "      <th>0</th>\n",
       "      <td>AutoModerator</td>\n",
       "      <td>1</td>\n",
       "      <td>NaN</td>\n",
       "      <td>NaN</td>\n",
       "      <td>NaN</td>\n",
       "      <td>NaN</td>\n",
       "      <td>NaN</td>\n",
       "    </tr>\n",
       "    <tr>\n",
       "      <th>25</th>\n",
       "      <td>VisualMod</td>\n",
       "      <td>1</td>\n",
       "      <td>NaN</td>\n",
       "      <td>NaN</td>\n",
       "      <td>NaN</td>\n",
       "      <td>NaN</td>\n",
       "      <td>NaN</td>\n",
       "    </tr>\n",
       "    <tr>\n",
       "      <th>27</th>\n",
       "      <td>___alexa___</td>\n",
       "      <td>1</td>\n",
       "      <td>NaN</td>\n",
       "      <td>NaN</td>\n",
       "      <td>NaN</td>\n",
       "      <td>NaN</td>\n",
       "      <td>NaN</td>\n",
       "    </tr>\n",
       "    <tr>\n",
       "      <th>32</th>\n",
       "      <td>dwdsquared2</td>\n",
       "      <td>1</td>\n",
       "      <td>NaN</td>\n",
       "      <td>NaN</td>\n",
       "      <td>NaN</td>\n",
       "      <td>NaN</td>\n",
       "      <td>NaN</td>\n",
       "    </tr>\n",
       "  </tbody>\n",
       "</table>\n",
       "</div>"
      ],
      "text/plain": [
       "           author  is_bot  Unnamed: 2  Unnamed: 3  Unnamed: 4  Unnamed: 5  \\\n",
       "0   AutoModerator       1         NaN         NaN         NaN         NaN   \n",
       "25      VisualMod       1         NaN         NaN         NaN         NaN   \n",
       "27    ___alexa___       1         NaN         NaN         NaN         NaN   \n",
       "32    dwdsquared2       1         NaN         NaN         NaN         NaN   \n",
       "\n",
       "    Unnamed: 6  \n",
       "0          NaN  \n",
       "25         NaN  \n",
       "27         NaN  \n",
       "32         NaN  "
      ]
     },
     "execution_count": 3,
     "metadata": {},
     "output_type": "execute_result"
    }
   ],
   "source": [
    "popular_author = pd.read_csv('/Users/victor/Desktop/CS/UST_summer/10k_sub_final.csv')\n",
    "\n",
    "popular_bot = popular_author[popular_author.is_bot == 1]\n",
    "popular_bot.head()"
   ]
  },
  {
   "cell_type": "code",
   "execution_count": 4,
   "metadata": {},
   "outputs": [],
   "source": [
    "def advanced_clean(name):\n",
    "    \n",
    "    tokens = re.findall(r'[A-Z](?:[A-Z]*(?![a-z])|[a-z]*)', name)\n",
    "    tokens = list(map(lambda x: x.lower(), tokens))\n",
    "    \n",
    "    tokens = list (map(lambda x: re.split('[^a-zA-Z]',x), tokens))\n",
    "    tokens = [item for sublist in tokens for item in sublist]\n",
    "    \n",
    "    if 'not' in tokens and 'bot' in tokens:\n",
    "        return False\n",
    "\n",
    "    elif 'bot' in tokens:\n",
    "        return True\n",
    "    \n",
    "    return False\n",
    "\n",
    "def create_name_id_dict(dataframe):    #create id:author dataframe\n",
    "    name_id = {}\n",
    "    for i in range(dataframe.shape[0]):\n",
    "        key = dataframe.id.iloc[i]\n",
    "        value = dataframe.author.iloc[i]\n",
    "\n",
    "        key_value_pair = {key:value}\n",
    "\n",
    "        name_id.update(key_value_pair)\n",
    "    return name_id\n",
    "\n",
    "def clean_by_parent(dataframe, name_id):\n",
    "    \"\"\"\n",
    "    A function that is used to clean any identified BOT from the parent_id in a dataframe\n",
    "    Args:\n",
    "        dataframe (pandas.dataframe): the dataframe to be exmained\n",
    "        name_id (dictionary): a dictionary having the id as the key, its corresponding name as value\n",
    "\n",
    "    Returns:\n",
    "        dataframe: the dataframe that is cleaned by parent_id\n",
    "    \"\"\"\n",
    "    drop_indices = []\n",
    "\n",
    "    for index, row in dataframe.iterrows():\n",
    "        uid = str(row['parent_id']).split('_')[-1]\n",
    "        # use the dictionary to find the corresponding author name\n",
    "        try:\n",
    "            author_name = name_id[uid]\n",
    "        except:\n",
    "            # this would happen if the poster created the post in posterior months\n",
    "            continue\n",
    "        if advanced_clean(author_name):\n",
    "            drop_indices.append(i)\n",
    "    \n",
    "    dataframe = dataframe.drop(drop_indices)\n",
    "    \n",
    "    return dataframe.reset_index(drop=True)\n",
    "\n",
    "def full_clean (dataframe):\n",
    "    # shallow clean\n",
    "    dataframe = dataframe[dataframe.author != '[deleted]']\n",
    "    dataframe = dataframe[dataframe.author != 'AutoModerator']\n",
    "    dataframe = dataframe[dataframe.author != 'VisualMod']\n",
    "    \n",
    "    # deep clean \n",
    "    dataframe['is_bot']  = dataframe['author'].progress_apply(advanced_clean)\n",
    "\n",
    "    dataframe = dataframe[dataframe.is_bot == False]\n",
    "    \n",
    "    # further clean\n",
    "    dataframe['is_bot'] = dataframe.author.isin(bot_list.Username)\n",
    "\n",
    "    dataframe = dataframe[dataframe.is_bot == False]\n",
    "    \n",
    "    dataframe['is_bot'] = dataframe.author.isin(popular_bot.author)\n",
    "\n",
    "    dataframe = dataframe[dataframe.is_bot == False]\n",
    "    \n",
    "    # clean by parent_id\n",
    "    dataframe = clean_by_parent(dataframe, create_name_id_dict(dataframe))\n",
    "    \n",
    "    return dataframe"
   ]
  },
  {
   "cell_type": "markdown",
   "metadata": {},
   "source": [
    "# Create daily subdataframe"
   ]
  },
  {
   "cell_type": "code",
   "execution_count": 5,
   "metadata": {},
   "outputs": [],
   "source": [
    "def workout_time(year, month):\n",
    "  \"\"\"\n",
    "  A function that works out the timestamps of each day in a month\n",
    "  Args:\n",
    "      year (int): the year\n",
    "      month (int): the month\n",
    "\n",
    "  Returns:\n",
    "      day_list: the timestamp of each day in a month\n",
    "  \"\"\"\n",
    "  max_day = 31\n",
    "  month_list = [4, 6, 9, 11]\n",
    "\n",
    "  if year == 2020 and month == 2:\n",
    "    max_day = 29\n",
    "  elif month == 2:\n",
    "    max_day = 28\n",
    "  elif month in month_list:\n",
    "    max_day = 30\n",
    "  \n",
    "  start_date = datetime(year, month, 1, 0) # always start at the first day on each month\n",
    "\n",
    "  day_list = []\n",
    "\n",
    "  for i in range(max_day):\n",
    "    count_time = start_date + relativedelta(days=i)\n",
    "    count_time = count_time.timestamp()\n",
    "    day_list.append(count_time)\n",
    "  \n",
    "  return day_list"
   ]
  },
  {
   "cell_type": "code",
   "execution_count": 6,
   "metadata": {},
   "outputs": [],
   "source": [
    "def create_subframe(year, month, dataframe):\n",
    "  \"\"\"\n",
    "  A funtion that creates sub_dataframes from the parent dataframe based on number of days\n",
    "  Args:\n",
    "      year (int): the year\n",
    "      month (int): the month\n",
    "      dataframe(pandas.dataframe): the MONTH dataframe we are examine\n",
    "\n",
    "  Returns:\n",
    "      df_list: a list of DAY dataframe\n",
    "  \"\"\"\n",
    "  df_list = []\n",
    "\n",
    "  day_list = workout_time(year, month)\n",
    "\n",
    "  for i in range(len(day_list)-1):\n",
    "    left = day_list[i]\n",
    "    right = day_list[i+1]\n",
    "\n",
    "    day_df = dataframe[(dataframe.created_utc >= left) & (dataframe.created_utc < right)]\n",
    "    \n",
    "    df_list.append(day_df)\n",
    "  \n",
    "  return df_list"
   ]
  },
  {
   "cell_type": "code",
   "execution_count": 7,
   "metadata": {},
   "outputs": [],
   "source": [
    "def create_t3_name_id_dict(dataframe):    #create id:author dataframe\n",
    "    name_id = {}\n",
    "    for i in range(dataframe.shape[0]):\n",
    "        key = dataframe.id.iloc[i]\n",
    "        value = dataframe.author.iloc[i]\n",
    "\n",
    "        key_value_pair = {key:value}\n",
    "\n",
    "        name_id.update(key_value_pair)\n",
    "    return name_id\n"
   ]
  },
  {
   "cell_type": "code",
   "execution_count": 8,
   "metadata": {},
   "outputs": [],
   "source": [
    "def merge_df(comment_df, post_df):\n",
    "    col_zero = np.zeros(post_df.shape[0])\n",
    "    \n",
    "    post_df['parent_id'] = pd.Series(col_zero)\n",
    "    post_df['link_id'] = pd.Series(col_zero)\n",
    "    concat_df = pd.concat([comment_df, post_df])\n",
    "    return concat_df"
   ]
  },
  {
   "cell_type": "markdown",
   "metadata": {},
   "source": [
    "# For t3_df:"
   ]
  },
  {
   "cell_type": "code",
   "execution_count": 9,
   "metadata": {},
   "outputs": [],
   "source": [
    "def create_level_1(dataframe):     #create the output dataframe\n",
    "    comments = dataframe[dataframe['parent_id'] == dataframe['link_id']]\n",
    "    level_1_comments = comments[comments['parent_id'] != 0]\n",
    "    t_3_posts_authors  = level_1_comments.groupby('parent_id')['author'].apply(list).reset_index(name='author')\n",
    "    t_3_posts_authors['sub_comments'] = t_3_posts_authors['author'].progress_apply(lambda x:len(x))\n",
    "    \n",
    "    posts = comments[comments['parent_id'] == 0]\n",
    "    t3_name_id = {}\n",
    "    for i in range(posts.shape[0]):\n",
    "        key = posts.id.iloc[i]\n",
    "        value = posts.author.iloc[i]\n",
    "\n",
    "        key_value_pair = {key:value}\n",
    "\n",
    "        t3_name_id.update(key_value_pair)    \n",
    "    return t3_name_id, t_3_posts_authors"
   ]
  },
  {
   "cell_type": "markdown",
   "metadata": {},
   "source": [
    "# For t1_df:"
   ]
  },
  {
   "cell_type": "code",
   "execution_count": 10,
   "metadata": {},
   "outputs": [],
   "source": [
    "\n",
    "def create_t1_df(dataframe):\n",
    "    \"\"\"\n",
    "    A function that creates an output dataframe for us to create the edge list later\n",
    "    Args:\n",
    "        daydf (pandas.dataframe): a DAY dataframe to be examined\n",
    "\n",
    "    Returns:\n",
    "        main_authors: a list of authors the gives the main post\n",
    "        output_df: the output dataframe we want\n",
    "    \"\"\"\n",
    "    level_1_comments = dataframe[dataframe['parent_id'] == dataframe['link_id']]\n",
    "\n",
    "    sub_comments = dataframe[~dataframe.index.isin(level_1_comments.index)] #setting the sub comments being those with index that are not in level_1_comments\n",
    "\n",
    "    t1_df  = sub_comments.groupby('parent_id')['author'].apply(list).reset_index(name='author')\n",
    "    t1_df['sub_comments'] = t1_df['author'].progress_apply(lambda x:len(x))\n",
    "    t1_df.sort_values('sub_comments', inplace=True, ascending=False)\n",
    "\n",
    "    t1_name_id = {}\n",
    "    for i in range(sub_comments.shape[0]):\n",
    "        key = sub_comments.id.iloc[i]\n",
    "        value = sub_comments.author.iloc[i]\n",
    "\n",
    "        key_value_pair = {key:value}\n",
    "\n",
    "        t1_name_id.update(key_value_pair)    \n",
    "\n",
    "    return t1_name_id, t1_df"
   ]
  },
  {
   "cell_type": "code",
   "execution_count": 11,
   "metadata": {},
   "outputs": [],
   "source": [
    "def is_main(dataframe, t1_name_id, t3_name_id):\n",
    "    main_list = []\n",
    "    parent_author_list = []\n",
    "    dataframe = dataframe.reset_index(drop = True)\n",
    "    \n",
    "    for index, row in dataframe.iterrows():\n",
    "        uid = row['parent_id'].split('_')[-1]\n",
    "        \n",
    "        pre = row['parent_id'].split('_')[0]\n",
    "        if pre == 't1':\n",
    "            main_list.append(0)\n",
    "            try:\n",
    "                parent_author = t1_name_id[uid]\n",
    "                parent_author_list.append(parent_author)\n",
    "            except:\n",
    "                parent_author_list.append(np.nan)\n",
    "        else:\n",
    "            main_list.append(1)\n",
    "            try:\n",
    "                parent_author = t3_name_id[uid]\n",
    "                parent_author_list.append(parent_author)\n",
    "            except:\n",
    "                parent_author_list.append(np.nan)        \n",
    "\n",
    "        if index == 100000: print(index)\n",
    "    dataframe['main_post'] =  main_list\n",
    "    dataframe['parent_author'] = parent_author_list\n",
    "    return dataframe"
   ]
  },
  {
   "cell_type": "code",
   "execution_count": 12,
   "metadata": {},
   "outputs": [],
   "source": [
    "def get_edge_list(outputdf, daydf): \n",
    "    source_list = []\n",
    "    target_list = []\n",
    "    is_main_list = []\n",
    "    non_singleton = set()\n",
    "    potential_singleton = set()\n",
    "    non_single_post = set()\n",
    "    \n",
    "    authordf = set(daydf[daydf['parent_id']==0]['author'])\n",
    "    for index, row in outputdf.iterrows():\n",
    "        target = row['parent_author']\n",
    "        non_single_post.add(target)\n",
    "        author_list = row['author']\n",
    "        post_type = row['parent_id'].split('_')[0]\n",
    "        if post_type == 't1':\n",
    "            main_post = 0\n",
    "        else:\n",
    "            main_post = 1\n",
    "        if target != np.nan:\n",
    "            non_singleton.add(target)\n",
    "            for author in author_list:\n",
    "                source_list.append(author)\n",
    "                target_list.append(target)\n",
    "                non_singleton.add(author)\n",
    "                is_main_list.append(main_post)\n",
    "        else:\n",
    "            for author in author_list:\n",
    "                potential_singleton.add(author)\n",
    "    single_main = authordf - non_single_post\n",
    "    singletons = set(potential_singleton) - set(non_singleton)\n",
    "    singletons = singletons.union(single_main)\n",
    "    for singleton in singletons:\n",
    "        source_list.append(singleton)\n",
    "        target_list.append(singleton)\n",
    "        is_main_list.append(np.nan)\n",
    "    \n",
    "    edge_list = pd.DataFrame(list(zip(source_list, target_list, is_main_list)), columns = ['Source', 'Target', 'is_main'])\n",
    "    \n",
    "    return edge_list"
   ]
  },
  {
   "cell_type": "code",
   "execution_count": 18,
   "metadata": {},
   "outputs": [],
   "source": [
    "#month walker\n",
    "def month_walker(comment_df, post_df, year, month):\n",
    "    month_info = dict()\n",
    "    concat_df = merge_df(comment_df, post_df)\n",
    "    #clean dataframe\n",
    "    cleaned_df = full_clean(concat_df)\n",
    "    #get the output df list\n",
    "    df_list = create_subframe(year, month, cleaned_df)\n",
    "    day = 0\n",
    "    for daydf in df_list:\n",
    "        day += 1\n",
    "        #get t3_df\n",
    "        t3_name_id, t3_posts_authors = create_level_1(daydf)\n",
    "        \n",
    "        #get t1_df\n",
    "        t1_name_id, t1_df = create_t1_df(daydf)\n",
    "        \n",
    "        #concat the t1 and t3 df to get the complete dataframe\n",
    "        full_df = pd.concat([t1_df, t3_posts_authors])\n",
    "        full_df = full_df.reset_index(drop=True)\n",
    "        complete_df = is_main(full_df, t1_name_id, t3_name_id)\n",
    "        #get edge_list   \n",
    "        edge_list = get_edge_list(complete_df, daydf)\n",
    "        edge_list = edge_list[['Source', 'Target']]\n",
    "        edge_list = edge_list.groupby(edge_list.columns.tolist()).size().reset_index().rename(columns={0:'weight'})\n",
    "        edge_list['inverse_weight'] = 1/edge_list['weight']\n",
    "        #compute network parameters (potentially merge on name)\n",
    "\n",
    "        G = nx.from_pandas_edgelist(edge_list, source = \"Source\", target = \"Target\", edge_attr= [\"weight\", \"inverse_weight\"], create_using = nx.DiGraph()) #Returns a graph from Pandas DataFrame containing an edge list.\n",
    "        \n",
    "        # get the list of post author names\n",
    "        daydf = daydf[daydf['parent_id']==0]\n",
    "        post_authors = daydf['author'].to_numpy()\n",
    "        \n",
    "        # these two attr only for post nodes\n",
    "        avg_neighbour_deg = nx.average_neighbor_degree(G, weight=\"weight\", nodes=post_authors)\n",
    "        avg_neighbour_deg = pd.DataFrame(avg_neighbour_deg.items(), columns=['author', 'avg_neighbout_degree'])\n",
    "        \n",
    "        cluster_coeff = nx.clustering(G, nodes=post_authors, weight='weight')\n",
    "        cluster_coeff = pd.DataFrame(cluster_coeff.items(), columns=['author', 'cluster_coeff'])\n",
    "        \n",
    "        post_node_merged_df = avg_neighbour_deg.merge(cluster_coeff)\n",
    "        \n",
    "        \n",
    "        # these three attr for all nodes\n",
    "        in_deg_cent = nx.in_degree_centrality(G)\n",
    "        in_deg_cent = pd.DataFrame(in_deg_cent.items(), columns=['author', 'in_deg_cent'])\n",
    "        \n",
    "        out_deg_cent = nx.out_degree_centrality(G)\n",
    "        out_deg_cent = pd.DataFrame(out_deg_cent.items(), columns=['author', 'out_deg_cent'])\n",
    "        \n",
    "        eigenvec_cent = nx.eigenvector_centrality(G, max_iter = 500, weight='weight')\n",
    "        eigenvec_cent = pd.DataFrame(eigenvec_cent.items(), columns=['author', 'eigenvec_cent'])\n",
    "        \n",
    "        all_node_merged_df = in_deg_cent.merge(out_deg_cent)\n",
    "        all_node_merged_df = all_node_merged_df.merge(eigenvec_cent)\n",
    "        \n",
    "        all_node_merged_df = all_node_merged_df.merge(post_node_merged_df, on=['author'], how='left')\n",
    "        \n",
    "        # these attr is done within for-loop for every post node\n",
    "        ego_graph_density_dict = dict()\n",
    "        closeness_cent_dict = dict()\n",
    "        D = G.reverse()\n",
    "        for node in post_authors:\n",
    "            ego_graph = nx.ego_graph(D, node, undirected=False, distance='inverse_weight')\n",
    "            ego_graph_density = nx.density(ego_graph)\n",
    "\n",
    "            closeness_cent = nx.closeness_centrality(G, u = node, distance='inverse_weight')\n",
    "            \n",
    "            ego_graph_density_dict.update({node:ego_graph_density})\n",
    "            closeness_cent_dict.update({node:closeness_cent})\n",
    "        \n",
    "        closeness_cent = pd.DataFrame(closeness_cent_dict.items(), columns=['author', 'closeness_cent'])\n",
    "        ego_graph_density = pd.DataFrame(ego_graph_density_dict.items(), columns=['author', 'ego_graph_density'])\n",
    "        post_node_merged_df = closeness_cent.merge(ego_graph_density)\n",
    "        \n",
    "        # this gives a dataframe for all the nodes' attr. The missing attr for post nodes shoulg have value nan.\n",
    "        all_node_merged_df = all_node_merged_df.merge(post_node_merged_df, on=['author'], how='left') \n",
    "        \n",
    "        \n",
    "        #this saves the df to the month network list\n",
    "        month_info.update({day : all_node_merged_df})\n",
    "    return month_info"
   ]
  },
  {
   "cell_type": "markdown",
   "metadata": {},
   "source": [
    "----------\n",
    "<h1>Test</h1>"
   ]
  },
  {
   "cell_type": "code",
   "execution_count": 13,
   "metadata": {},
   "outputs": [],
   "source": [
    "fp_comment = '/Users/victor/Desktop/CS/UST_summer/01-20_comments.csv'\n",
    "# fp_post = '/Users/jerrylin/Downloads/all_posts_clean_1.csv'\n",
    "# post = pd.read_csv(fp_post, low_memory = False)[['author', 'id', 'created_utc']]\n",
    "comment = pd.read_csv(fp_comment, low_memory = False)[['author', 'id', 'created_utc', 'link_id', 'parent_id']]\n"
   ]
  },
  {
   "cell_type": "code",
   "execution_count": 14,
   "metadata": {},
   "outputs": [
    {
     "data": {
      "text/html": [
       "<div>\n",
       "<style scoped>\n",
       "    .dataframe tbody tr th:only-of-type {\n",
       "        vertical-align: middle;\n",
       "    }\n",
       "\n",
       "    .dataframe tbody tr th {\n",
       "        vertical-align: top;\n",
       "    }\n",
       "\n",
       "    .dataframe thead th {\n",
       "        text-align: right;\n",
       "    }\n",
       "</style>\n",
       "<table border=\"1\" class=\"dataframe\">\n",
       "  <thead>\n",
       "    <tr style=\"text-align: right;\">\n",
       "      <th></th>\n",
       "      <th>author</th>\n",
       "      <th>id</th>\n",
       "      <th>created_utc</th>\n",
       "      <th>link_id</th>\n",
       "      <th>parent_id</th>\n",
       "    </tr>\n",
       "  </thead>\n",
       "  <tbody>\n",
       "    <tr>\n",
       "      <th>0</th>\n",
       "      <td>__TSLA__</td>\n",
       "      <td>fconp1p</td>\n",
       "      <td>1577836804</td>\n",
       "      <td>t3_ei988r</td>\n",
       "      <td>t1_fcocbfb</td>\n",
       "    </tr>\n",
       "    <tr>\n",
       "      <th>1</th>\n",
       "      <td>lerakk</td>\n",
       "      <td>fconpq2</td>\n",
       "      <td>1577836818</td>\n",
       "      <td>t3_ei8tl1</td>\n",
       "      <td>t1_fcon93n</td>\n",
       "    </tr>\n",
       "    <tr>\n",
       "      <th>2</th>\n",
       "      <td>optionseller</td>\n",
       "      <td>fconr5l</td>\n",
       "      <td>1577836849</td>\n",
       "      <td>t3_ei96zu</td>\n",
       "      <td>t3_ei96zu</td>\n",
       "    </tr>\n",
       "    <tr>\n",
       "      <th>3</th>\n",
       "      <td>Wolf_Of_1337_Street</td>\n",
       "      <td>fconrdc</td>\n",
       "      <td>1577836853</td>\n",
       "      <td>t3_eiatp9</td>\n",
       "      <td>t3_eiatp9</td>\n",
       "    </tr>\n",
       "    <tr>\n",
       "      <th>4</th>\n",
       "      <td>G00dAndPl3nty</td>\n",
       "      <td>fconsd2</td>\n",
       "      <td>1577836873</td>\n",
       "      <td>t3_efwy0l</td>\n",
       "      <td>t1_fcazzwu</td>\n",
       "    </tr>\n",
       "  </tbody>\n",
       "</table>\n",
       "</div>"
      ],
      "text/plain": [
       "                author       id  created_utc    link_id   parent_id\n",
       "0             __TSLA__  fconp1p   1577836804  t3_ei988r  t1_fcocbfb\n",
       "1               lerakk  fconpq2   1577836818  t3_ei8tl1  t1_fcon93n\n",
       "2         optionseller  fconr5l   1577836849  t3_ei96zu   t3_ei96zu\n",
       "3  Wolf_Of_1337_Street  fconrdc   1577836853  t3_eiatp9   t3_eiatp9\n",
       "4        G00dAndPl3nty  fconsd2   1577836873  t3_efwy0l  t1_fcazzwu"
      ]
     },
     "execution_count": 14,
     "metadata": {},
     "output_type": "execute_result"
    }
   ],
   "source": [
    "comment.head()"
   ]
  },
  {
   "cell_type": "code",
   "execution_count": null,
   "metadata": {
    "scrolled": true
   },
   "outputs": [],
   "source": [
    "month_info = month_walker(comment, post, 2020, 1)"
   ]
  },
  {
   "cell_type": "code",
   "execution_count": null,
   "metadata": {},
   "outputs": [],
   "source": [
    "\n",
    "with open('jan2020dailynetwork.pickle', 'wb') as handle:\n",
    "    pickle.dump(month_info, handle, protocol=pickle.HIGHEST_PROTOCOL)"
   ]
  },
  {
   "cell_type": "code",
   "execution_count": null,
   "metadata": {},
   "outputs": [],
   "source": [
    "month_info[1].to_csv('/Users/jerrylin/Downloads/01012020.csv')"
   ]
  },
  {
   "cell_type": "code",
   "execution_count": null,
   "metadata": {},
   "outputs": [],
   "source": [
    "month_info[1]"
   ]
  },
  {
   "cell_type": "markdown",
   "metadata": {},
   "source": [
    "---------\n",
    "<h1>Run with 1.5 yrs files</h1>"
   ]
  },
  {
   "cell_type": "code",
   "execution_count": 23,
   "metadata": {},
   "outputs": [],
   "source": [
    "fp_comment = '/Users/victor/Desktop/CS/UST_summer/03-20_comments.csv'\n",
    "comment = pd.read_csv(fp_comment, low_memory = False)[['author', 'id', 'created_utc', 'link_id', 'parent_id']]\n",
    "fp_post = '/Users/victor/Desktop/CS/UST_summer/all_posts_clean_1.csv'\n",
    "post = pd.read_csv(fp_post, low_memory = False)[['author', 'id', 'created_utc']]"
   ]
  },
  {
   "cell_type": "code",
   "execution_count": 24,
   "metadata": {},
   "outputs": [
    {
     "data": {
      "application/vnd.jupyter.widget-view+json": {
       "model_id": "7fe47e77ccaa42a7a4dff6c91291e713",
       "version_major": 2,
       "version_minor": 0
      },
      "text/plain": [
       "  0%|          | 0/3321731 [00:00<?, ?it/s]"
      ]
     },
     "metadata": {},
     "output_type": "display_data"
    },
    {
     "data": {
      "application/vnd.jupyter.widget-view+json": {
       "model_id": "82426c80db8e4f628eed57fc9cc0fe6a",
       "version_major": 2,
       "version_minor": 0
      },
      "text/plain": [
       "  0%|          | 0/455 [00:00<?, ?it/s]"
      ]
     },
     "metadata": {},
     "output_type": "display_data"
    },
    {
     "data": {
      "application/vnd.jupyter.widget-view+json": {
       "model_id": "435e4d60e2034a9ba53191953dbc684d",
       "version_major": 2,
       "version_minor": 0
      },
      "text/plain": [
       "  0%|          | 0/13993 [00:00<?, ?it/s]"
      ]
     },
     "metadata": {},
     "output_type": "display_data"
    },
    {
     "data": {
      "application/vnd.jupyter.widget-view+json": {
       "model_id": "380c692946b7488c8f7214e967c49477",
       "version_major": 2,
       "version_minor": 0
      },
      "text/plain": [
       "  0%|          | 0/566 [00:00<?, ?it/s]"
      ]
     },
     "metadata": {},
     "output_type": "display_data"
    },
    {
     "data": {
      "application/vnd.jupyter.widget-view+json": {
       "model_id": "a2ffecb806724053a67df16104af5e86",
       "version_major": 2,
       "version_minor": 0
      },
      "text/plain": [
       "  0%|          | 0/25583 [00:00<?, ?it/s]"
      ]
     },
     "metadata": {},
     "output_type": "display_data"
    },
    {
     "data": {
      "application/vnd.jupyter.widget-view+json": {
       "model_id": "798e2a61ce4e480dbcbe4d86ce604be1",
       "version_major": 2,
       "version_minor": 0
      },
      "text/plain": [
       "  0%|          | 0/540 [00:00<?, ?it/s]"
      ]
     },
     "metadata": {},
     "output_type": "display_data"
    },
    {
     "data": {
      "application/vnd.jupyter.widget-view+json": {
       "model_id": "7c272ae797934225b2e6ef4529f3e5a1",
       "version_major": 2,
       "version_minor": 0
      },
      "text/plain": [
       "  0%|          | 0/23145 [00:00<?, ?it/s]"
      ]
     },
     "metadata": {},
     "output_type": "display_data"
    },
    {
     "data": {
      "application/vnd.jupyter.widget-view+json": {
       "model_id": "33514f859f464491bedd280d8d09340d",
       "version_major": 2,
       "version_minor": 0
      },
      "text/plain": [
       "  0%|          | 0/431 [00:00<?, ?it/s]"
      ]
     },
     "metadata": {},
     "output_type": "display_data"
    },
    {
     "data": {
      "application/vnd.jupyter.widget-view+json": {
       "model_id": "236daeabeb414faa8e22281e0120cd30",
       "version_major": 2,
       "version_minor": 0
      },
      "text/plain": [
       "  0%|          | 0/20994 [00:00<?, ?it/s]"
      ]
     },
     "metadata": {},
     "output_type": "display_data"
    },
    {
     "data": {
      "application/vnd.jupyter.widget-view+json": {
       "model_id": "7b31f8e6c49c44c9b2c2343dd1bd29c0",
       "version_major": 2,
       "version_minor": 0
      },
      "text/plain": [
       "  0%|          | 0/463 [00:00<?, ?it/s]"
      ]
     },
     "metadata": {},
     "output_type": "display_data"
    },
    {
     "data": {
      "application/vnd.jupyter.widget-view+json": {
       "model_id": "3845606a06c2471d9454078f84e1fe76",
       "version_major": 2,
       "version_minor": 0
      },
      "text/plain": [
       "  0%|          | 0/21881 [00:00<?, ?it/s]"
      ]
     },
     "metadata": {},
     "output_type": "display_data"
    },
    {
     "data": {
      "application/vnd.jupyter.widget-view+json": {
       "model_id": "14548fce7e524d2e92651ad17b827a5d",
       "version_major": 2,
       "version_minor": 0
      },
      "text/plain": [
       "  0%|          | 0/514 [00:00<?, ?it/s]"
      ]
     },
     "metadata": {},
     "output_type": "display_data"
    },
    {
     "data": {
      "application/vnd.jupyter.widget-view+json": {
       "model_id": "5b21ca747e18482bb2a5a0d6d8283d7d",
       "version_major": 2,
       "version_minor": 0
      },
      "text/plain": [
       "  0%|          | 0/24729 [00:00<?, ?it/s]"
      ]
     },
     "metadata": {},
     "output_type": "display_data"
    },
    {
     "data": {
      "application/vnd.jupyter.widget-view+json": {
       "model_id": "034e21efd3734abcae070f62705240c3",
       "version_major": 2,
       "version_minor": 0
      },
      "text/plain": [
       "  0%|          | 0/402 [00:00<?, ?it/s]"
      ]
     },
     "metadata": {},
     "output_type": "display_data"
    },
    {
     "data": {
      "application/vnd.jupyter.widget-view+json": {
       "model_id": "40d447e941d44e56996f67a1332eef82",
       "version_major": 2,
       "version_minor": 0
      },
      "text/plain": [
       "  0%|          | 0/12741 [00:00<?, ?it/s]"
      ]
     },
     "metadata": {},
     "output_type": "display_data"
    },
    {
     "data": {
      "application/vnd.jupyter.widget-view+json": {
       "model_id": "38ee0f0ac16244608757ed4d8b5cd901",
       "version_major": 2,
       "version_minor": 0
      },
      "text/plain": [
       "  0%|          | 0/366 [00:00<?, ?it/s]"
      ]
     },
     "metadata": {},
     "output_type": "display_data"
    },
    {
     "data": {
      "application/vnd.jupyter.widget-view+json": {
       "model_id": "d4a19d5f67b142359916c0be3b66f146",
       "version_major": 2,
       "version_minor": 0
      },
      "text/plain": [
       "  0%|          | 0/13979 [00:00<?, ?it/s]"
      ]
     },
     "metadata": {},
     "output_type": "display_data"
    },
    {
     "data": {
      "application/vnd.jupyter.widget-view+json": {
       "model_id": "0d2e27c2ee494e3baced06d125d19e7b",
       "version_major": 2,
       "version_minor": 0
      },
      "text/plain": [
       "  0%|          | 0/719 [00:00<?, ?it/s]"
      ]
     },
     "metadata": {},
     "output_type": "display_data"
    },
    {
     "data": {
      "application/vnd.jupyter.widget-view+json": {
       "model_id": "b07987c7e84c4f69a8c2d9889c03fbd1",
       "version_major": 2,
       "version_minor": 0
      },
      "text/plain": [
       "  0%|          | 0/33265 [00:00<?, ?it/s]"
      ]
     },
     "metadata": {},
     "output_type": "display_data"
    },
    {
     "data": {
      "application/vnd.jupyter.widget-view+json": {
       "model_id": "3a4588948af1439f86cd014a7b8f826a",
       "version_major": 2,
       "version_minor": 0
      },
      "text/plain": [
       "  0%|          | 0/581 [00:00<?, ?it/s]"
      ]
     },
     "metadata": {},
     "output_type": "display_data"
    },
    {
     "data": {
      "application/vnd.jupyter.widget-view+json": {
       "model_id": "9212d95f7b374cac86358f2df2770054",
       "version_major": 2,
       "version_minor": 0
      },
      "text/plain": [
       "  0%|          | 0/27739 [00:00<?, ?it/s]"
      ]
     },
     "metadata": {},
     "output_type": "display_data"
    },
    {
     "data": {
      "application/vnd.jupyter.widget-view+json": {
       "model_id": "b5ed73d4ee3542f29f3d710ffeef3b0b",
       "version_major": 2,
       "version_minor": 0
      },
      "text/plain": [
       "  0%|          | 0/585 [00:00<?, ?it/s]"
      ]
     },
     "metadata": {},
     "output_type": "display_data"
    },
    {
     "data": {
      "application/vnd.jupyter.widget-view+json": {
       "model_id": "85ddcd531d5a4aa3a4e047fd7108662b",
       "version_major": 2,
       "version_minor": 0
      },
      "text/plain": [
       "  0%|          | 0/28400 [00:00<?, ?it/s]"
      ]
     },
     "metadata": {},
     "output_type": "display_data"
    },
    {
     "data": {
      "application/vnd.jupyter.widget-view+json": {
       "model_id": "b8aeedb8b3414a3f889ba44618086791",
       "version_major": 2,
       "version_minor": 0
      },
      "text/plain": [
       "  0%|          | 0/1012 [00:00<?, ?it/s]"
      ]
     },
     "metadata": {},
     "output_type": "display_data"
    },
    {
     "data": {
      "application/vnd.jupyter.widget-view+json": {
       "model_id": "4078e62955bc4661903dc67a9072712a",
       "version_major": 2,
       "version_minor": 0
      },
      "text/plain": [
       "  0%|          | 0/43730 [00:00<?, ?it/s]"
      ]
     },
     "metadata": {},
     "output_type": "display_data"
    },
    {
     "data": {
      "application/vnd.jupyter.widget-view+json": {
       "model_id": "6d57c650c11c4d9d98d5d1ffd60782d8",
       "version_major": 2,
       "version_minor": 0
      },
      "text/plain": [
       "  0%|          | 0/971 [00:00<?, ?it/s]"
      ]
     },
     "metadata": {},
     "output_type": "display_data"
    },
    {
     "data": {
      "application/vnd.jupyter.widget-view+json": {
       "model_id": "8b51f9af686b4fa99491ba72844dc33d",
       "version_major": 2,
       "version_minor": 0
      },
      "text/plain": [
       "  0%|          | 0/44731 [00:00<?, ?it/s]"
      ]
     },
     "metadata": {},
     "output_type": "display_data"
    },
    {
     "data": {
      "application/vnd.jupyter.widget-view+json": {
       "model_id": "144a44cd15cc4da5a54527cce476ab69",
       "version_major": 2,
       "version_minor": 0
      },
      "text/plain": [
       "  0%|          | 0/599 [00:00<?, ?it/s]"
      ]
     },
     "metadata": {},
     "output_type": "display_data"
    },
    {
     "data": {
      "application/vnd.jupyter.widget-view+json": {
       "model_id": "19032d79820e4f86b485653effce5563",
       "version_major": 2,
       "version_minor": 0
      },
      "text/plain": [
       "  0%|          | 0/22589 [00:00<?, ?it/s]"
      ]
     },
     "metadata": {},
     "output_type": "display_data"
    },
    {
     "data": {
      "application/vnd.jupyter.widget-view+json": {
       "model_id": "a8379b21365b497a838d31ec371b498b",
       "version_major": 2,
       "version_minor": 0
      },
      "text/plain": [
       "  0%|          | 0/747 [00:00<?, ?it/s]"
      ]
     },
     "metadata": {},
     "output_type": "display_data"
    },
    {
     "data": {
      "application/vnd.jupyter.widget-view+json": {
       "model_id": "8f0b4cc53d07443eb506e81518b6348e",
       "version_major": 2,
       "version_minor": 0
      },
      "text/plain": [
       "  0%|          | 0/24172 [00:00<?, ?it/s]"
      ]
     },
     "metadata": {},
     "output_type": "display_data"
    },
    {
     "data": {
      "application/vnd.jupyter.widget-view+json": {
       "model_id": "ccffc945a4cc4a9aa1d2bfca7b97f176",
       "version_major": 2,
       "version_minor": 0
      },
      "text/plain": [
       "  0%|          | 0/1716 [00:00<?, ?it/s]"
      ]
     },
     "metadata": {},
     "output_type": "display_data"
    },
    {
     "data": {
      "application/vnd.jupyter.widget-view+json": {
       "model_id": "e703f1dd96fd44c5a8ed56b424256519",
       "version_major": 2,
       "version_minor": 0
      },
      "text/plain": [
       "  0%|          | 0/46271 [00:00<?, ?it/s]"
      ]
     },
     "metadata": {},
     "output_type": "display_data"
    },
    {
     "data": {
      "application/vnd.jupyter.widget-view+json": {
       "model_id": "6b3a7f6b40c94bcaa79dbe56a6bb5e69",
       "version_major": 2,
       "version_minor": 0
      },
      "text/plain": [
       "  0%|          | 0/788 [00:00<?, ?it/s]"
      ]
     },
     "metadata": {},
     "output_type": "display_data"
    },
    {
     "data": {
      "application/vnd.jupyter.widget-view+json": {
       "model_id": "8f94635a1bff46a0baae0dbeaf10d323",
       "version_major": 2,
       "version_minor": 0
      },
      "text/plain": [
       "  0%|          | 0/36742 [00:00<?, ?it/s]"
      ]
     },
     "metadata": {},
     "output_type": "display_data"
    },
    {
     "data": {
      "application/vnd.jupyter.widget-view+json": {
       "model_id": "0c62b14650f44ea994148b2f7eb80c1e",
       "version_major": 2,
       "version_minor": 0
      },
      "text/plain": [
       "  0%|          | 0/914 [00:00<?, ?it/s]"
      ]
     },
     "metadata": {},
     "output_type": "display_data"
    },
    {
     "data": {
      "application/vnd.jupyter.widget-view+json": {
       "model_id": "518fc047aefc4702bbb4535ea3fa6e28",
       "version_major": 2,
       "version_minor": 0
      },
      "text/plain": [
       "  0%|          | 0/44263 [00:00<?, ?it/s]"
      ]
     },
     "metadata": {},
     "output_type": "display_data"
    },
    {
     "data": {
      "application/vnd.jupyter.widget-view+json": {
       "model_id": "2f81d12da8134227a40e44ba4a2dc23a",
       "version_major": 2,
       "version_minor": 0
      },
      "text/plain": [
       "  0%|          | 0/863 [00:00<?, ?it/s]"
      ]
     },
     "metadata": {},
     "output_type": "display_data"
    },
    {
     "data": {
      "application/vnd.jupyter.widget-view+json": {
       "model_id": "ae9cdb29251749eb98fa023e6de25d55",
       "version_major": 2,
       "version_minor": 0
      },
      "text/plain": [
       "  0%|          | 0/41379 [00:00<?, ?it/s]"
      ]
     },
     "metadata": {},
     "output_type": "display_data"
    },
    {
     "data": {
      "application/vnd.jupyter.widget-view+json": {
       "model_id": "548f11863dff445ca1233944b3143e06",
       "version_major": 2,
       "version_minor": 0
      },
      "text/plain": [
       "  0%|          | 0/851 [00:00<?, ?it/s]"
      ]
     },
     "metadata": {},
     "output_type": "display_data"
    },
    {
     "data": {
      "application/vnd.jupyter.widget-view+json": {
       "model_id": "516a21c91a3c4e02921a9c6c03a72450",
       "version_major": 2,
       "version_minor": 0
      },
      "text/plain": [
       "  0%|          | 0/39481 [00:00<?, ?it/s]"
      ]
     },
     "metadata": {},
     "output_type": "display_data"
    },
    {
     "data": {
      "application/vnd.jupyter.widget-view+json": {
       "model_id": "aad92d8647cb4b43a4221020f07560ff",
       "version_major": 2,
       "version_minor": 0
      },
      "text/plain": [
       "  0%|          | 0/452 [00:00<?, ?it/s]"
      ]
     },
     "metadata": {},
     "output_type": "display_data"
    },
    {
     "data": {
      "application/vnd.jupyter.widget-view+json": {
       "model_id": "d4d6a7ffccf94c8593d17f895af35dd9",
       "version_major": 2,
       "version_minor": 0
      },
      "text/plain": [
       "  0%|          | 0/18619 [00:00<?, ?it/s]"
      ]
     },
     "metadata": {},
     "output_type": "display_data"
    },
    {
     "data": {
      "application/vnd.jupyter.widget-view+json": {
       "model_id": "445001e1ee684507965911cd3c22194b",
       "version_major": 2,
       "version_minor": 0
      },
      "text/plain": [
       "  0%|          | 0/446 [00:00<?, ?it/s]"
      ]
     },
     "metadata": {},
     "output_type": "display_data"
    },
    {
     "data": {
      "application/vnd.jupyter.widget-view+json": {
       "model_id": "adb2136ee4bd45c49ac896dea6eddb03",
       "version_major": 2,
       "version_minor": 0
      },
      "text/plain": [
       "  0%|          | 0/21138 [00:00<?, ?it/s]"
      ]
     },
     "metadata": {},
     "output_type": "display_data"
    },
    {
     "data": {
      "application/vnd.jupyter.widget-view+json": {
       "model_id": "6f99a2d12e96474db34e4e99d35e9b8b",
       "version_major": 2,
       "version_minor": 0
      },
      "text/plain": [
       "  0%|          | 0/644 [00:00<?, ?it/s]"
      ]
     },
     "metadata": {},
     "output_type": "display_data"
    },
    {
     "data": {
      "application/vnd.jupyter.widget-view+json": {
       "model_id": "eb28363c08ae421aa05c297264e23bc6",
       "version_major": 2,
       "version_minor": 0
      },
      "text/plain": [
       "  0%|          | 0/37351 [00:00<?, ?it/s]"
      ]
     },
     "metadata": {},
     "output_type": "display_data"
    },
    {
     "data": {
      "application/vnd.jupyter.widget-view+json": {
       "model_id": "531780006290468f9501ace878a7bad1",
       "version_major": 2,
       "version_minor": 0
      },
      "text/plain": [
       "  0%|          | 0/651 [00:00<?, ?it/s]"
      ]
     },
     "metadata": {},
     "output_type": "display_data"
    },
    {
     "data": {
      "application/vnd.jupyter.widget-view+json": {
       "model_id": "9b24ae243cac4f99a5ae88a8175f3d71",
       "version_major": 2,
       "version_minor": 0
      },
      "text/plain": [
       "  0%|          | 0/36368 [00:00<?, ?it/s]"
      ]
     },
     "metadata": {},
     "output_type": "display_data"
    },
    {
     "data": {
      "application/vnd.jupyter.widget-view+json": {
       "model_id": "e5ccf247129c4a66ba169a5bf4d87a06",
       "version_major": 2,
       "version_minor": 0
      },
      "text/plain": [
       "  0%|          | 0/673 [00:00<?, ?it/s]"
      ]
     },
     "metadata": {},
     "output_type": "display_data"
    },
    {
     "data": {
      "application/vnd.jupyter.widget-view+json": {
       "model_id": "8bbaf6e727b84bea8bef49596b6e684f",
       "version_major": 2,
       "version_minor": 0
      },
      "text/plain": [
       "  0%|          | 0/37067 [00:00<?, ?it/s]"
      ]
     },
     "metadata": {},
     "output_type": "display_data"
    },
    {
     "data": {
      "application/vnd.jupyter.widget-view+json": {
       "model_id": "8694fc5e23b64785b3a88a4000b3f3e4",
       "version_major": 2,
       "version_minor": 0
      },
      "text/plain": [
       "  0%|          | 0/723 [00:00<?, ?it/s]"
      ]
     },
     "metadata": {},
     "output_type": "display_data"
    },
    {
     "data": {
      "application/vnd.jupyter.widget-view+json": {
       "model_id": "cf5d4e53f87b4ac0a2792b52f8a0deb5",
       "version_major": 2,
       "version_minor": 0
      },
      "text/plain": [
       "  0%|          | 0/38308 [00:00<?, ?it/s]"
      ]
     },
     "metadata": {},
     "output_type": "display_data"
    },
    {
     "data": {
      "application/vnd.jupyter.widget-view+json": {
       "model_id": "b20f8d92c51f45fcbe2868f99d304ab6",
       "version_major": 2,
       "version_minor": 0
      },
      "text/plain": [
       "  0%|          | 0/612 [00:00<?, ?it/s]"
      ]
     },
     "metadata": {},
     "output_type": "display_data"
    },
    {
     "data": {
      "application/vnd.jupyter.widget-view+json": {
       "model_id": "3118e47c8f004df9a478a6920582ad15",
       "version_major": 2,
       "version_minor": 0
      },
      "text/plain": [
       "  0%|          | 0/31341 [00:00<?, ?it/s]"
      ]
     },
     "metadata": {},
     "output_type": "display_data"
    },
    {
     "data": {
      "application/vnd.jupyter.widget-view+json": {
       "model_id": "f12879652b9c4672baa99192a79766b2",
       "version_major": 2,
       "version_minor": 0
      },
      "text/plain": [
       "  0%|          | 0/363 [00:00<?, ?it/s]"
      ]
     },
     "metadata": {},
     "output_type": "display_data"
    },
    {
     "data": {
      "application/vnd.jupyter.widget-view+json": {
       "model_id": "8d36b85ebdf542ac98e0174887023815",
       "version_major": 2,
       "version_minor": 0
      },
      "text/plain": [
       "  0%|          | 0/14696 [00:00<?, ?it/s]"
      ]
     },
     "metadata": {},
     "output_type": "display_data"
    },
    {
     "data": {
      "application/vnd.jupyter.widget-view+json": {
       "model_id": "032559b9a17c4fb1b4997b9ec58892aa",
       "version_major": 2,
       "version_minor": 0
      },
      "text/plain": [
       "  0%|          | 0/322 [00:00<?, ?it/s]"
      ]
     },
     "metadata": {},
     "output_type": "display_data"
    },
    {
     "data": {
      "application/vnd.jupyter.widget-view+json": {
       "model_id": "7f03213e17154d268c8654edab19c4f6",
       "version_major": 2,
       "version_minor": 0
      },
      "text/plain": [
       "  0%|          | 0/15016 [00:00<?, ?it/s]"
      ]
     },
     "metadata": {},
     "output_type": "display_data"
    },
    {
     "data": {
      "application/vnd.jupyter.widget-view+json": {
       "model_id": "e72cb03460624ea78ce71addaa5f4551",
       "version_major": 2,
       "version_minor": 0
      },
      "text/plain": [
       "  0%|          | 0/464 [00:00<?, ?it/s]"
      ]
     },
     "metadata": {},
     "output_type": "display_data"
    },
    {
     "data": {
      "application/vnd.jupyter.widget-view+json": {
       "model_id": "d8d9b442bb464168b35af31a689a92af",
       "version_major": 2,
       "version_minor": 0
      },
      "text/plain": [
       "  0%|          | 0/23103 [00:00<?, ?it/s]"
      ]
     },
     "metadata": {},
     "output_type": "display_data"
    }
   ],
   "source": [
    "month_info = month_walker(comment, post, 2020, 3)"
   ]
  },
  {
   "cell_type": "code",
   "execution_count": 25,
   "metadata": {},
   "outputs": [],
   "source": [
    "with open('mar2020dailynetwork.pickle', 'wb') as handle:\n",
    "    pickle.dump(month_info, handle, protocol=pickle.HIGHEST_PROTOCOL)"
   ]
  },
  {
   "cell_type": "code",
   "execution_count": null,
   "metadata": {},
   "outputs": [],
   "source": []
  }
 ],
 "metadata": {
  "kernelspec": {
   "display_name": "Python 3",
   "language": "python",
   "name": "python3"
  },
  "language_info": {
   "codemirror_mode": {
    "name": "ipython",
    "version": 3
   },
   "file_extension": ".py",
   "mimetype": "text/x-python",
   "name": "python",
   "nbconvert_exporter": "python",
   "pygments_lexer": "ipython3",
   "version": "3.9.12"
  },
  "vscode": {
   "interpreter": {
    "hash": "864791b727c67594ba35b846e2fef3ab0cf2138c660c288cb4b982d81a4cb57f"
   }
  }
 },
 "nbformat": 4,
 "nbformat_minor": 4
}
