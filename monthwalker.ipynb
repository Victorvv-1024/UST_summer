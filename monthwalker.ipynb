{
 "cells": [
  {
   "cell_type": "code",
   "execution_count": 2,
   "metadata": {},
   "outputs": [
    {
     "name": "stderr",
     "output_type": "stream",
     "text": [
      "/Users/victor/opt/anaconda3/envs/ust/lib/python3.9/site-packages/past/builtins/misc.py:45: DeprecationWarning: the imp module is deprecated in favour of importlib; see the module's documentation for alternative uses\n",
      "  from imp import reload\n"
     ]
    }
   ],
   "source": [
    "import pandas as pd\n",
    "import pickle\n",
    "import os\n",
    "from datetime import datetime\n",
    "from dateutil.relativedelta import relativedelta\n",
    "\n",
    "\n",
    "from tqdm.notebook import tqdm\n",
    "tqdm.pandas()\n",
    "from utils import full_clean, create_subframe, create_t3_df, create_t1_df, get_parallel_edges, create_complete_df, merge_df,\\\n",
    "    get_parallel_edges, get_weighted_edges, get_edge_info, create_post_comment_name_id"
   ]
  },
  {
   "cell_type": "markdown",
   "metadata": {},
   "source": [
    "# Import the bot list retrieved online"
   ]
  },
  {
   "cell_type": "code",
   "execution_count": 3,
   "metadata": {},
   "outputs": [],
   "source": [
    "bot_list = pd.read_csv('/Users/victor/Desktop/CS/UST_summer/bot_list.csv')\n",
    "bot_list['Username'] = bot_list.Username.apply(lambda x: x[3:])"
   ]
  },
  {
   "cell_type": "markdown",
   "metadata": {},
   "source": [
    "# Import the top spammers who are considered as bots"
   ]
  },
  {
   "cell_type": "code",
   "execution_count": 4,
   "metadata": {},
   "outputs": [],
   "source": [
    "popular_author = pd.read_csv('/Users/victor/Desktop/CS/UST_summer/10k_sub_final.csv')\n",
    "popular_bot = popular_author[popular_author.is_bot == 1]"
   ]
  },
  {
   "cell_type": "markdown",
   "metadata": {},
   "source": [
    "--------\n",
    "<h1>Proper work</h1>"
   ]
  },
  {
   "cell_type": "code",
   "execution_count": null,
   "metadata": {},
   "outputs": [],
   "source": [
    "# #month walker\n",
    "# def month_walker(comment_df, post_df, year, month):\n",
    "#     month_info = dict()\n",
    "#     concat_df = merge_df(comment_df, post_df)\n",
    "#     #clean dataframe\n",
    "#     bot, cleaned_df = full_clean(concat_df, bot_list, popular_bot, by_parent=True)\n",
    "#     #get the output df list\n",
    "#     df_list = create_subframe(year, month, cleaned_df)\n",
    "#     day = 1\n",
    "#     for daydf in df_list:\n",
    "#         #get t3_df\n",
    "#         t3_name_id, t3_df = create_t3_df(daydf)\n",
    "#         #get t1_df\n",
    "#         t1_name_id, t1_df = create_t1_df(daydf)\n",
    "#         #concat the t1 and t3 df to get the complete dataframe\n",
    "#         complete_df = create_complete_df(t1_name_id, t1_df, t3_name_id, t3_df)\n",
    "        \n",
    "#         #get weighted edge list   \n",
    "#         parallel_edges = get_parallel_edges(complete_df, daydf)\n",
    "#         weighted_edges = get_weighted_edges(parallel_edges)\n",
    "#         weighted_edges['inverse_weight'] = 1/weighted_edges['weight']\n",
    "        \n",
    "#         # get the information\n",
    "#         # get the list of post author names\n",
    "#         daydf = daydf[daydf['parent_id']==0]\n",
    "#         post_authors = daydf['author'].to_numpy()\n",
    "#         edge_info = get_edge_info(weighted_edges, post_authors)\n",
    "        \n",
    "        \n",
    "#         #this saves the df to the month network list\n",
    "#         month_info.update({day: edge_info})\n",
    "#         day += 1\n",
    "        \n",
    "#     return month_info"
   ]
  },
  {
   "cell_type": "code",
   "execution_count": 6,
   "metadata": {},
   "outputs": [],
   "source": [
    "def month_walker(comment_df, post_df, year, month):\n",
    "    # clean the comment df\n",
    "    comment_bot, comment_df = full_clean(comment_df, bot_list, popular_bot, by_parent=True)\n",
    "    # clean the post df\n",
    "    post_bot, post_df = full_clean(post_df, bot_list, popular_bot)\n",
    "    # cut the post df by month\n",
    "    startdate = datetime(year, month, 1, 0)\n",
    "    startdate = startdate.timestamp()\n",
    "    enddate = startdate + relativedelta(month=1)\n",
    "    enddate = enddate.timestamp()\n",
    "    print(startdate)\n",
    "    print(enddate)\n",
    "    post_df = post_df[(post_df.created_utc >= startdate) & (post_df.created_utc < enddate)]\n",
    "    # create the t1 and t3 id:name key value pair\n",
    "    t3_name_id, t1_name_id = create_post_comment_name_id(post_df, comment_df)\n",
    "    # concat the comment and post df\n",
    "    concat_df = merge_df(comment_df, post_df)\n",
    "    # create the t1 and t3 df\n",
    "    t1_df = create_t1_df(concat_df)\n",
    "    t3_df = create_t3_df(concat_df)\n",
    "    # create the complete df\n",
    "    complete_df = create_complete_df(t1_name_id, t1_df, t3_name_id, t3_df)\n",
    "    # create the parallel and weighted edgelist\n",
    "    parallel_edges = get_parallel_edges(complete_df, concat_df)\n",
    "    weighted_edges = get_weighted_edges(parallel_edges)\n",
    "    weighted_edges['inverse_weight'] = 1/weighted_edges['weight']\n",
    "    \n",
    "    return parallel_edges\n",
    "    \n",
    "    # save the edgelists ......"
   ]
  },
  {
   "cell_type": "code",
   "execution_count": 7,
   "metadata": {},
   "outputs": [],
   "source": [
    "fp_comment = '/Users/victor/Desktop/CS/UST_summer/01-20_comments.csv'\n",
    "comment_df = pd.read_csv(fp_comment, low_memory = False)[['author', 'id', 'created_utc', 'link_id', 'parent_id']]\n",
    "fp_post = '/Users/victor/Desktop/CS/UST_summer/all_posts_clean_1.csv'\n",
    "post_df = pd.read_csv(fp_post, low_memory = False)[['author', 'id', 'created_utc']]"
   ]
  },
  {
   "cell_type": "code",
   "execution_count": 8,
   "metadata": {},
   "outputs": [
    {
     "data": {
      "application/vnd.jupyter.widget-view+json": {
       "model_id": "78fbcffc1ce4491b8e6c86e673887978",
       "version_major": 2,
       "version_minor": 0
      },
      "text/plain": [
       "  0%|          | 0/452604 [00:00<?, ?it/s]"
      ]
     },
     "metadata": {},
     "output_type": "display_data"
    },
    {
     "data": {
      "application/vnd.jupyter.widget-view+json": {
       "model_id": "a48a122cdc974ebd97cbe6699491f0de",
       "version_major": 2,
       "version_minor": 0
      },
      "text/plain": [
       "  0%|          | 0/1087302 [00:00<?, ?it/s]"
      ]
     },
     "metadata": {},
     "output_type": "display_data"
    },
    {
     "ename": "ValueError",
     "evalue": "Expected a 1D array, got an array with shape (0, 4)",
     "output_type": "error",
     "traceback": [
      "\u001b[0;31m---------------------------------------------------------------------------\u001b[0m",
      "\u001b[0;31mKeyError\u001b[0m                                  Traceback (most recent call last)",
      "File \u001b[0;32m~/opt/anaconda3/envs/ust/lib/python3.9/site-packages/pandas/core/indexes/base.py:3621\u001b[0m, in \u001b[0;36mIndex.get_loc\u001b[0;34m(self, key, method, tolerance)\u001b[0m\n\u001b[1;32m   3620\u001b[0m \u001b[39mtry\u001b[39;00m:\n\u001b[0;32m-> 3621\u001b[0m     \u001b[39mreturn\u001b[39;00m \u001b[39mself\u001b[39;49m\u001b[39m.\u001b[39;49m_engine\u001b[39m.\u001b[39;49mget_loc(casted_key)\n\u001b[1;32m   3622\u001b[0m \u001b[39mexcept\u001b[39;00m \u001b[39mKeyError\u001b[39;00m \u001b[39mas\u001b[39;00m err:\n",
      "File \u001b[0;32m~/opt/anaconda3/envs/ust/lib/python3.9/site-packages/pandas/_libs/index.pyx:136\u001b[0m, in \u001b[0;36mpandas._libs.index.IndexEngine.get_loc\u001b[0;34m()\u001b[0m\n",
      "File \u001b[0;32m~/opt/anaconda3/envs/ust/lib/python3.9/site-packages/pandas/_libs/index.pyx:163\u001b[0m, in \u001b[0;36mpandas._libs.index.IndexEngine.get_loc\u001b[0;34m()\u001b[0m\n",
      "File \u001b[0;32mpandas/_libs/hashtable_class_helper.pxi:5198\u001b[0m, in \u001b[0;36mpandas._libs.hashtable.PyObjectHashTable.get_item\u001b[0;34m()\u001b[0m\n",
      "File \u001b[0;32mpandas/_libs/hashtable_class_helper.pxi:5206\u001b[0m, in \u001b[0;36mpandas._libs.hashtable.PyObjectHashTable.get_item\u001b[0;34m()\u001b[0m\n",
      "\u001b[0;31mKeyError\u001b[0m: 'merged'",
      "\nThe above exception was the direct cause of the following exception:\n",
      "\u001b[0;31mKeyError\u001b[0m                                  Traceback (most recent call last)",
      "File \u001b[0;32m~/opt/anaconda3/envs/ust/lib/python3.9/site-packages/pandas/core/frame.py:3799\u001b[0m, in \u001b[0;36mDataFrame._set_item_mgr\u001b[0;34m(self, key, value)\u001b[0m\n\u001b[1;32m   3798\u001b[0m \u001b[39mtry\u001b[39;00m:\n\u001b[0;32m-> 3799\u001b[0m     loc \u001b[39m=\u001b[39m \u001b[39mself\u001b[39;49m\u001b[39m.\u001b[39;49m_info_axis\u001b[39m.\u001b[39;49mget_loc(key)\n\u001b[1;32m   3800\u001b[0m \u001b[39mexcept\u001b[39;00m \u001b[39mKeyError\u001b[39;00m:\n\u001b[1;32m   3801\u001b[0m     \u001b[39m# This item wasn't present, just insert at end\u001b[39;00m\n",
      "File \u001b[0;32m~/opt/anaconda3/envs/ust/lib/python3.9/site-packages/pandas/core/indexes/base.py:3623\u001b[0m, in \u001b[0;36mIndex.get_loc\u001b[0;34m(self, key, method, tolerance)\u001b[0m\n\u001b[1;32m   3622\u001b[0m \u001b[39mexcept\u001b[39;00m \u001b[39mKeyError\u001b[39;00m \u001b[39mas\u001b[39;00m err:\n\u001b[0;32m-> 3623\u001b[0m     \u001b[39mraise\u001b[39;00m \u001b[39mKeyError\u001b[39;00m(key) \u001b[39mfrom\u001b[39;00m \u001b[39merr\u001b[39;00m\n\u001b[1;32m   3624\u001b[0m \u001b[39mexcept\u001b[39;00m \u001b[39mTypeError\u001b[39;00m:\n\u001b[1;32m   3625\u001b[0m     \u001b[39m# If we have a listlike key, _check_indexing_error will raise\u001b[39;00m\n\u001b[1;32m   3626\u001b[0m     \u001b[39m#  InvalidIndexError. Otherwise we fall through and re-raise\u001b[39;00m\n\u001b[1;32m   3627\u001b[0m     \u001b[39m#  the TypeError.\u001b[39;00m\n",
      "\u001b[0;31mKeyError\u001b[0m: 'merged'",
      "\nDuring handling of the above exception, another exception occurred:\n",
      "\u001b[0;31mValueError\u001b[0m                                Traceback (most recent call last)",
      "\u001b[1;32m/Users/victor/Desktop/CS/UST_summer/monthwalker.ipynb Cell 10'\u001b[0m in \u001b[0;36m<cell line: 1>\u001b[0;34m()\u001b[0m\n\u001b[0;32m----> <a href='vscode-notebook-cell:/Users/victor/Desktop/CS/UST_summer/monthwalker.ipynb#ch0000034?line=0'>1</a>\u001b[0m parallel_edges \u001b[39m=\u001b[39m month_walker(comment_df, post_df, \u001b[39m2020\u001b[39;49m, \u001b[39m1\u001b[39;49m)\n",
      "\u001b[1;32m/Users/victor/Desktop/CS/UST_summer/monthwalker.ipynb Cell 8'\u001b[0m in \u001b[0;36mmonth_walker\u001b[0;34m(comment_df, post_df, year, month)\u001b[0m\n\u001b[1;32m      <a href='vscode-notebook-cell:/Users/victor/Desktop/CS/UST_summer/monthwalker.ipynb#ch0000032?line=8'>9</a>\u001b[0m post_df \u001b[39m=\u001b[39m post_df[(post_df\u001b[39m.\u001b[39mcreated_utc \u001b[39m>\u001b[39m\u001b[39m=\u001b[39m startdate\u001b[39m.\u001b[39mtimestamp()) \u001b[39m&\u001b[39m (post_df\u001b[39m.\u001b[39mcreated_utc \u001b[39m<\u001b[39m enddate\u001b[39m.\u001b[39mtimestamp())]\n\u001b[1;32m     <a href='vscode-notebook-cell:/Users/victor/Desktop/CS/UST_summer/monthwalker.ipynb#ch0000032?line=9'>10</a>\u001b[0m \u001b[39m# create the t1 and t3 id:name key value pair\u001b[39;00m\n\u001b[0;32m---> <a href='vscode-notebook-cell:/Users/victor/Desktop/CS/UST_summer/monthwalker.ipynb#ch0000032?line=10'>11</a>\u001b[0m t3_name_id, t1_name_id \u001b[39m=\u001b[39m create_post_comment_name_id(post_df, comment_df)\n\u001b[1;32m     <a href='vscode-notebook-cell:/Users/victor/Desktop/CS/UST_summer/monthwalker.ipynb#ch0000032?line=11'>12</a>\u001b[0m \u001b[39m# concat the comment and post df\u001b[39;00m\n\u001b[1;32m     <a href='vscode-notebook-cell:/Users/victor/Desktop/CS/UST_summer/monthwalker.ipynb#ch0000032?line=12'>13</a>\u001b[0m concat_df \u001b[39m=\u001b[39m merge_df(comment_df, post_df)\n",
      "File \u001b[0;32m~/Desktop/CS/UST_summer/utils/dataframe_utils.py:42\u001b[0m, in \u001b[0;36mcreate_post_comment_name_id\u001b[0;34m(post_dataframe, comment_dataframe)\u001b[0m\n\u001b[1;32m     40\u001b[0m post_name_id \u001b[39m=\u001b[39m {}\n\u001b[1;32m     41\u001b[0m comment_name_id \u001b[39m=\u001b[39m {}\n\u001b[0;32m---> 42\u001b[0m post_dataframe[\u001b[39m'\u001b[39m\u001b[39mmerged\u001b[39m\u001b[39m'\u001b[39m] \u001b[39m=\u001b[39m post_dataframe\u001b[39m.\u001b[39mapply(\u001b[39mlambda\u001b[39;00m x: {x[\u001b[39m'\u001b[39m\u001b[39mauthor\u001b[39m\u001b[39m'\u001b[39m]:x[\u001b[39m'\u001b[39m\u001b[39mcreated_utc\u001b[39m\u001b[39m'\u001b[39m]}, axis\u001b[39m=\u001b[39m\u001b[39m1\u001b[39m)\n\u001b[1;32m     43\u001b[0m comment_dataframe[\u001b[39m'\u001b[39m\u001b[39mmerged\u001b[39m\u001b[39m'\u001b[39m] \u001b[39m=\u001b[39m comment_dataframe\u001b[39m.\u001b[39mapply(\u001b[39mlambda\u001b[39;00m x: {x[\u001b[39m'\u001b[39m\u001b[39mauthor\u001b[39m\u001b[39m'\u001b[39m]:x[\u001b[39m'\u001b[39m\u001b[39mcreated_utc\u001b[39m\u001b[39m'\u001b[39m]}, axis \u001b[39m=\u001b[39m \u001b[39m1\u001b[39m)\n\u001b[1;32m     44\u001b[0m \u001b[39mfor\u001b[39;00m index, row \u001b[39min\u001b[39;00m post_dataframe\u001b[39m.\u001b[39miterrows():\n",
      "File \u001b[0;32m~/opt/anaconda3/envs/ust/lib/python3.9/site-packages/pandas/core/frame.py:3645\u001b[0m, in \u001b[0;36mDataFrame.__setitem__\u001b[0;34m(self, key, value)\u001b[0m\n\u001b[1;32m   3643\u001b[0m     \u001b[39mself\u001b[39m\u001b[39m.\u001b[39m_setitem_array(key, value)\n\u001b[1;32m   3644\u001b[0m \u001b[39melif\u001b[39;00m \u001b[39misinstance\u001b[39m(value, DataFrame):\n\u001b[0;32m-> 3645\u001b[0m     \u001b[39mself\u001b[39;49m\u001b[39m.\u001b[39;49m_set_item_frame_value(key, value)\n\u001b[1;32m   3646\u001b[0m \u001b[39melif\u001b[39;00m (\n\u001b[1;32m   3647\u001b[0m     is_list_like(value)\n\u001b[1;32m   3648\u001b[0m     \u001b[39mand\u001b[39;00m \u001b[39mnot\u001b[39;00m \u001b[39mself\u001b[39m\u001b[39m.\u001b[39mcolumns\u001b[39m.\u001b[39mis_unique\n\u001b[1;32m   3649\u001b[0m     \u001b[39mand\u001b[39;00m \u001b[39m1\u001b[39m \u001b[39m<\u001b[39m \u001b[39mlen\u001b[39m(\u001b[39mself\u001b[39m\u001b[39m.\u001b[39mcolumns\u001b[39m.\u001b[39mget_indexer_for([key])) \u001b[39m==\u001b[39m \u001b[39mlen\u001b[39m(value)\n\u001b[1;32m   3650\u001b[0m ):\n\u001b[1;32m   3651\u001b[0m     \u001b[39m# Column to set is duplicated\u001b[39;00m\n\u001b[1;32m   3652\u001b[0m     \u001b[39mself\u001b[39m\u001b[39m.\u001b[39m_setitem_array([key], value)\n",
      "File \u001b[0;32m~/opt/anaconda3/envs/ust/lib/python3.9/site-packages/pandas/core/frame.py:3788\u001b[0m, in \u001b[0;36mDataFrame._set_item_frame_value\u001b[0;34m(self, key, value)\u001b[0m\n\u001b[1;32m   3786\u001b[0m \u001b[39m# now align rows\u001b[39;00m\n\u001b[1;32m   3787\u001b[0m arraylike \u001b[39m=\u001b[39m _reindex_for_setitem(value, \u001b[39mself\u001b[39m\u001b[39m.\u001b[39mindex)\n\u001b[0;32m-> 3788\u001b[0m \u001b[39mself\u001b[39;49m\u001b[39m.\u001b[39;49m_set_item_mgr(key, arraylike)\n",
      "File \u001b[0;32m~/opt/anaconda3/envs/ust/lib/python3.9/site-packages/pandas/core/frame.py:3802\u001b[0m, in \u001b[0;36mDataFrame._set_item_mgr\u001b[0;34m(self, key, value)\u001b[0m\n\u001b[1;32m   3799\u001b[0m     loc \u001b[39m=\u001b[39m \u001b[39mself\u001b[39m\u001b[39m.\u001b[39m_info_axis\u001b[39m.\u001b[39mget_loc(key)\n\u001b[1;32m   3800\u001b[0m \u001b[39mexcept\u001b[39;00m \u001b[39mKeyError\u001b[39;00m:\n\u001b[1;32m   3801\u001b[0m     \u001b[39m# This item wasn't present, just insert at end\u001b[39;00m\n\u001b[0;32m-> 3802\u001b[0m     \u001b[39mself\u001b[39;49m\u001b[39m.\u001b[39;49m_mgr\u001b[39m.\u001b[39;49minsert(\u001b[39mlen\u001b[39;49m(\u001b[39mself\u001b[39;49m\u001b[39m.\u001b[39;49m_info_axis), key, value)\n\u001b[1;32m   3803\u001b[0m \u001b[39melse\u001b[39;00m:\n\u001b[1;32m   3804\u001b[0m     \u001b[39mself\u001b[39m\u001b[39m.\u001b[39m_iset_item_mgr(loc, value)\n",
      "File \u001b[0;32m~/opt/anaconda3/envs/ust/lib/python3.9/site-packages/pandas/core/internals/managers.py:1235\u001b[0m, in \u001b[0;36mBlockManager.insert\u001b[0;34m(self, loc, item, value)\u001b[0m\n\u001b[1;32m   1233\u001b[0m     value \u001b[39m=\u001b[39m value\u001b[39m.\u001b[39mT\n\u001b[1;32m   1234\u001b[0m     \u001b[39mif\u001b[39;00m \u001b[39mlen\u001b[39m(value) \u001b[39m>\u001b[39m \u001b[39m1\u001b[39m:\n\u001b[0;32m-> 1235\u001b[0m         \u001b[39mraise\u001b[39;00m \u001b[39mValueError\u001b[39;00m(\n\u001b[1;32m   1236\u001b[0m             \u001b[39mf\u001b[39m\u001b[39m\"\u001b[39m\u001b[39mExpected a 1D array, got an array with shape \u001b[39m\u001b[39m{\u001b[39;00mvalue\u001b[39m.\u001b[39mT\u001b[39m.\u001b[39mshape\u001b[39m}\u001b[39;00m\u001b[39m\"\u001b[39m\n\u001b[1;32m   1237\u001b[0m         )\n\u001b[1;32m   1238\u001b[0m \u001b[39melse\u001b[39;00m:\n\u001b[1;32m   1239\u001b[0m     value \u001b[39m=\u001b[39m ensure_block_shape(value, ndim\u001b[39m=\u001b[39m\u001b[39mself\u001b[39m\u001b[39m.\u001b[39mndim)\n",
      "\u001b[0;31mValueError\u001b[0m: Expected a 1D array, got an array with shape (0, 4)"
     ]
    }
   ],
   "source": [
    "parallel_edges = month_walker(comment_df, post_df, 2020, 1)"
   ]
  },
  {
   "cell_type": "markdown",
   "metadata": {},
   "source": [
    "----------\n",
    "<h1>Test</h1>"
   ]
  },
  {
   "cell_type": "code",
   "execution_count": 9,
   "metadata": {},
   "outputs": [],
   "source": [
    "fp_comment = '/Users/victor/Desktop/CS/UST_summer/01-20_comments.csv'\n",
    "comment_df = pd.read_csv(fp_comment, low_memory = False)[['author', 'id', 'created_utc', 'link_id', 'parent_id']]\n",
    "fp_post = '/Users/victor/Desktop/CS/UST_summer/all_posts_clean_1.csv'\n",
    "post_df = pd.read_csv(fp_post, low_memory = False)[['author', 'id', 'created_utc']]\n",
    "# cut the post_df into month\n",
    "post_df = post_df[(post_df.created_utc >= 1609459200) & (post_df.created_utc < 1612137600)]"
   ]
  },
  {
   "cell_type": "code",
   "execution_count": 10,
   "metadata": {},
   "outputs": [
    {
     "data": {
      "application/vnd.jupyter.widget-view+json": {
       "model_id": "1c4d2083ea2947fc89dd1de39b3f2117",
       "version_major": 2,
       "version_minor": 0
      },
      "text/plain": [
       "  0%|          | 0/452604 [00:00<?, ?it/s]"
      ]
     },
     "metadata": {},
     "output_type": "display_data"
    }
   ],
   "source": [
    "comment_bot, comment_df = full_clean(comment_df, bot_list, popular_bot, by_parent=True)"
   ]
  },
  {
   "cell_type": "code",
   "execution_count": 6,
   "metadata": {},
   "outputs": [
    {
     "data": {
      "application/vnd.jupyter.widget-view+json": {
       "model_id": "428baddbed0644848e1283fea312ecb4",
       "version_major": 2,
       "version_minor": 0
      },
      "text/plain": [
       "  0%|          | 0/373878 [00:00<?, ?it/s]"
      ]
     },
     "metadata": {},
     "output_type": "display_data"
    }
   ],
   "source": [
    "post_bot, post_df = full_clean(post_df, bot_list, popular_bot)"
   ]
  },
  {
   "cell_type": "code",
   "execution_count": 7,
   "metadata": {},
   "outputs": [],
   "source": [
    "t3_name_id, t1_name_id = create_post_comment_name_id(post_df, comment_df)"
   ]
  },
  {
   "cell_type": "code",
   "execution_count": 8,
   "metadata": {},
   "outputs": [],
   "source": [
    "concat_df = merge_df(comment_df, post_df)"
   ]
  },
  {
   "cell_type": "code",
   "execution_count": 9,
   "metadata": {},
   "outputs": [
    {
     "name": "stderr",
     "output_type": "stream",
     "text": [
      "/Users/victor/Desktop/CS/UST_summer/utils/dataframe_utils.py:132: SettingWithCopyWarning: \n",
      "A value is trying to be set on a copy of a slice from a DataFrame.\n",
      "Try using .loc[row_indexer,col_indexer] = value instead\n",
      "\n",
      "See the caveats in the documentation: https://pandas.pydata.org/pandas-docs/stable/user_guide/indexing.html#returning-a-view-versus-a-copy\n",
      "  level_1_comments['merged'] = level_1_comments.apply(lambda x: {x['author']:x['created_utc']}, axis=1) #merge author and created_utc into dict\n"
     ]
    },
    {
     "data": {
      "application/vnd.jupyter.widget-view+json": {
       "model_id": "b2566add9def486795f8d9f6a56248c3",
       "version_major": 2,
       "version_minor": 0
      },
      "text/plain": [
       "  0%|          | 0/5181 [00:00<?, ?it/s]"
      ]
     },
     "metadata": {},
     "output_type": "display_data"
    }
   ],
   "source": [
    "t3_df = create_t3_df(concat_df)"
   ]
  },
  {
   "cell_type": "code",
   "execution_count": 10,
   "metadata": {},
   "outputs": [
    {
     "name": "stderr",
     "output_type": "stream",
     "text": [
      "/Users/victor/Desktop/CS/UST_summer/utils/dataframe_utils.py:155: SettingWithCopyWarning: \n",
      "A value is trying to be set on a copy of a slice from a DataFrame.\n",
      "Try using .loc[row_indexer,col_indexer] = value instead\n",
      "\n",
      "See the caveats in the documentation: https://pandas.pydata.org/pandas-docs/stable/user_guide/indexing.html#returning-a-view-versus-a-copy\n",
      "  sub_comments['merged'] = sub_comments.apply(lambda x: {x['author']:x['created_utc']}, axis=1) #merge author and created_utc into dict\n"
     ]
    },
    {
     "data": {
      "application/vnd.jupyter.widget-view+json": {
       "model_id": "0e4d11b78a0648da8c7e245fca8ce87d",
       "version_major": 2,
       "version_minor": 0
      },
      "text/plain": [
       "  0%|          | 0/33625 [00:00<?, ?it/s]"
      ]
     },
     "metadata": {},
     "output_type": "display_data"
    }
   ],
   "source": [
    "t1_df = create_t1_df(concat_df)"
   ]
  },
  {
   "cell_type": "code",
   "execution_count": 11,
   "metadata": {},
   "outputs": [],
   "source": [
    "complete_df = create_complete_df(t1_name_id, t1_df, t3_name_id, t3_df)"
   ]
  },
  {
   "cell_type": "code",
   "execution_count": null,
   "metadata": {},
   "outputs": [],
   "source": [
    "author_list = complete_df.merged.iloc[0]\n",
    "author_list"
   ]
  },
  {
   "cell_type": "code",
   "execution_count": null,
   "metadata": {},
   "outputs": [],
   "source": [
    "author = author_list[0]\n",
    "k,v = next((str(k), str(v)) for k, v in author.items())\n",
    "type(k)\n",
    "    "
   ]
  },
  {
   "cell_type": "code",
   "execution_count": 12,
   "metadata": {},
   "outputs": [],
   "source": [
    "parallel_edges = get_parallel_edges(complete_df, concat_df)\n",
    "weighted_edges = get_weighted_edges(parallel_edges)\n",
    "weighted_edges['inverse_weight'] = 1/weighted_edges['weight']"
   ]
  },
  {
   "cell_type": "code",
   "execution_count": null,
   "metadata": {},
   "outputs": [],
   "source": []
  }
 ],
 "metadata": {
  "kernelspec": {
   "display_name": "Python 3",
   "language": "python",
   "name": "python3"
  },
  "language_info": {
   "codemirror_mode": {
    "name": "ipython",
    "version": 3
   },
   "file_extension": ".py",
   "mimetype": "text/x-python",
   "name": "python",
   "nbconvert_exporter": "python",
   "pygments_lexer": "ipython3",
   "version": "3.9.12"
  },
  "vscode": {
   "interpreter": {
    "hash": "864791b727c67594ba35b846e2fef3ab0cf2138c660c288cb4b982d81a4cb57f"
   }
  }
 },
 "nbformat": 4,
 "nbformat_minor": 4
}
