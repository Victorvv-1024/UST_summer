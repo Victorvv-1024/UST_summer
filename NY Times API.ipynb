{
 "cells": [
  {
   "cell_type": "code",
   "execution_count": null,
   "metadata": {},
   "outputs": [],
   "source": [
    "import requests\n",
    "import os\n",
    "from pprint import pprint\n",
    "import json\n",
    "import re\n",
    "import re\n",
    "import nltk\n",
    "from stop_words import get_stop_words\n",
    "from nltk.corpus import stopwords"
   ]
  },
  {
   "cell_type": "code",
   "execution_count": null,
   "metadata": {},
   "outputs": [],
   "source": [
    "apikey = 'Your_API_Key'\n",
    "query_url = f\"https://api.nytimes.com/svc/archive/v1/2020/6.json?api-key={apikey}\"\n",
    "r = requests.get(query_url)\n",
    "data = r.json()"
   ]
  },
  {
   "cell_type": "code",
   "execution_count": null,
   "metadata": {},
   "outputs": [],
   "source": [
    "stop_words = list(get_stop_words('en'))         \n",
    "nltk_words = list(stopwords.words('english'))   \n",
    "stop_words.extend(nltk_words)\n",
    "\n",
    "\n",
    "years = ['2020', '2021']\n",
    "keyword_dict = {}\n",
    "months = ['1', '2', '3', '4', '5', '6', '7', '8', '9', '10', '11', '12']\n",
    "\n",
    "\n",
    "for year in years:\n",
    "    for month in months:\n",
    "        query_url = f\"https://api.nytimes.com/svc/archive/v1/{year}/{month}.json?api-key={apikey}\"\n",
    "        r = requests.get(query_url)\n",
    "        data = r.json()\n",
    "        articles = data[\"response\"][\"docs\"]\n",
    "        keyword_dict[\"year{y}month{m}\".format(y=year, m=month)] = [set() for index in range(31)]\n",
    "        for article in articles:\n",
    "            if article['section_name'] == 'Business Day':\n",
    "                corresponding_set = int(article['pub_date'][8:10])-1\n",
    "                for word in article['keywords']:\n",
    "                    re_word = re.sub('[^a-zA-Z0-9-. ]', '', word['value'].lower())\n",
    "                    tokens = nltk.word_tokenize(re_word)\n",
    "                    for token in tokens:\n",
    "                        if not token in stop_words:\n",
    "                            keyword_dict[\"year{y}month{m}\".format(y=year, m=month)][corresponding_set].add(re.sub('\\-$', '', token))\n",
    "            \n",
    "            else:\n",
    "                continue"
   ]
  },
  {
   "cell_type": "code",
   "execution_count": null,
   "metadata": {},
   "outputs": [],
   "source": [
    "with open('NYT2020_2021_keywords.pickle', 'wb') as handle:\n",
    "    pickle.dump(data, handle, protocol=pickle.HIGHEST_PROTOCOL)"
   ]
  }
 ],
 "metadata": {
  "kernelspec": {
   "display_name": "Python 3",
   "language": "python",
   "name": "python3"
  },
  "language_info": {
   "codemirror_mode": {
    "name": "ipython",
    "version": 3
   },
   "file_extension": ".py",
   "mimetype": "text/x-python",
   "name": "python",
   "nbconvert_exporter": "python",
   "pygments_lexer": "ipython3",
   "version": "3.8.3"
  }
 },
 "nbformat": 4,
 "nbformat_minor": 4
}
