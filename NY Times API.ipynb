{
 "cells": [
  {
   "cell_type": "code",
   "execution_count": 2,
   "metadata": {},
   "outputs": [],
   "source": [
    "import requests\n",
    "import os\n",
    "from pprint import pprint\n",
    "import json\n",
    "import re\n",
    "import re\n",
    "import nltk\n",
    "from stop_words import get_stop_words\n",
    "from nltk.corpus import stopwords"
   ]
  },
  {
   "cell_type": "code",
   "execution_count": null,
   "metadata": {},
   "outputs": [],
   "source": [
    "apikey = 'Your_API_Key'\n",
    "query_url = f\"https://api.nytimes.com/svc/archive/v1/2020/6.json?api-key={apikey}\"\n",
    "r = requests.get(query_url)\n",
    "data = r.json()"
   ]
  },
  {
   "cell_type": "code",
   "execution_count": null,
   "metadata": {},
   "outputs": [],
   "source": [
    "stop_words = list(get_stop_words('en'))         \n",
    "nltk_words = list(stopwords.words('english'))   \n",
    "stop_words.extend(nltk_words)\n",
    "\n",
    "\n",
    "years = ['2020', '2021']\n",
    "keyword_dict = {}\n",
    "months = ['1', '2', '3', '4', '5', '6', '7', '8', '9', '10', '11', '12']\n",
    "\n",
    "\n",
    "for year in years:\n",
    "    for month in months:\n",
    "        query_url = f\"https://api.nytimes.com/svc/archive/v1/{year}/{month}.json?api-key={apikey}\"\n",
    "        r = requests.get(query_url)\n",
    "        data = r.json()\n",
    "        articles = data[\"response\"][\"docs\"]\n",
    "        keyword_dict[\"year{y}month{m}\".format(y=year, m=month)] = [set() for index in range(31)]\n",
    "        for article in articles:\n",
    "            if article['section_name'] == 'Business Day':\n",
    "                corresponding_set = int(article['pub_date'][8:10])-1\n",
    "                for word in article['keywords']:\n",
    "                    re_word = re.sub('[^a-zA-Z0-9-. ]', '', word['value'].lower())\n",
    "                    tokens = nltk.word_tokenize(re_word)\n",
    "                    for token in tokens:\n",
    "                        if not token in stop_words:\n",
    "                            keyword_dict[\"{y}-{m}-{d}\".format(y=year, m=month,d=str(corresponding_set+1))][corresponding_set].add(re.sub('\\-$', '', token))\n",
    "            \n",
    "            else:\n",
    "                continue"
   ]
  },
  {
   "cell_type": "code",
   "execution_count": null,
   "metadata": {},
   "outputs": [],
   "source": [
    "with open('NYT2020_2021_keywords.pickle', 'wb') as handle:\n",
    "    pickle.dump(data, handle, protocol=pickle.HIGHEST_PROTOCOL)"
   ]
  },
  {
   "cell_type": "markdown",
   "metadata": {},
   "source": [
    "------\n",
    "<h1>Create new variables</h1>"
   ]
  },
  {
   "cell_type": "code",
   "execution_count": 20,
   "metadata": {},
   "outputs": [],
   "source": [
    "# create the t3_df\n",
    "import pandas as pd\n",
    "\n",
    "fp = '/Users/victor/Desktop/CS/UST_summer/t3_df.csv'\n",
    "sc = ['id','author','created_utc','title']\n",
    "t3_df = pd.read_csv(fp, low_memory = False)"
   ]
  },
  {
   "cell_type": "code",
   "execution_count": 21,
   "metadata": {},
   "outputs": [
    {
     "data": {
      "text/html": [
       "<div>\n",
       "<style scoped>\n",
       "    .dataframe tbody tr th:only-of-type {\n",
       "        vertical-align: middle;\n",
       "    }\n",
       "\n",
       "    .dataframe tbody tr th {\n",
       "        vertical-align: top;\n",
       "    }\n",
       "\n",
       "    .dataframe thead th {\n",
       "        text-align: right;\n",
       "    }\n",
       "</style>\n",
       "<table border=\"1\" class=\"dataframe\">\n",
       "  <thead>\n",
       "    <tr style=\"text-align: right;\">\n",
       "      <th></th>\n",
       "      <th>Unnamed: 0</th>\n",
       "      <th>id</th>\n",
       "      <th>author</th>\n",
       "      <th>title</th>\n",
       "      <th>is_bot</th>\n",
       "    </tr>\n",
       "  </thead>\n",
       "  <tbody>\n",
       "    <tr>\n",
       "      <th>0</th>\n",
       "      <td>0</td>\n",
       "      <td>mhj2yd</td>\n",
       "      <td>USWD_Bank</td>\n",
       "      <td>NFT Collectable: USWD (United States Web Dollar)</td>\n",
       "      <td>False</td>\n",
       "    </tr>\n",
       "    <tr>\n",
       "      <th>1</th>\n",
       "      <td>2</td>\n",
       "      <td>mhj3ew</td>\n",
       "      <td>KingMacias1</td>\n",
       "      <td>We made it to Vice News you dirty apes! Any pu...</td>\n",
       "      <td>False</td>\n",
       "    </tr>\n",
       "    <tr>\n",
       "      <th>2</th>\n",
       "      <td>3</td>\n",
       "      <td>mhj3oa</td>\n",
       "      <td>jt989898</td>\n",
       "      <td>Polygon?</td>\n",
       "      <td>False</td>\n",
       "    </tr>\n",
       "    <tr>\n",
       "      <th>3</th>\n",
       "      <td>4</td>\n",
       "      <td>mhj3vq</td>\n",
       "      <td>KenAdamsonPrime</td>\n",
       "      <td>Ubiquiti ($UI) gets PWND by hackers, stock goe...</td>\n",
       "      <td>False</td>\n",
       "    </tr>\n",
       "    <tr>\n",
       "      <th>4</th>\n",
       "      <td>6</td>\n",
       "      <td>mhj4o5</td>\n",
       "      <td>lexmark0331</td>\n",
       "      <td>HOFV mega squeeze</td>\n",
       "      <td>False</td>\n",
       "    </tr>\n",
       "  </tbody>\n",
       "</table>\n",
       "</div>"
      ],
      "text/plain": [
       "   Unnamed: 0      id           author  \\\n",
       "0           0  mhj2yd        USWD_Bank   \n",
       "1           2  mhj3ew      KingMacias1   \n",
       "2           3  mhj3oa         jt989898   \n",
       "3           4  mhj3vq  KenAdamsonPrime   \n",
       "4           6  mhj4o5      lexmark0331   \n",
       "\n",
       "                                               title  is_bot  \n",
       "0   NFT Collectable: USWD (United States Web Dollar)   False  \n",
       "1  We made it to Vice News you dirty apes! Any pu...   False  \n",
       "2                                           Polygon?   False  \n",
       "3  Ubiquiti ($UI) gets PWND by hackers, stock goe...   False  \n",
       "4                                  HOFV mega squeeze   False  "
      ]
     },
     "execution_count": 21,
     "metadata": {},
     "output_type": "execute_result"
    }
   ],
   "source": [
    "t3_df.head()"
   ]
  },
  {
   "cell_type": "code",
   "execution_count": null,
   "metadata": {},
   "outputs": [],
   "source": [
    "from datetime import datetime, timedelta\n",
    "import numpy as np\n",
    "\n",
    "def generate_NYT_keyword(t3_df, keyword_dict):\n",
    "    has_key = []\n",
    "    for index, row in t3_df.iterrows():\n",
    "        dt = datetime.fromtimestamp(row['created_utc'])\n",
    "        prev_dt = dt - timedelta(days=1)\n",
    "        # datetime obj to string\n",
    "        dt = str(dt).split('')[0]\n",
    "        prev_dt = str(prev_dt).split('')[0]\n",
    "        \n",
    "        # tokenise the title\n",
    "        title = row['title']\n",
    "        if title == ' ':\n",
    "            has_key.append(np.nan)\n",
    "            continue\n",
    "        \n",
    "        title_tokens = set(nltk.word_tokenize(row['title']))\n",
    "        \n",
    "        keys = keyword_dict[dt] # it returns a set of keywords from this date.\n",
    "        try:\n",
    "            prev_key = keyword_dict[prev_dt] # it returns the keyword from the previous day\n",
    "            keys = keys.union(prev_key)\n",
    "        except:\n",
    "            print('it is the start day of the dataframe')\n",
    "        \n",
    "        # check the set intersection\n",
    "        result = keys.intersection(title_tokens)\n",
    "        \n",
    "        if len(result) != 0:\n",
    "            has_key.append(1)\n",
    "        else: has_key.append(0)\n",
    "    \n",
    "    return has_key\n"
   ]
  }
 ],
 "metadata": {
  "kernelspec": {
   "display_name": "Python 3.9.12",
   "language": "python",
   "name": "python3"
  },
  "language_info": {
   "codemirror_mode": {
    "name": "ipython",
    "version": 3
   },
   "file_extension": ".py",
   "mimetype": "text/x-python",
   "name": "python",
   "nbconvert_exporter": "python",
   "pygments_lexer": "ipython3",
   "version": "3.9.12"
  },
  "vscode": {
   "interpreter": {
    "hash": "864791b727c67594ba35b846e2fef3ab0cf2138c660c288cb4b982d81a4cb57f"
   }
  }
 },
 "nbformat": 4,
 "nbformat_minor": 4
}
