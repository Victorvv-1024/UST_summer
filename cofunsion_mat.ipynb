{
 "cells": [
  {
   "cell_type": "markdown",
   "metadata": {},
   "source": [
    "<h1>Pacakages</h1>"
   ]
  },
  {
   "cell_type": "code",
   "execution_count": 1,
   "metadata": {},
   "outputs": [],
   "source": [
    "import pandas as pd\n",
    "import numpy as np\n",
    "from datetime import datetime\n",
    "from dateutil.relativedelta import relativedelta\n",
    "import re\n",
    "import networkx as nx\n",
    "from tqdm.notebook import tqdm\n",
    "tqdm.pandas()\n",
    "import os"
   ]
  },
  {
   "cell_type": "markdown",
   "metadata": {},
   "source": [
    "<h1>Auxiliary functions to clean the bot</h1>"
   ]
  },
  {
   "cell_type": "code",
   "execution_count": 2,
   "metadata": {},
   "outputs": [],
   "source": [
    "bot_list = pd.read_csv('/Users/victor/Desktop/CS/UST_summer/bot_list.csv')\n",
    "bot_list['Username'] = bot_list.Username.apply(lambda x: x[3:])"
   ]
  },
  {
   "cell_type": "code",
   "execution_count": 3,
   "metadata": {},
   "outputs": [
    {
     "data": {
      "text/html": [
       "<div>\n",
       "<style scoped>\n",
       "    .dataframe tbody tr th:only-of-type {\n",
       "        vertical-align: middle;\n",
       "    }\n",
       "\n",
       "    .dataframe tbody tr th {\n",
       "        vertical-align: top;\n",
       "    }\n",
       "\n",
       "    .dataframe thead th {\n",
       "        text-align: right;\n",
       "    }\n",
       "</style>\n",
       "<table border=\"1\" class=\"dataframe\">\n",
       "  <thead>\n",
       "    <tr style=\"text-align: right;\">\n",
       "      <th></th>\n",
       "      <th>author</th>\n",
       "      <th>num_comments</th>\n",
       "      <th>num_del_comments</th>\n",
       "      <th>num_posts</th>\n",
       "      <th>num_del_posts</th>\n",
       "      <th>bot_flag</th>\n",
       "      <th>all_sub</th>\n",
       "      <th>is_bot</th>\n",
       "      <th>Unnamed: 8</th>\n",
       "    </tr>\n",
       "  </thead>\n",
       "  <tbody>\n",
       "    <tr>\n",
       "      <th>0</th>\n",
       "      <td>AutoModerator</td>\n",
       "      <td>289569.0</td>\n",
       "      <td>0.0</td>\n",
       "      <td>670.0</td>\n",
       "      <td>7.0</td>\n",
       "      <td>0</td>\n",
       "      <td>290239.0</td>\n",
       "      <td>1</td>\n",
       "      <td>NaN</td>\n",
       "    </tr>\n",
       "    <tr>\n",
       "      <th>1</th>\n",
       "      <td>AveenoFresh</td>\n",
       "      <td>11756.0</td>\n",
       "      <td>0.0</td>\n",
       "      <td>25.0</td>\n",
       "      <td>2.0</td>\n",
       "      <td>0</td>\n",
       "      <td>11781.0</td>\n",
       "      <td>1</td>\n",
       "      <td>NaN</td>\n",
       "    </tr>\n",
       "    <tr>\n",
       "      <th>3</th>\n",
       "      <td>FannyPackPhantom</td>\n",
       "      <td>13549.0</td>\n",
       "      <td>0.0</td>\n",
       "      <td>0.0</td>\n",
       "      <td>0.0</td>\n",
       "      <td>0</td>\n",
       "      <td>13549.0</td>\n",
       "      <td>1</td>\n",
       "      <td>NaN</td>\n",
       "    </tr>\n",
       "    <tr>\n",
       "      <th>5</th>\n",
       "      <td>G23456789</td>\n",
       "      <td>11965.0</td>\n",
       "      <td>0.0</td>\n",
       "      <td>2.0</td>\n",
       "      <td>2.0</td>\n",
       "      <td>0</td>\n",
       "      <td>11967.0</td>\n",
       "      <td>1</td>\n",
       "      <td>NaN</td>\n",
       "    </tr>\n",
       "    <tr>\n",
       "      <th>6</th>\n",
       "      <td>GoBeaversOSU</td>\n",
       "      <td>26183.0</td>\n",
       "      <td>2.0</td>\n",
       "      <td>6.0</td>\n",
       "      <td>0.0</td>\n",
       "      <td>0</td>\n",
       "      <td>26189.0</td>\n",
       "      <td>1</td>\n",
       "      <td>NaN</td>\n",
       "    </tr>\n",
       "  </tbody>\n",
       "</table>\n",
       "</div>"
      ],
      "text/plain": [
       "             author  num_comments  num_del_comments  num_posts  num_del_posts  \\\n",
       "0     AutoModerator      289569.0               0.0      670.0            7.0   \n",
       "1       AveenoFresh       11756.0               0.0       25.0            2.0   \n",
       "3  FannyPackPhantom       13549.0               0.0        0.0            0.0   \n",
       "5         G23456789       11965.0               0.0        2.0            2.0   \n",
       "6      GoBeaversOSU       26183.0               2.0        6.0            0.0   \n",
       "\n",
       "   bot_flag   all_sub  is_bot  Unnamed: 8  \n",
       "0         0  290239.0       1         NaN  \n",
       "1         0   11781.0       1         NaN  \n",
       "3         0   13549.0       1         NaN  \n",
       "5         0   11967.0       1         NaN  \n",
       "6         0   26189.0       1         NaN  "
      ]
     },
     "execution_count": 3,
     "metadata": {},
     "output_type": "execute_result"
    }
   ],
   "source": [
    "popular_author = pd.read_csv('/Users/victor/Desktop/CS/UST_summer/10k_sub 2.csv')\n",
    "\n",
    "popular_bot = popular_author[popular_author.is_bot == 1]\n",
    "popular_bot.head()"
   ]
  },
  {
   "cell_type": "code",
   "execution_count": 4,
   "metadata": {},
   "outputs": [],
   "source": [
    "def advanced_clean(name):\n",
    "    \n",
    "    tokens = re.findall(r'[A-Z](?:[A-Z]*(?![a-z])|[a-z]*)', name)\n",
    "    tokens = list(map(lambda x: x.lower(), tokens))\n",
    "    \n",
    "    tokens = list (map(lambda x: re.split('[^a-zA-Z]',x), tokens))\n",
    "    tokens = [item for sublist in tokens for item in sublist]\n",
    "    \n",
    "    if 'not' in tokens and 'bot' in tokens:\n",
    "        return False\n",
    "\n",
    "    elif 'bot' in tokens:\n",
    "        return True\n",
    "    \n",
    "    return False"
   ]
  },
  {
   "cell_type": "code",
   "execution_count": 5,
   "metadata": {},
   "outputs": [],
   "source": [
    "def full_clean (dataframe):\n",
    "    # shallow clean\n",
    "    dataframe = dataframe[dataframe.author != '[deleted]']\n",
    "    dataframe = dataframe[dataframe.author != 'AutoModerator']\n",
    "    dataframe = dataframe[dataframe.author != 'VisualMod']\n",
    "    \n",
    "    # deep clean \n",
    "    dataframe['is_bot']  = dataframe['author'].progress_apply(advanced_clean)\n",
    "    bot_df1 = dataframe[dataframe.is_bot == True]\n",
    "    dataframe = dataframe[dataframe.is_bot == False]\n",
    "    \n",
    "    # further clean\n",
    "    dataframe['is_bot'] = dataframe.author.isin(bot_list.Username)\n",
    "    bot_df2 = dataframe[dataframe.is_bot == True]\n",
    "    dataframe = dataframe[dataframe.is_bot == False]\n",
    "    \n",
    "    dataframe['is_bot'] = dataframe.author.isin(popular_bot.author)\n",
    "    bot_df3 = dataframe[dataframe.is_bot == True]\n",
    "    dataframe = dataframe[dataframe.is_bot == False]\n",
    "\n",
    "    \n",
    "    bot = pd.concat([bot_df1, bot_df2,bot_df3])\n",
    "    bot = bot.drop_duplicates()\n",
    "    \n",
    "    return bot, dataframe\n",
    "    \n",
    "    "
   ]
  },
  {
   "cell_type": "markdown",
   "metadata": {},
   "source": [
    "<h1>Auxilary functions</h1>"
   ]
  },
  {
   "cell_type": "code",
   "execution_count": 6,
   "metadata": {},
   "outputs": [],
   "source": [
    "def create_name_id_dict(dataframe):    #create id:author dataframe\n",
    "    name_id = {}\n",
    "    for i in range(dataframe.shape[0]):\n",
    "        key = dataframe.id.iloc[i]\n",
    "        value = dataframe.author.iloc[i]\n",
    "\n",
    "        key_value_pair = {key:value}\n",
    "\n",
    "        name_id.update(key_value_pair)\n",
    "    return name_id"
   ]
  },
  {
   "cell_type": "markdown",
   "metadata": {},
   "source": [
    "<h1>Read the 1.5 yrs data</h1>"
   ]
  },
  {
   "cell_type": "code",
   "execution_count": null,
   "metadata": {},
   "outputs": [],
   "source": [
    "fp = '/Users/victor/Desktop/CS/UST_summer/extracted_cols.csv'\n",
    "selected_cols = ['author', 'id', 'link_id', 'parent_id']\n",
    "extracted_cols = pd.read_csv(fp, low_memory = False)[selected_cols]\n",
    "\n",
    "bot_extracted_cols, extracted_cols = full_clean(extracted_cols)"
   ]
  },
  {
   "cell_type": "code",
   "execution_count": null,
   "metadata": {},
   "outputs": [],
   "source": [
    "# save extracted_cols bot\n",
    "bot_extracted_cols.to_csv('bot_extracted_cols.csv')"
   ]
  },
  {
   "cell_type": "markdown",
   "metadata": {},
   "source": [
    "<h1>For t3-df</h1>"
   ]
  },
  {
   "cell_type": "code",
   "execution_count": 7,
   "metadata": {},
   "outputs": [
    {
     "data": {
      "application/vnd.jupyter.widget-view+json": {
       "model_id": "8546a5cff4254a53a06f7b72d0389301",
       "version_major": 2,
       "version_minor": 0
      },
      "text/plain": [
       "  0%|          | 0/1087302 [00:00<?, ?it/s]"
      ]
     },
     "metadata": {},
     "output_type": "display_data"
    }
   ],
   "source": [
    "fp = '/Users/victor/Desktop/CS/UST_summer/all_posts_clean_1.csv' # the directory of the raw data file, pipeliend from reddits\n",
    "sc = ['id', 'author']\n",
    "t3_df = pd.read_csv(fp, low_memory=False, encoding='utf-8')[sc]\n",
    "\n",
    "t3_bot, t3_df = full_clean(t3_df)"
   ]
  },
  {
   "cell_type": "code",
   "execution_count": 8,
   "metadata": {},
   "outputs": [],
   "source": [
    "# save bot df\n",
    "t3_bot.to_csv('t3_bot.csv')"
   ]
  },
  {
   "cell_type": "code",
   "execution_count": 22,
   "metadata": {},
   "outputs": [
    {
     "data": {
      "text/html": [
       "<div>\n",
       "<style scoped>\n",
       "    .dataframe tbody tr th:only-of-type {\n",
       "        vertical-align: middle;\n",
       "    }\n",
       "\n",
       "    .dataframe tbody tr th {\n",
       "        vertical-align: top;\n",
       "    }\n",
       "\n",
       "    .dataframe thead th {\n",
       "        text-align: right;\n",
       "    }\n",
       "</style>\n",
       "<table border=\"1\" class=\"dataframe\">\n",
       "  <thead>\n",
       "    <tr style=\"text-align: right;\">\n",
       "      <th></th>\n",
       "      <th>id</th>\n",
       "      <th>author</th>\n",
       "      <th>is_bot</th>\n",
       "    </tr>\n",
       "  </thead>\n",
       "  <tbody>\n",
       "    <tr>\n",
       "      <th>0</th>\n",
       "      <td>mhj2yd</td>\n",
       "      <td>USWD_Bank</td>\n",
       "      <td>False</td>\n",
       "    </tr>\n",
       "    <tr>\n",
       "      <th>2</th>\n",
       "      <td>mhj3ew</td>\n",
       "      <td>KingMacias1</td>\n",
       "      <td>False</td>\n",
       "    </tr>\n",
       "    <tr>\n",
       "      <th>3</th>\n",
       "      <td>mhj3oa</td>\n",
       "      <td>jt989898</td>\n",
       "      <td>False</td>\n",
       "    </tr>\n",
       "    <tr>\n",
       "      <th>4</th>\n",
       "      <td>mhj3vq</td>\n",
       "      <td>KenAdamsonPrime</td>\n",
       "      <td>False</td>\n",
       "    </tr>\n",
       "    <tr>\n",
       "      <th>6</th>\n",
       "      <td>mhj4o5</td>\n",
       "      <td>lexmark0331</td>\n",
       "      <td>False</td>\n",
       "    </tr>\n",
       "  </tbody>\n",
       "</table>\n",
       "</div>"
      ],
      "text/plain": [
       "       id           author  is_bot\n",
       "0  mhj2yd        USWD_Bank   False\n",
       "2  mhj3ew      KingMacias1   False\n",
       "3  mhj3oa         jt989898   False\n",
       "4  mhj3vq  KenAdamsonPrime   False\n",
       "6  mhj4o5      lexmark0331   False"
      ]
     },
     "execution_count": 22,
     "metadata": {},
     "output_type": "execute_result"
    }
   ],
   "source": [
    "t3_df.head()"
   ]
  },
  {
   "cell_type": "code",
   "execution_count": 9,
   "metadata": {},
   "outputs": [],
   "source": [
    "#create the output dataframe for level_1 commentors\n",
    "def create_level_1(dataframe):     #create the output dataframe\n",
    "    level_1_comments = dataframe[dataframe['parent_id'] == dataframe['link_id']]\n",
    "    t_3_posts_authors  = level_1_comments.groupby('parent_id')['author'].apply(list).reset_index(name='author')\n",
    "    t_3_posts_authors['sub_comments'] = t_3_posts_authors['author'].progress_apply(lambda x:len(x))\n",
    "    return t_3_posts_authors"
   ]
  },
  {
   "cell_type": "code",
   "execution_count": 10,
   "metadata": {},
   "outputs": [
    {
     "data": {
      "application/vnd.jupyter.widget-view+json": {
       "model_id": "f56c0893d8b94ca3b75c9248ab455bdd",
       "version_major": 2,
       "version_minor": 0
      },
      "text/plain": [
       "  0%|          | 0/32874876 [00:00<?, ?it/s]"
      ]
     },
     "metadata": {},
     "output_type": "display_data"
    }
   ],
   "source": [
    "fp = '/Users/victor/Desktop/CS/UST_summer/extracted_cols.csv'\n",
    "selected_cols = ['author', 'id', 'link_id', 'parent_id']\n",
    "extracted_cols = pd.read_csv(fp, low_memory = False)[selected_cols]\n",
    "\n",
    "bot_extracted_cols, extracted_cols = full_clean(extracted_cols)"
   ]
  },
  {
   "cell_type": "code",
   "execution_count": 11,
   "metadata": {},
   "outputs": [],
   "source": [
    "# save extracted_cols bot\n",
    "bot_extracted_cols.to_csv('bot_extracted_cols.csv')"
   ]
  },
  {
   "cell_type": "code",
   "execution_count": 12,
   "metadata": {},
   "outputs": [
    {
     "data": {
      "application/vnd.jupyter.widget-view+json": {
       "model_id": "ed7455de8bc1461f8a20984de90082fc",
       "version_major": 2,
       "version_minor": 0
      },
      "text/plain": [
       "  0%|          | 0/356610 [00:00<?, ?it/s]"
      ]
     },
     "metadata": {},
     "output_type": "display_data"
    },
    {
     "data": {
      "text/html": [
       "<div>\n",
       "<style scoped>\n",
       "    .dataframe tbody tr th:only-of-type {\n",
       "        vertical-align: middle;\n",
       "    }\n",
       "\n",
       "    .dataframe tbody tr th {\n",
       "        vertical-align: top;\n",
       "    }\n",
       "\n",
       "    .dataframe thead th {\n",
       "        text-align: right;\n",
       "    }\n",
       "</style>\n",
       "<table border=\"1\" class=\"dataframe\">\n",
       "  <thead>\n",
       "    <tr style=\"text-align: right;\">\n",
       "      <th></th>\n",
       "      <th>parent_id</th>\n",
       "      <th>author</th>\n",
       "      <th>sub_comments</th>\n",
       "    </tr>\n",
       "  </thead>\n",
       "  <tbody>\n",
       "    <tr>\n",
       "      <th>0</th>\n",
       "      <td>t3_cb7x6u</td>\n",
       "      <td>[K3rn3l_pAn1k, Lucarioman7, 2broke2flex, DumbR...</td>\n",
       "      <td>8</td>\n",
       "    </tr>\n",
       "    <tr>\n",
       "      <th>1</th>\n",
       "      <td>t3_cca4bh</td>\n",
       "      <td>[ParagonHereticForce]</td>\n",
       "      <td>1</td>\n",
       "    </tr>\n",
       "    <tr>\n",
       "      <th>2</th>\n",
       "      <td>t3_ce7f4e</td>\n",
       "      <td>[Captainflippypants]</td>\n",
       "      <td>1</td>\n",
       "    </tr>\n",
       "    <tr>\n",
       "      <th>3</th>\n",
       "      <td>t3_chcx3a</td>\n",
       "      <td>[The_King32, Xalteox]</td>\n",
       "      <td>2</td>\n",
       "    </tr>\n",
       "    <tr>\n",
       "      <th>4</th>\n",
       "      <td>t3_cj3l52</td>\n",
       "      <td>[qwaszx937]</td>\n",
       "      <td>1</td>\n",
       "    </tr>\n",
       "  </tbody>\n",
       "</table>\n",
       "</div>"
      ],
      "text/plain": [
       "   parent_id                                             author  sub_comments\n",
       "0  t3_cb7x6u  [K3rn3l_pAn1k, Lucarioman7, 2broke2flex, DumbR...             8\n",
       "1  t3_cca4bh                              [ParagonHereticForce]             1\n",
       "2  t3_ce7f4e                               [Captainflippypants]             1\n",
       "3  t3_chcx3a                              [The_King32, Xalteox]             2\n",
       "4  t3_cj3l52                                        [qwaszx937]             1"
      ]
     },
     "execution_count": 12,
     "metadata": {},
     "output_type": "execute_result"
    }
   ],
   "source": [
    "t3_posts_authors = create_level_1(extracted_cols)\n",
    "t3_posts_authors.head()"
   ]
  },
  {
   "cell_type": "markdown",
   "metadata": {},
   "source": [
    "<h1>For t1-df</h1>"
   ]
  },
  {
   "cell_type": "code",
   "execution_count": 14,
   "metadata": {},
   "outputs": [],
   "source": [
    "def create_t1_df(dataframe):\n",
    "    \"\"\"\n",
    "    A function that creates an output dataframe for us to create the edge list later\n",
    "    Args:\n",
    "        daydf (pandas.dataframe): a DAY dataframe to be examined\n",
    "\n",
    "    Returns:\n",
    "        main_authors: a list of authors the gives the main post\n",
    "        output_df: the output dataframe we want\n",
    "    \"\"\"\n",
    "    level_1_comments = dataframe[dataframe['parent_id'] == dataframe['link_id']]\n",
    "\n",
    "    sub_comments = dataframe[~dataframe.index.isin(level_1_comments.index)] #setting the sub comments being those with index that are not in level_1_comments\n",
    "\n",
    "    t1_df  = sub_comments.groupby('parent_id')['author'].apply(list).reset_index(name='author')\n",
    "    t1_df['sub_comments'] = t1_df['author'].progress_apply(lambda x:len(x))\n",
    "    t1_df.sort_values('sub_comments', inplace=True, ascending=False)\n",
    "\n",
    "    return t1_df"
   ]
  },
  {
   "cell_type": "code",
   "execution_count": 15,
   "metadata": {},
   "outputs": [
    {
     "data": {
      "application/vnd.jupyter.widget-view+json": {
       "model_id": "4095ea252e024b95bf5d11439762ecc4",
       "version_major": 2,
       "version_minor": 0
      },
      "text/plain": [
       "  0%|          | 0/12038149 [00:00<?, ?it/s]"
      ]
     },
     "metadata": {},
     "output_type": "display_data"
    },
    {
     "data": {
      "text/html": [
       "<div>\n",
       "<style scoped>\n",
       "    .dataframe tbody tr th:only-of-type {\n",
       "        vertical-align: middle;\n",
       "    }\n",
       "\n",
       "    .dataframe tbody tr th {\n",
       "        vertical-align: top;\n",
       "    }\n",
       "\n",
       "    .dataframe thead th {\n",
       "        text-align: right;\n",
       "    }\n",
       "</style>\n",
       "<table border=\"1\" class=\"dataframe\">\n",
       "  <thead>\n",
       "    <tr style=\"text-align: right;\">\n",
       "      <th></th>\n",
       "      <th>parent_id</th>\n",
       "      <th>author</th>\n",
       "      <th>sub_comments</th>\n",
       "    </tr>\n",
       "  </thead>\n",
       "  <tbody>\n",
       "    <tr>\n",
       "      <th>11502549</th>\n",
       "      <td>t1_h0csj8y</td>\n",
       "      <td>[Optionsfuckup, jackthemackattack, WeHaveBeenF...</td>\n",
       "      <td>2286</td>\n",
       "    </tr>\n",
       "    <tr>\n",
       "      <th>7395789</th>\n",
       "      <td>t1_gl35xpy</td>\n",
       "      <td>[chayochan, thats_not_funny_guys, Appearance-R...</td>\n",
       "      <td>2210</td>\n",
       "    </tr>\n",
       "    <tr>\n",
       "      <th>9119830</th>\n",
       "      <td>t1_golywrq</td>\n",
       "      <td>[Obliterateee, Grizzlytash82, MrProMuch, Squea...</td>\n",
       "      <td>1303</td>\n",
       "    </tr>\n",
       "    <tr>\n",
       "      <th>908975</th>\n",
       "      <td>t1_fkifvew</td>\n",
       "      <td>[noemojica88, emenpy, mycochang, datastrm, gar...</td>\n",
       "      <td>1203</td>\n",
       "    </tr>\n",
       "    <tr>\n",
       "      <th>6947630</th>\n",
       "      <td>t1_gkqb2tu</td>\n",
       "      <td>[SilentSakura, onlybreakingbad, Content-Necess...</td>\n",
       "      <td>1062</td>\n",
       "    </tr>\n",
       "  </tbody>\n",
       "</table>\n",
       "</div>"
      ],
      "text/plain": [
       "           parent_id                                             author  \\\n",
       "11502549  t1_h0csj8y  [Optionsfuckup, jackthemackattack, WeHaveBeenF...   \n",
       "7395789   t1_gl35xpy  [chayochan, thats_not_funny_guys, Appearance-R...   \n",
       "9119830   t1_golywrq  [Obliterateee, Grizzlytash82, MrProMuch, Squea...   \n",
       "908975    t1_fkifvew  [noemojica88, emenpy, mycochang, datastrm, gar...   \n",
       "6947630   t1_gkqb2tu  [SilentSakura, onlybreakingbad, Content-Necess...   \n",
       "\n",
       "          sub_comments  \n",
       "11502549          2286  \n",
       "7395789           2210  \n",
       "9119830           1303  \n",
       "908975            1203  \n",
       "6947630           1062  "
      ]
     },
     "execution_count": 15,
     "metadata": {},
     "output_type": "execute_result"
    }
   ],
   "source": [
    "t1_df = create_t1_df(extracted_cols)\n",
    "t1_df.head()"
   ]
  },
  {
   "cell_type": "markdown",
   "metadata": {},
   "source": [
    "<h1>Form full dataframe</h1>"
   ]
  },
  {
   "cell_type": "code",
   "execution_count": 19,
   "metadata": {},
   "outputs": [
    {
     "data": {
      "text/html": [
       "<div>\n",
       "<style scoped>\n",
       "    .dataframe tbody tr th:only-of-type {\n",
       "        vertical-align: middle;\n",
       "    }\n",
       "\n",
       "    .dataframe tbody tr th {\n",
       "        vertical-align: top;\n",
       "    }\n",
       "\n",
       "    .dataframe thead th {\n",
       "        text-align: right;\n",
       "    }\n",
       "</style>\n",
       "<table border=\"1\" class=\"dataframe\">\n",
       "  <thead>\n",
       "    <tr style=\"text-align: right;\">\n",
       "      <th></th>\n",
       "      <th>parent_id</th>\n",
       "      <th>author</th>\n",
       "      <th>sub_comments</th>\n",
       "    </tr>\n",
       "  </thead>\n",
       "  <tbody>\n",
       "    <tr>\n",
       "      <th>0</th>\n",
       "      <td>t1_h0csj8y</td>\n",
       "      <td>[Optionsfuckup, jackthemackattack, WeHaveBeenF...</td>\n",
       "      <td>2286</td>\n",
       "    </tr>\n",
       "    <tr>\n",
       "      <th>1</th>\n",
       "      <td>t1_gl35xpy</td>\n",
       "      <td>[chayochan, thats_not_funny_guys, Appearance-R...</td>\n",
       "      <td>2210</td>\n",
       "    </tr>\n",
       "    <tr>\n",
       "      <th>2</th>\n",
       "      <td>t1_golywrq</td>\n",
       "      <td>[Obliterateee, Grizzlytash82, MrProMuch, Squea...</td>\n",
       "      <td>1303</td>\n",
       "    </tr>\n",
       "    <tr>\n",
       "      <th>3</th>\n",
       "      <td>t1_fkifvew</td>\n",
       "      <td>[noemojica88, emenpy, mycochang, datastrm, gar...</td>\n",
       "      <td>1203</td>\n",
       "    </tr>\n",
       "    <tr>\n",
       "      <th>4</th>\n",
       "      <td>t1_gkqb2tu</td>\n",
       "      <td>[SilentSakura, onlybreakingbad, Content-Necess...</td>\n",
       "      <td>1062</td>\n",
       "    </tr>\n",
       "    <tr>\n",
       "      <th>...</th>\n",
       "      <td>...</td>\n",
       "      <td>...</td>\n",
       "      <td>...</td>\n",
       "    </tr>\n",
       "    <tr>\n",
       "      <th>12394754</th>\n",
       "      <td>t3_ob8yl4</td>\n",
       "      <td>[Softspokenclark, mrbullishinvestor]</td>\n",
       "      <td>2</td>\n",
       "    </tr>\n",
       "    <tr>\n",
       "      <th>12394755</th>\n",
       "      <td>t3_ob92zw</td>\n",
       "      <td>[MarketingDifferent61, allintraders, Tradition...</td>\n",
       "      <td>3</td>\n",
       "    </tr>\n",
       "    <tr>\n",
       "      <th>12394756</th>\n",
       "      <td>t3_ob9eab</td>\n",
       "      <td>[Julez_Jay]</td>\n",
       "      <td>1</td>\n",
       "    </tr>\n",
       "    <tr>\n",
       "      <th>12394757</th>\n",
       "      <td>t3_ob9kcs</td>\n",
       "      <td>[escaflowne_spawn, PerennialTime]</td>\n",
       "      <td>2</td>\n",
       "    </tr>\n",
       "    <tr>\n",
       "      <th>12394758</th>\n",
       "      <td>t3_ob9mjg</td>\n",
       "      <td>[OptionsTrader16, Going-Dark-Airsoft, StinkyDu...</td>\n",
       "      <td>11</td>\n",
       "    </tr>\n",
       "  </tbody>\n",
       "</table>\n",
       "<p>12394759 rows × 3 columns</p>\n",
       "</div>"
      ],
      "text/plain": [
       "           parent_id                                             author  \\\n",
       "0         t1_h0csj8y  [Optionsfuckup, jackthemackattack, WeHaveBeenF...   \n",
       "1         t1_gl35xpy  [chayochan, thats_not_funny_guys, Appearance-R...   \n",
       "2         t1_golywrq  [Obliterateee, Grizzlytash82, MrProMuch, Squea...   \n",
       "3         t1_fkifvew  [noemojica88, emenpy, mycochang, datastrm, gar...   \n",
       "4         t1_gkqb2tu  [SilentSakura, onlybreakingbad, Content-Necess...   \n",
       "...              ...                                                ...   \n",
       "12394754   t3_ob8yl4               [Softspokenclark, mrbullishinvestor]   \n",
       "12394755   t3_ob92zw  [MarketingDifferent61, allintraders, Tradition...   \n",
       "12394756   t3_ob9eab                                        [Julez_Jay]   \n",
       "12394757   t3_ob9kcs                  [escaflowne_spawn, PerennialTime]   \n",
       "12394758   t3_ob9mjg  [OptionsTrader16, Going-Dark-Airsoft, StinkyDu...   \n",
       "\n",
       "          sub_comments  \n",
       "0                 2286  \n",
       "1                 2210  \n",
       "2                 1303  \n",
       "3                 1203  \n",
       "4                 1062  \n",
       "...                ...  \n",
       "12394754             2  \n",
       "12394755             3  \n",
       "12394756             1  \n",
       "12394757             2  \n",
       "12394758            11  \n",
       "\n",
       "[12394759 rows x 3 columns]"
      ]
     },
     "execution_count": 19,
     "metadata": {},
     "output_type": "execute_result"
    }
   ],
   "source": [
    "full_df = pd.concat([t1_df, t3_posts_authors])\n",
    "full_df = full_df.reset_index(drop=True)\n",
    "full_df"
   ]
  },
  {
   "cell_type": "markdown",
   "metadata": {},
   "source": [
    "<h1>Form the COMPLETE dataframe</h1>"
   ]
  },
  {
   "cell_type": "code",
   "execution_count": 20,
   "metadata": {},
   "outputs": [],
   "source": [
    "def is_main(dataframe, t1_name_id, t3_name_id):\n",
    "    main_list = []\n",
    "    parent_author_list = []\n",
    "    dataframe = dataframe.reset_index(drop = True)\n",
    "    \n",
    "    for index, row in dataframe.iterrows():\n",
    "        uid = row['parent_id'].split('_')[-1]\n",
    "        \n",
    "        pre = row['parent_id'].split('_')[0]\n",
    "        if pre == 't1':\n",
    "            main_list.append(0)\n",
    "            try:\n",
    "                parent_author = t1_name_id[uid]\n",
    "                parent_author_list.append(parent_author)\n",
    "            except:\n",
    "                parent_author_list.append(np.nan)\n",
    "        else:\n",
    "            main_list.append(1)\n",
    "            try:\n",
    "                parent_author = t3_name_id[uid]\n",
    "                parent_author_list.append(parent_author)\n",
    "            except:\n",
    "                parent_author_list.append(np.nan)        \n",
    "\n",
    "        if index == 100000: print(index)\n",
    "    dataframe['main_post'] =  main_list\n",
    "    dataframe['parent_author'] = parent_author_list\n",
    "    return dataframe"
   ]
  },
  {
   "cell_type": "code",
   "execution_count": 23,
   "metadata": {},
   "outputs": [
    {
     "name": "stdout",
     "output_type": "stream",
     "text": [
      "100000\n"
     ]
    }
   ],
   "source": [
    "complete_df = is_main(full_df, create_name_id_dict(extracted_cols), create_name_id_dict(t3_df))"
   ]
  },
  {
   "cell_type": "code",
   "execution_count": 24,
   "metadata": {},
   "outputs": [],
   "source": [
    "complete_df.to_csv('complete_df.csv')"
   ]
  },
  {
   "cell_type": "markdown",
   "metadata": {},
   "source": [
    "<h1>For Confusion matrix</h1>"
   ]
  },
  {
   "cell_type": "code",
   "execution_count": 25,
   "metadata": {},
   "outputs": [],
   "source": [
    "def confusion_matrix(dataframe):    \n",
    "    no_idea_comment = []\n",
    "    main_post_comment = []\n",
    "    comment_comment = []\n",
    "    \n",
    "    for index, row in dataframe.iterrows():\n",
    "        if row['main_post'] == np.nan:\n",
    "            no_idea_comment += row['author']\n",
    "        elif row['main_post'] == 0:\n",
    "            comment_comment += row['author']\n",
    "        else:\n",
    "            main_post_comment += row['author']\n",
    "    no_idea_comment = list(dict.fromkeys(no_idea_comment))\n",
    "    main_post_comment = list(dict.fromkeys(main_post_comment))\n",
    "    comment_comment = list(dict.fromkeys(comment_comment))\n",
    "    return no_idea_comment, main_post_comment, comment_comment"
   ]
  },
  {
   "cell_type": "code",
   "execution_count": 30,
   "metadata": {},
   "outputs": [],
   "source": [
    "Post = complete_df['parent_author'].to_numpy()\n",
    "\n",
    "Post = list(dict.fromkeys(Post))\n",
    "Post.remove(np.nan)"
   ]
  },
  {
   "cell_type": "code",
   "execution_count": 27,
   "metadata": {},
   "outputs": [],
   "source": [
    "# confusion matrix\n",
    "no_idea_comment, main_post_comment, comment_comment = confusion_matrix(complete_df)"
   ]
  },
  {
   "cell_type": "code",
   "execution_count": 28,
   "metadata": {},
   "outputs": [],
   "source": [
    "def get_the_table(Post, no_idea_comment, main_post_comment, comment_comment):\n",
    "        \n",
    "    Post = set(Post)\n",
    "    no_idea_comment = set(no_idea_comment)\n",
    "    main_post_comment = set(main_post_comment)\n",
    "    comment_comment = set(comment_comment)\n",
    "    inter_1 = set.intersection(Post, no_idea_comment)\n",
    "    inter_2 = set.intersection(Post, main_post_comment)\n",
    "    inter_3 = set.intersection(Post, comment_comment)\n",
    "    \n",
    "    Post_Comment = {}\n",
    "    Post_Comment = set().union(inter_1, inter_2, inter_3)\n",
    "    \n",
    "    Post_Only = Post - Post_Comment\n",
    "    no_idea_comment_only = no_idea_comment - inter_1\n",
    "    main_post_comment_only = main_post_comment - inter_2\n",
    "    comment_comment_only = comment_comment - inter_3\n",
    "    \n",
    "    classes = ['Members who only post', 'Members who both post and reply to others', 'Members who only reply to main posts', 'Members who only reply to other comments', 'Unidentifiable commenters']\n",
    "    Counts = [len(Post_Only), len(Post_Comment), len(main_post_comment_only), len(comment_comment_only), len(no_idea_comment_only)]\n",
    "    type_table = pd.DataFrame(list(zip(classes, Counts)), columns = ['Types', 'Counts'])\n",
    "    \n",
    "    return type_table, list(Post_Only), list(Post_Comment), list(main_post_comment_only), list(comment_comment_only), list(no_idea_comment_only)"
   ]
  },
  {
   "cell_type": "code",
   "execution_count": 31,
   "metadata": {},
   "outputs": [],
   "source": [
    "type_table, Post_Only, Post_Comment, main_post_comment_only, comment_comment_only, no_idea_comment_only = get_the_table(Post, no_idea_comment, main_post_comment, comment_comment)\n"
   ]
  },
  {
   "cell_type": "code",
   "execution_count": 32,
   "metadata": {},
   "outputs": [],
   "source": [
    "type_table.to_csv('type_table.csv')"
   ]
  },
  {
   "cell_type": "code",
   "execution_count": 33,
   "metadata": {},
   "outputs": [],
   "source": [
    "def types_df(p_o, p_c, m_p_c_o, c_c_o, n_i_c_o):\n",
    "    authors = p_o + p_c + m_p_c_o + c_c_o + n_i_c_o\n",
    "    post_only = list(np.ones(len(p_o))) + list(np.zeros(len(authors)-len(p_o)))\n",
    "    post_comment = list(np.zeros(len(p_o))) + list(np.ones(len(p_c))) + list(np.zeros(len(authors)-len(p_o+p_c)))\n",
    "    reply_main = list(np.zeros(len(p_o+p_c))) + list(np.ones(len(m_p_c_o))) + list(np.zeros(len(c_c_o+n_i_c_o)))\n",
    "    reply_comment = list(np.zeros(len(authors)-len(c_c_o+n_i_c_o))) +list(np.ones(len(c_c_o))) +list(np.zeros(len(n_i_c_o)))\n",
    "    unknown = list(np.zeros(len(authors)-len(n_i_c_o))) +list(np.ones(len(n_i_c_o)))\n",
    "    \n",
    "    type_df = pd.DataFrame(list(zip(authors, post_only, post_comment, reply_main, reply_comment, unknown)), columns = ['Author Name', 'Members who only post', 'Members who both post and reply to others', 'Members who only reply to main posts', 'Members who only reply to other comments', 'Unidentifiable commenters'])\n",
    "    return type_df"
   ]
  },
  {
   "cell_type": "code",
   "execution_count": 34,
   "metadata": {},
   "outputs": [],
   "source": [
    "type_df = types_df(Post_Only, Post_Comment, main_post_comment_only, comment_comment_only, no_idea_comment_only)"
   ]
  },
  {
   "cell_type": "code",
   "execution_count": 35,
   "metadata": {},
   "outputs": [
    {
     "data": {
      "text/html": [
       "<div>\n",
       "<style scoped>\n",
       "    .dataframe tbody tr th:only-of-type {\n",
       "        vertical-align: middle;\n",
       "    }\n",
       "\n",
       "    .dataframe tbody tr th {\n",
       "        vertical-align: top;\n",
       "    }\n",
       "\n",
       "    .dataframe thead th {\n",
       "        text-align: right;\n",
       "    }\n",
       "</style>\n",
       "<table border=\"1\" class=\"dataframe\">\n",
       "  <thead>\n",
       "    <tr style=\"text-align: right;\">\n",
       "      <th></th>\n",
       "      <th>Author Name</th>\n",
       "      <th>Members who only post</th>\n",
       "      <th>Members who both post and reply to others</th>\n",
       "      <th>Members who only reply to main posts</th>\n",
       "      <th>Members who only reply to other comments</th>\n",
       "      <th>Unidentifiable commenters</th>\n",
       "    </tr>\n",
       "  </thead>\n",
       "  <tbody>\n",
       "    <tr>\n",
       "      <th>0</th>\n",
       "      <td>immmj</td>\n",
       "      <td>1.0</td>\n",
       "      <td>0.0</td>\n",
       "      <td>0.0</td>\n",
       "      <td>0.0</td>\n",
       "      <td>0.0</td>\n",
       "    </tr>\n",
       "    <tr>\n",
       "      <th>1</th>\n",
       "      <td>Carehzy</td>\n",
       "      <td>1.0</td>\n",
       "      <td>0.0</td>\n",
       "      <td>0.0</td>\n",
       "      <td>0.0</td>\n",
       "      <td>0.0</td>\n",
       "    </tr>\n",
       "    <tr>\n",
       "      <th>2</th>\n",
       "      <td>FederalExternal2513</td>\n",
       "      <td>1.0</td>\n",
       "      <td>0.0</td>\n",
       "      <td>0.0</td>\n",
       "      <td>0.0</td>\n",
       "      <td>0.0</td>\n",
       "    </tr>\n",
       "    <tr>\n",
       "      <th>3</th>\n",
       "      <td>LeagueEmbarrassed194</td>\n",
       "      <td>1.0</td>\n",
       "      <td>0.0</td>\n",
       "      <td>0.0</td>\n",
       "      <td>0.0</td>\n",
       "      <td>0.0</td>\n",
       "    </tr>\n",
       "    <tr>\n",
       "      <th>4</th>\n",
       "      <td>Schaeffer410</td>\n",
       "      <td>1.0</td>\n",
       "      <td>0.0</td>\n",
       "      <td>0.0</td>\n",
       "      <td>0.0</td>\n",
       "      <td>0.0</td>\n",
       "    </tr>\n",
       "  </tbody>\n",
       "</table>\n",
       "</div>"
      ],
      "text/plain": [
       "            Author Name  Members who only post  \\\n",
       "0                 immmj                    1.0   \n",
       "1               Carehzy                    1.0   \n",
       "2   FederalExternal2513                    1.0   \n",
       "3  LeagueEmbarrassed194                    1.0   \n",
       "4          Schaeffer410                    1.0   \n",
       "\n",
       "   Members who both post and reply to others  \\\n",
       "0                                        0.0   \n",
       "1                                        0.0   \n",
       "2                                        0.0   \n",
       "3                                        0.0   \n",
       "4                                        0.0   \n",
       "\n",
       "   Members who only reply to main posts  \\\n",
       "0                                   0.0   \n",
       "1                                   0.0   \n",
       "2                                   0.0   \n",
       "3                                   0.0   \n",
       "4                                   0.0   \n",
       "\n",
       "   Members who only reply to other comments  Unidentifiable commenters  \n",
       "0                                       0.0                        0.0  \n",
       "1                                       0.0                        0.0  \n",
       "2                                       0.0                        0.0  \n",
       "3                                       0.0                        0.0  \n",
       "4                                       0.0                        0.0  "
      ]
     },
     "execution_count": 35,
     "metadata": {},
     "output_type": "execute_result"
    }
   ],
   "source": [
    "type_df.head()"
   ]
  },
  {
   "cell_type": "markdown",
   "metadata": {},
   "source": [
    "<h1>Concat the bot</h1>"
   ]
  },
  {
   "cell_type": "code",
   "execution_count": 36,
   "metadata": {},
   "outputs": [
    {
     "data": {
      "text/html": [
       "<div>\n",
       "<style scoped>\n",
       "    .dataframe tbody tr th:only-of-type {\n",
       "        vertical-align: middle;\n",
       "    }\n",
       "\n",
       "    .dataframe tbody tr th {\n",
       "        vertical-align: top;\n",
       "    }\n",
       "\n",
       "    .dataframe thead th {\n",
       "        text-align: right;\n",
       "    }\n",
       "</style>\n",
       "<table border=\"1\" class=\"dataframe\">\n",
       "  <thead>\n",
       "    <tr style=\"text-align: right;\">\n",
       "      <th></th>\n",
       "      <th>Unnamed: 0</th>\n",
       "      <th>id</th>\n",
       "      <th>author</th>\n",
       "      <th>is_bot</th>\n",
       "      <th>link_id</th>\n",
       "      <th>parent_id</th>\n",
       "    </tr>\n",
       "  </thead>\n",
       "  <tbody>\n",
       "    <tr>\n",
       "      <th>0</th>\n",
       "      <td>854</td>\n",
       "      <td>mhv3i6</td>\n",
       "      <td>Tea_Bot278</td>\n",
       "      <td>True</td>\n",
       "      <td>NaN</td>\n",
       "      <td>NaN</td>\n",
       "    </tr>\n",
       "    <tr>\n",
       "      <th>1</th>\n",
       "      <td>3546</td>\n",
       "      <td>mioer6</td>\n",
       "      <td>Your_wifes_bfNOTaBOT</td>\n",
       "      <td>True</td>\n",
       "      <td>NaN</td>\n",
       "      <td>NaN</td>\n",
       "    </tr>\n",
       "    <tr>\n",
       "      <th>2</th>\n",
       "      <td>17089</td>\n",
       "      <td>mpeebo</td>\n",
       "      <td>Con_Bot_</td>\n",
       "      <td>True</td>\n",
       "      <td>NaN</td>\n",
       "      <td>NaN</td>\n",
       "    </tr>\n",
       "    <tr>\n",
       "      <th>3</th>\n",
       "      <td>31579</td>\n",
       "      <td>muma0v</td>\n",
       "      <td>ShotBot</td>\n",
       "      <td>True</td>\n",
       "      <td>NaN</td>\n",
       "      <td>NaN</td>\n",
       "    </tr>\n",
       "    <tr>\n",
       "      <th>4</th>\n",
       "      <td>45598</td>\n",
       "      <td>n0mhc6</td>\n",
       "      <td>BotDamian</td>\n",
       "      <td>True</td>\n",
       "      <td>NaN</td>\n",
       "      <td>NaN</td>\n",
       "    </tr>\n",
       "  </tbody>\n",
       "</table>\n",
       "</div>"
      ],
      "text/plain": [
       "   Unnamed: 0      id                author  is_bot link_id parent_id\n",
       "0         854  mhv3i6            Tea_Bot278    True     NaN       NaN\n",
       "1        3546  mioer6  Your_wifes_bfNOTaBOT    True     NaN       NaN\n",
       "2       17089  mpeebo              Con_Bot_    True     NaN       NaN\n",
       "3       31579  muma0v               ShotBot    True     NaN       NaN\n",
       "4       45598  n0mhc6             BotDamian    True     NaN       NaN"
      ]
     },
     "execution_count": 36,
     "metadata": {},
     "output_type": "execute_result"
    }
   ],
   "source": [
    "t3_bot = pd.read_csv('/Users/victor/Desktop/CS/UST_summer/t3_bot.csv')\n",
    "extracted_cols_bot = pd.read_csv('/Users/victor/Desktop/CS/UST_summer/bot_extracted_cols.csv')\n",
    "\n",
    "all_bot = pd.concat([t3_bot, extracted_cols_bot])\n",
    "all_bot = all_bot.drop_duplicates()\n",
    "all_bot.head()"
   ]
  },
  {
   "cell_type": "code",
   "execution_count": 37,
   "metadata": {},
   "outputs": [],
   "source": [
    "all_bot.to_csv('all_bot.csv')"
   ]
  },
  {
   "cell_type": "code",
   "execution_count": null,
   "metadata": {},
   "outputs": [],
   "source": [
    "def count(dataframe):\n",
    "    count_df = dataframe.groupby(dataframe.author.tolist()).size().reset_index().rename(columns={0:'count'})\n",
    "    \n",
    "    count_df = count_df.drop_duplicates()\n",
    "    \n",
    "    return count_df['author', 'count']"
   ]
  }
 ],
 "metadata": {
  "kernelspec": {
   "display_name": "Python 3.9.12",
   "language": "python",
   "name": "python3"
  },
  "language_info": {
   "codemirror_mode": {
    "name": "ipython",
    "version": 3
   },
   "file_extension": ".py",
   "mimetype": "text/x-python",
   "name": "python",
   "nbconvert_exporter": "python",
   "pygments_lexer": "ipython3",
   "version": "3.9.12"
  },
  "orig_nbformat": 4,
  "vscode": {
   "interpreter": {
    "hash": "864791b727c67594ba35b846e2fef3ab0cf2138c660c288cb4b982d81a4cb57f"
   }
  }
 },
 "nbformat": 4,
 "nbformat_minor": 2
}
