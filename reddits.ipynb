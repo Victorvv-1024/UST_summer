{
  "cells": [
    {
      "cell_type": "markdown",
      "metadata": {
        "id": "v7xATcS5n0CD"
      },
      "source": [
        "<h2>Generate dataset</h2>"
      ]
    },
    {
      "cell_type": "code",
      "execution_count": 1,
      "metadata": {
        "id": "u1dZSTNTn0CD"
      },
      "outputs": [],
      "source": [
        "import pandas as pd\n",
        "import numpy as np\n",
        "import time\n",
        "import re\n",
        "import pickle\n",
        "\n",
        "from datetime import datetime\n",
        "from dateutil.relativedelta import relativedelta\n",
        "from tqdm.notebook import tqdm\n",
        "\n",
        "from utils import get_parallel_edges, get_weighted_edges"
      ]
    },
    {
      "cell_type": "markdown",
      "metadata": {
        "id": "EuCLqUN4n0CE"
      },
      "source": [
        "<h3>Read the raw data WITHOUT CLEANING</h3>"
      ]
    },
    {
      "cell_type": "code",
      "execution_count": null,
      "metadata": {
        "id": "4GbQ4ljtn0CE",
        "outputId": "70950837-9915-41c4-e356-0ef314e3d881"
      },
      "outputs": [],
      "source": [
        "fp = '/Users/victor/Desktop/CS/UST_summer/all_posts_clean_1.csv' # the directory of the raw data file, pipeliend from reddits\n",
        "\n",
        "s_columns = ['id', 'author', 'created_utc', 'num_comments', 'clean_title', 'clean_selftext', 'num_title_emojis', 'num_text_emojis', 'title_length', 'text_length', 'score', 'num_replied_comments', 'num_replies_by_new', 'list_new_repliers', 'num_replies_by_old', 'list_old_repliers']\n",
        "\n",
        "df = pd.read_csv(fp, low_memory=False, encoding='utf-8')[s_columns]\n",
        "\n",
        "df.head() # test if it is read correctly"
      ]
    },
    {
      "cell_type": "code",
      "execution_count": null,
      "metadata": {
        "id": "iNXN3S32n0CE"
      },
      "outputs": [],
      "source": [
        "# df = df[df.created_utc < 1590000000.0]"
      ]
    },
    {
      "cell_type": "code",
      "execution_count": null,
      "metadata": {
        "id": "NDPlszy6n0CF",
        "outputId": "072d52d1-4985-4765-b016-1b8238463724"
      },
      "outputs": [],
      "source": [
        "start_time = time.time()\n",
        "df.groupby('author').cumcount()\n",
        "print(\"--- %s seconds ---\" % (time.time() - start_time))\n",
        "\n",
        "df[\"num_post\"] = df.groupby('author').cumcount().to_numpy()\n",
        "codes, uniques = pd.factorize(df[\"author\"])\n",
        "df[\"author_codes\"] = codes\n",
        "\n",
        "# df.to_csv('wsb_with_authorcode_num_post.csv')r"
      ]
    },
    {
      "cell_type": "code",
      "execution_count": null,
      "metadata": {
        "id": "lXA_8IDjn0CH"
      },
      "outputs": [],
      "source": [
        "def deleted_comments(left_bound, right_bound, dataframe):\n",
        "    \"\"\"_summary_\n",
        "\n",
        "    Args:\n",
        "        left_bound (_type_): _description_\n",
        "        right_bound (_type_): _description_\n",
        "        dataframe (_type_): _description_\n",
        "    \"\"\"\n",
        "    indices = dataframe.index[(dataframe.created_utc >= left_bound) & (dataframe.created_utc <= right_bound)].tolist() # workout the total number of comments\n",
        "    \n",
        "    # print(indices)\n",
        "    if len(indices) == 0:\n",
        "        return 0\n",
        "    \n",
        "    unwanted_comments = 0\n",
        "    for i in indices:\n",
        "        if (dataframe['clean_selftext'].iloc[i] == 'deleted') | (dataframe['clean_selftext'].iloc[i] == 'removed'):\n",
        "            unwanted_comments += 1\n",
        "    \n",
        "    return (unwanted_comments/len(indices))*100"
      ]
    },
    {
      "cell_type": "code",
      "execution_count": null,
      "metadata": {
        "id": "WisDbEOGn0CH"
      },
      "outputs": [],
      "source": [
        "def replied_percent(left_bound, right_bound, dataframe):\n",
        "    \"\"\"_summary_\n",
        "\n",
        "    Args:\n",
        "        left_bound (_type_): _description_\n",
        "        right_bound (_type_): _description_\n",
        "        dataframe (_type_): _description_\n",
        "    \"\"\"\n",
        "    indices = dataframe.index[(dataframe.created_utc >= left_bound) & (dataframe.created_utc <= right_bound)].tolist()\n",
        "    \n",
        "    negative_index = []\n",
        "    negative_positive = 0\n",
        "    \n",
        "    for i in indices:\n",
        "        if (dataframe['clean_selftext'].iloc[i] == 'deleted') | (dataframe['clean_selftext'].iloc[i] == 'removed'):\n",
        "            negative_index.append(i)\n",
        "    \n",
        "    for i in negative_index:\n",
        "        if dataframe.num_comments.iloc[i] > 0:\n",
        "            negative_positive += 1\n",
        "    \n",
        "    negative_positive_rate = negative_positive / len(negative_index)\n",
        "    \n",
        "    positive_index = list(set(indices) - set(negative_index))\n",
        "    positive_positive = 0\n",
        "    \n",
        "    for i in positive_index:\n",
        "        if dataframe.num_comments.iloc[i] > 0:\n",
        "            positive_positive += 1\n",
        "    \n",
        "    positive_positive_rate = positive_positive / len(positive_index)\n",
        "    \n",
        "    return (positive_positive_rate, negative_positive_rate)\n",
        "        "
      ]
    },
    {
      "cell_type": "markdown",
      "metadata": {},
      "source": [
        "---------------\n",
        "<h3>Create an edge list</h3>"
      ]
    },
    {
      "cell_type": "code",
      "execution_count": 2,
      "metadata": {},
      "outputs": [],
      "source": [
        "# get the edge list from an existing repo\n",
        "fp_comment = '/Users/victor/Desktop/CS/UST_summer/complete_df_final.csv'\n",
        "comment = pd.read_csv(fp_comment, low_memory = False)\n",
        "fp_post = '/Users/victor/Desktop/CS/UST_summer/all_posts_clean_1.csv'\n",
        "post = pd.read_csv(fp_post, low_memory = False)[['author', 'id', 'created_utc']]"
      ]
    },
    {
      "cell_type": "code",
      "execution_count": 5,
      "metadata": {},
      "outputs": [],
      "source": [
        "parallel_edges = get_parallel_edges(comment, post)\n",
        "weighted_edges = get_weighted_edges(parallel_edges)"
      ]
    },
    {
      "cell_type": "code",
      "execution_count": null,
      "metadata": {},
      "outputs": [],
      "source": [
        "# save the edges lists\n",
        "parallel_edges.to_csv('parallel_edges.csv')\n",
        "weighted_edges.to_csv('weighted_edges.csv')"
      ]
    }
  ],
  "metadata": {
    "colab": {
      "collapsed_sections": [],
      "name": "reddits.ipynb",
      "provenance": []
    },
    "kernelspec": {
      "display_name": "Python 3.9.12",
      "language": "python",
      "name": "python3"
    },
    "language_info": {
      "codemirror_mode": {
        "name": "ipython",
        "version": 3
      },
      "file_extension": ".py",
      "mimetype": "text/x-python",
      "name": "python",
      "nbconvert_exporter": "python",
      "pygments_lexer": "ipython3",
      "version": "3.9.12"
    },
    "vscode": {
      "interpreter": {
        "hash": "864791b727c67594ba35b846e2fef3ab0cf2138c660c288cb4b982d81a4cb57f"
      }
    }
  },
  "nbformat": 4,
  "nbformat_minor": 0
}
