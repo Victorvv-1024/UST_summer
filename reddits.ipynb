{
 "cells": [
  {
   "cell_type": "markdown",
   "metadata": {},
   "source": [
    "<h1>UST Reddit Projecy</h1></r>\n",
    "<h2>Pipeline</h2>"
   ]
  },
  {
   "cell_type": "markdown",
   "metadata": {},
   "source": [
    "<h2>Generate dataset</h2>"
   ]
  },
  {
   "cell_type": "code",
   "execution_count": 11,
   "metadata": {},
   "outputs": [],
   "source": [
    "import pandas as pd\n",
    "import numpy as np\n",
    "import time"
   ]
  },
  {
   "cell_type": "markdown",
   "metadata": {},
   "source": [
    "<h3>Read the raw data WITHOUT CLEANING</h3>"
   ]
  },
  {
   "cell_type": "code",
   "execution_count": 8,
   "metadata": {},
   "outputs": [],
   "source": [
    "fp = '/Users/victor/Desktop/CS/UST_summer/all_posts_clean_1.csv' # the directory of the raw data file, pipeliend from reddits\n",
    "\n",
    "s_columns = ['id', 'author', 'created_utc', 'num_comments', 'clean_title', 'clean_selftext', 'num_title_emojis', 'num_text_emojis', 'title_length', 'text_length', 'score', 'num_replied_comments', 'num_replies_by_new', 'list_new_repliers', 'num_replies_by_old', 'list_old_repliers']\n",
    "\n",
    "df = pd.read_csv(fp, low_memory=False, encoding='utf-8')[s_columns]\n",
    "\n",
    "df.head() # test if it is read correctly"
   ]
  },
  {
   "cell_type": "code",
   "execution_count": 10,
   "metadata": {},
   "outputs": [],
   "source": [
    "df = df[df.created_utc < 1590000000.0]"
   ]
  },
  {
   "cell_type": "code",
   "execution_count": 13,
   "metadata": {},
   "outputs": [
    {
     "name": "stdout",
     "output_type": "stream",
     "text": [
      "--- 0.049901723861694336 seconds ---\n"
     ]
    }
   ],
   "source": [
    "start_time = time.time()\n",
    "df.groupby('author').cumcount()\n",
    "print(\"--- %s seconds ---\" % (time.time() - start_time))\n",
    "\n",
    "df[\"num_post\"] = df.groupby('author').cumcount().to_numpy()\n",
    "codes, uniques = pd.factorize(df[\"author\"])\n",
    "df[\"author_codes\"] = codes\n",
    "\n",
    "# df.to_csv('wsb_with_authorcode_num_post.csv')"
   ]
  },
  {
   "cell_type": "markdown",
   "metadata": {},
   "source": [
    "<h2>test</h2>"
   ]
  },
  {
   "cell_type": "code",
   "execution_count": 21,
   "metadata": {},
   "outputs": [],
   "source": [
    "indices = df.index[(df['created_utc']>= 1609459200.0) & (df['created_utc'] <= 1612137599.0)].tolist()\n",
    "zeros = np.zeros(df.shape[0])\n",
    "for i in indices : zeros[i] = 1\n",
    "\n",
    "df['is_2021Jan'] = zeros\n"
   ]
  },
  {
   "cell_type": "code",
   "execution_count": null,
   "metadata": {},
   "outputs": [],
   "source": []
  }
 ],
 "metadata": {
  "interpreter": {
   "hash": "864791b727c67594ba35b846e2fef3ab0cf2138c660c288cb4b982d81a4cb57f"
  },
  "kernelspec": {
   "display_name": "Python 3.9.12",
   "language": "python",
   "name": "python3"
  },
  "language_info": {
   "codemirror_mode": {
    "name": "ipython",
    "version": 3
   },
   "file_extension": ".py",
   "mimetype": "text/x-python",
   "name": "python",
   "nbconvert_exporter": "python",
   "pygments_lexer": "ipython3",
   "version": "3.9.12"
  }
 },
 "nbformat": 4,
 "nbformat_minor": 4
}
