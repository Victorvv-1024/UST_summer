{
 "cells": [
  {
   "cell_type": "markdown",
   "metadata": {},
   "source": [
    "<h1>Pacakages</h1>"
   ]
  },
  {
   "cell_type": "code",
   "execution_count": 1,
   "metadata": {},
   "outputs": [],
   "source": [
    "import pandas as pd\n",
    "\n",
    "\n",
    "from tqdm.notebook import tqdm\n",
    "tqdm.pandas()\n",
    "\n",
    "from utils import full_clean, create_t3_df, create_t1_df, create_complete_df, confusion_matrix, get_type_table, get_type_df"
   ]
  },
  {
   "cell_type": "markdown",
   "metadata": {},
   "source": [
    "<h1>Clean the bot</h1>"
   ]
  },
  {
   "cell_type": "code",
   "execution_count": 2,
   "metadata": {},
   "outputs": [],
   "source": [
    "bot_list = pd.read_csv('/Users/victor/Desktop/CS/UST_summer/bot_list.csv')\n",
    "bot_list['Username'] = bot_list.Username.apply(lambda x: x[3:])"
   ]
  },
  {
   "cell_type": "code",
   "execution_count": 3,
   "metadata": {},
   "outputs": [],
   "source": [
    "popular_author = pd.read_csv('/Users/victor/Desktop/CS/UST_summer/10k_sub_final.csv')\n",
    "popular_bot = popular_author[popular_author.is_bot == 1]"
   ]
  },
  {
   "cell_type": "code",
   "execution_count": 4,
   "metadata": {},
   "outputs": [
    {
     "data": {
      "application/vnd.jupyter.widget-view+json": {
       "model_id": "67cf7acf680a4cd98b0cbd93d3b192a6",
       "version_major": 2,
       "version_minor": 0
      },
      "text/plain": [
       "  0%|          | 0/32874876 [00:00<?, ?it/s]"
      ]
     },
     "metadata": {},
     "output_type": "display_data"
    }
   ],
   "source": [
    "fp = '/Users/victor/Desktop/CS/UST_summer/extracted_cols.csv'\n",
    "selected_cols = ['author', 'id', 'link_id', 'parent_id']\n",
    "extracted_cols = pd.read_csv(fp, low_memory = False)[selected_cols]\n",
    "\n",
    "bot_extracted_cols, extracted_cols = full_clean(extracted_cols, bot_list, popular_bot, by_parent=True)"
   ]
  },
  {
   "cell_type": "code",
   "execution_count": 5,
   "metadata": {},
   "outputs": [],
   "source": [
    "# save extracted_cols bot\n",
    "bot_extracted_cols.to_csv('bot_extracted_cols_final.csv')"
   ]
  },
  {
   "cell_type": "code",
   "execution_count": 6,
   "metadata": {},
   "outputs": [
    {
     "data": {
      "application/vnd.jupyter.widget-view+json": {
       "model_id": "ceb5fda906884c32afa4d4b203951217",
       "version_major": 2,
       "version_minor": 0
      },
      "text/plain": [
       "  0%|          | 0/1087302 [00:00<?, ?it/s]"
      ]
     },
     "metadata": {},
     "output_type": "display_data"
    }
   ],
   "source": [
    "fp = '/Users/victor/Desktop/CS/UST_summer/all_posts_clean_1.csv' # the directory of the raw data file, pipeliend from reddits\n",
    "sc = ['id', 'author','title','created_utc']\n",
    "all_posts = pd.read_csv(fp, low_memory=False, encoding='utf-8')[sc]\n",
    "\n",
    "all_posts_bot, all_posts_df = full_clean(all_posts, bot_list, popular_bot)"
   ]
  },
  {
   "cell_type": "code",
   "execution_count": 7,
   "metadata": {},
   "outputs": [],
   "source": [
    "# save bot df\n",
    "all_posts_bot.to_csv('all_posts_bot_final.csv')"
   ]
  },
  {
   "cell_type": "code",
   "execution_count": 8,
   "metadata": {},
   "outputs": [],
   "source": [
    "all_posts_df.to_csv('all_posts_df_final.csv')"
   ]
  },
  {
   "cell_type": "markdown",
   "metadata": {},
   "source": [
    "<h1>For t3-df</h1>"
   ]
  },
  {
   "cell_type": "code",
   "execution_count": 9,
   "metadata": {},
   "outputs": [
    {
     "data": {
      "application/vnd.jupyter.widget-view+json": {
       "model_id": "136cfc84e76d4124b17511b7aecaeff1",
       "version_major": 2,
       "version_minor": 0
      },
      "text/plain": [
       "  0%|          | 0/356800 [00:00<?, ?it/s]"
      ]
     },
     "metadata": {},
     "output_type": "display_data"
    }
   ],
   "source": [
    "t3_name_id, t3_df = create_t3_df(extracted_cols)"
   ]
  },
  {
   "cell_type": "code",
   "execution_count": 10,
   "metadata": {},
   "outputs": [],
   "source": [
    "# save the t3_df\n",
    "t3_df.to_csv('t3_df_final.csv')"
   ]
  },
  {
   "cell_type": "markdown",
   "metadata": {},
   "source": [
    "<h1>For t1-df</h1>"
   ]
  },
  {
   "cell_type": "code",
   "execution_count": 11,
   "metadata": {},
   "outputs": [
    {
     "data": {
      "application/vnd.jupyter.widget-view+json": {
       "model_id": "984d3a3173634c53a2285b685ad96bb4",
       "version_major": 2,
       "version_minor": 0
      },
      "text/plain": [
       "  0%|          | 0/12112219 [00:00<?, ?it/s]"
      ]
     },
     "metadata": {},
     "output_type": "display_data"
    }
   ],
   "source": [
    "t1_name_id, t1_df = create_t1_df(extracted_cols)"
   ]
  },
  {
   "cell_type": "code",
   "execution_count": 12,
   "metadata": {},
   "outputs": [],
   "source": [
    "# save the t1_df\n",
    "t1_df.to_csv('t1_df_final.csv')"
   ]
  },
  {
   "cell_type": "markdown",
   "metadata": {},
   "source": [
    "<h1>Form the complete dataframe</h1>"
   ]
  },
  {
   "cell_type": "code",
   "execution_count": 13,
   "metadata": {},
   "outputs": [],
   "source": [
    "complete_df = create_complete_df(t1_name_id, t1_df, t3_name_id, t3_df)"
   ]
  },
  {
   "cell_type": "code",
   "execution_count": 25,
   "metadata": {},
   "outputs": [
    {
     "data": {
      "text/html": [
       "<div>\n",
       "<style scoped>\n",
       "    .dataframe tbody tr th:only-of-type {\n",
       "        vertical-align: middle;\n",
       "    }\n",
       "\n",
       "    .dataframe tbody tr th {\n",
       "        vertical-align: top;\n",
       "    }\n",
       "\n",
       "    .dataframe thead th {\n",
       "        text-align: right;\n",
       "    }\n",
       "</style>\n",
       "<table border=\"1\" class=\"dataframe\">\n",
       "  <thead>\n",
       "    <tr style=\"text-align: right;\">\n",
       "      <th></th>\n",
       "      <th>parent_id</th>\n",
       "      <th>author</th>\n",
       "      <th>sub_comments</th>\n",
       "      <th>main_post</th>\n",
       "      <th>parent_author</th>\n",
       "    </tr>\n",
       "  </thead>\n",
       "  <tbody>\n",
       "    <tr>\n",
       "      <th>0</th>\n",
       "      <td>t1_h0csj8y</td>\n",
       "      <td>[Optionsfuckup, jackthemackattack, WeHaveBeenF...</td>\n",
       "      <td>2289</td>\n",
       "      <td>0</td>\n",
       "      <td>NaN</td>\n",
       "    </tr>\n",
       "    <tr>\n",
       "      <th>1</th>\n",
       "      <td>t1_gl35xpy</td>\n",
       "      <td>[chayochan, thats_not_funny_guys, Appearance-R...</td>\n",
       "      <td>2210</td>\n",
       "      <td>0</td>\n",
       "      <td>NaN</td>\n",
       "    </tr>\n",
       "    <tr>\n",
       "      <th>2</th>\n",
       "      <td>t1_golywrq</td>\n",
       "      <td>[Obliterateee, Grizzlytash82, MrProMuch, Squea...</td>\n",
       "      <td>1303</td>\n",
       "      <td>0</td>\n",
       "      <td>NaN</td>\n",
       "    </tr>\n",
       "    <tr>\n",
       "      <th>3</th>\n",
       "      <td>t1_fkifvew</td>\n",
       "      <td>[noemojica88, emenpy, mycochang, datastrm, gar...</td>\n",
       "      <td>1204</td>\n",
       "      <td>0</td>\n",
       "      <td>NaN</td>\n",
       "    </tr>\n",
       "    <tr>\n",
       "      <th>4</th>\n",
       "      <td>t1_gkqb2tu</td>\n",
       "      <td>[SilentSakura, onlybreakingbad, Content-Necess...</td>\n",
       "      <td>1062</td>\n",
       "      <td>0</td>\n",
       "      <td>SoDakZak</td>\n",
       "    </tr>\n",
       "  </tbody>\n",
       "</table>\n",
       "</div>"
      ],
      "text/plain": [
       "    parent_id  ... parent_author\n",
       "0  t1_h0csj8y  ...           NaN\n",
       "1  t1_gl35xpy  ...           NaN\n",
       "2  t1_golywrq  ...           NaN\n",
       "3  t1_fkifvew  ...           NaN\n",
       "4  t1_gkqb2tu  ...      SoDakZak\n",
       "\n",
       "[5 rows x 5 columns]"
      ]
     },
     "execution_count": 25,
     "metadata": {},
     "output_type": "execute_result"
    }
   ],
   "source": [
    "complete_df.head()"
   ]
  },
  {
   "cell_type": "code",
   "execution_count": 14,
   "metadata": {},
   "outputs": [],
   "source": [
    "complete_df.to_csv('complete_df_final.csv')"
   ]
  },
  {
   "cell_type": "markdown",
   "metadata": {},
   "source": [
    "<h1>For Confusion matrix</h1>"
   ]
  },
  {
   "cell_type": "code",
   "execution_count": 15,
   "metadata": {},
   "outputs": [],
   "source": [
    "# confusion matrix\n",
    "no_idea_comment, main_post_comment, comment_comment = confusion_matrix(complete_df)"
   ]
  },
  {
   "cell_type": "markdown",
   "metadata": {},
   "source": [
    "<h1> For type table</h1>"
   ]
  },
  {
   "cell_type": "code",
   "execution_count": 16,
   "metadata": {},
   "outputs": [],
   "source": [
    "# get the type table\n",
    "type_table, post_only, post_comment, main_post_comment_only, comment_comment_only, no_idea_comment_only = get_type_table(complete_df, no_idea_comment, main_post_comment, comment_comment)"
   ]
  },
  {
   "cell_type": "code",
   "execution_count": 17,
   "metadata": {},
   "outputs": [],
   "source": [
    "# save the type table\n",
    "type_table.to_csv('type_table_final.csv')"
   ]
  },
  {
   "cell_type": "markdown",
   "metadata": {},
   "source": [
    "<h1>For type dataframe</h1>"
   ]
  },
  {
   "cell_type": "code",
   "execution_count": 18,
   "metadata": {},
   "outputs": [],
   "source": [
    "type_df = get_type_df(post_only, post_comment, main_post_comment_only, comment_comment_only, no_idea_comment_only)"
   ]
  },
  {
   "cell_type": "code",
   "execution_count": 19,
   "metadata": {},
   "outputs": [],
   "source": [
    "# save the type_dataframe\n",
    "type_df.to_csv('type_df_final.csv')"
   ]
  },
  {
   "cell_type": "markdown",
   "metadata": {},
   "source": [
    "<h1>Concat the bot</h1>"
   ]
  },
  {
   "cell_type": "code",
   "execution_count": 20,
   "metadata": {},
   "outputs": [
    {
     "data": {
      "text/html": [
       "<div>\n",
       "<style scoped>\n",
       "    .dataframe tbody tr th:only-of-type {\n",
       "        vertical-align: middle;\n",
       "    }\n",
       "\n",
       "    .dataframe tbody tr th {\n",
       "        vertical-align: top;\n",
       "    }\n",
       "\n",
       "    .dataframe thead th {\n",
       "        text-align: right;\n",
       "    }\n",
       "</style>\n",
       "<table border=\"1\" class=\"dataframe\">\n",
       "  <thead>\n",
       "    <tr style=\"text-align: right;\">\n",
       "      <th></th>\n",
       "      <th>Unnamed: 0</th>\n",
       "      <th>id</th>\n",
       "      <th>author</th>\n",
       "      <th>title</th>\n",
       "      <th>created_utc</th>\n",
       "      <th>is_bot</th>\n",
       "      <th>link_id</th>\n",
       "      <th>parent_id</th>\n",
       "    </tr>\n",
       "  </thead>\n",
       "  <tbody>\n",
       "    <tr>\n",
       "      <th>0</th>\n",
       "      <td>854</td>\n",
       "      <td>mhv3i6</td>\n",
       "      <td>Tea_Bot278</td>\n",
       "      <td>c'mon fortnite</td>\n",
       "      <td>1.617283e+09</td>\n",
       "      <td>True</td>\n",
       "      <td>NaN</td>\n",
       "      <td>NaN</td>\n",
       "    </tr>\n",
       "    <tr>\n",
       "      <th>1</th>\n",
       "      <td>3546</td>\n",
       "      <td>mioer6</td>\n",
       "      <td>Your_wifes_bfNOTaBOT</td>\n",
       "      <td>I think my stonks are broke not moving up or d...</td>\n",
       "      <td>1.617383e+09</td>\n",
       "      <td>True</td>\n",
       "      <td>NaN</td>\n",
       "      <td>NaN</td>\n",
       "    </tr>\n",
       "    <tr>\n",
       "      <th>2</th>\n",
       "      <td>17089</td>\n",
       "      <td>mpeebo</td>\n",
       "      <td>Con_Bot_</td>\n",
       "      <td>GEO short</td>\n",
       "      <td>1.618236e+09</td>\n",
       "      <td>True</td>\n",
       "      <td>NaN</td>\n",
       "      <td>NaN</td>\n",
       "    </tr>\n",
       "    <tr>\n",
       "      <th>3</th>\n",
       "      <td>31579</td>\n",
       "      <td>muma0v</td>\n",
       "      <td>ShotBot</td>\n",
       "      <td>DONT FORGET CHAMATH EVIL SCAM GOBLIN</td>\n",
       "      <td>1.618909e+09</td>\n",
       "      <td>True</td>\n",
       "      <td>NaN</td>\n",
       "      <td>NaN</td>\n",
       "    </tr>\n",
       "    <tr>\n",
       "      <th>4</th>\n",
       "      <td>45598</td>\n",
       "      <td>n0mhc6</td>\n",
       "      <td>BotDamian</td>\n",
       "      <td>How to start with trading? Books, Websites, Ex...</td>\n",
       "      <td>1.619638e+09</td>\n",
       "      <td>True</td>\n",
       "      <td>NaN</td>\n",
       "      <td>NaN</td>\n",
       "    </tr>\n",
       "  </tbody>\n",
       "</table>\n",
       "</div>"
      ],
      "text/plain": [
       "   Unnamed: 0      id                author  ... is_bot  link_id  parent_id\n",
       "0         854  mhv3i6            Tea_Bot278  ...   True      NaN        NaN\n",
       "1        3546  mioer6  Your_wifes_bfNOTaBOT  ...   True      NaN        NaN\n",
       "2       17089  mpeebo              Con_Bot_  ...   True      NaN        NaN\n",
       "3       31579  muma0v               ShotBot  ...   True      NaN        NaN\n",
       "4       45598  n0mhc6             BotDamian  ...   True      NaN        NaN\n",
       "\n",
       "[5 rows x 8 columns]"
      ]
     },
     "execution_count": 20,
     "metadata": {},
     "output_type": "execute_result"
    }
   ],
   "source": [
    "t3_bot = pd.read_csv('/Users/victor/Desktop/CS/UST_summer/all_posts_bot_final.csv')\n",
    "extracted_cols_bot = pd.read_csv('/Users/victor/Desktop/CS/UST_summer/bot_extracted_cols_final.csv')\n",
    "\n",
    "all_bot = pd.concat([t3_bot, extracted_cols_bot])\n",
    "all_bot = all_bot.drop_duplicates()\n",
    "all_bot.head()"
   ]
  },
  {
   "cell_type": "code",
   "execution_count": 21,
   "metadata": {},
   "outputs": [],
   "source": [
    "all_bot.to_csv('all_bot_final.csv')"
   ]
  },
  {
   "cell_type": "code",
   "execution_count": null,
   "metadata": {},
   "outputs": [],
   "source": [
    "def count(dataframe):\n",
    "    count_df = dataframe.groupby(dataframe.author.tolist()).size().reset_index().rename(columns={0:'count'})\n",
    "    \n",
    "    count_df = count_df.drop_duplicates()\n",
    "    \n",
    "    return count_df['author', 'count']"
   ]
  }
 ],
 "metadata": {
  "kernelspec": {
   "display_name": "Python 3.9.12",
   "language": "python",
   "name": "python3"
  },
  "language_info": {
   "codemirror_mode": {
    "name": "ipython",
    "version": 3
   },
   "file_extension": ".py",
   "mimetype": "text/x-python",
   "name": "python",
   "nbconvert_exporter": "python",
   "pygments_lexer": "ipython3",
   "version": "3.9.12"
  },
  "orig_nbformat": 4,
  "vscode": {
   "interpreter": {
    "hash": "864791b727c67594ba35b846e2fef3ab0cf2138c660c288cb4b982d81a4cb57f"
   }
  }
 },
 "nbformat": 4,
 "nbformat_minor": 2
}
